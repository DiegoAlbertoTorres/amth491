{
 "cells": [
  {
   "cell_type": "code",
   "execution_count": 49,
   "metadata": {
    "collapsed": false
   },
   "outputs": [
    {
     "name": "stdout",
     "output_type": "stream",
     "text": [
      "Mpmath settings:\n",
      "  mp.prec = 76                [default: 53]\n",
      "  mp.dps = 22                 [default: 15]\n",
      "  mp.trap_complex = False     [default: False]\n"
     ]
    }
   ],
   "source": [
    "%matplotlib inline\n",
    "\n",
    "import numpy as np\n",
    "import matplotlib.pyplot as plt\n",
    "import matplotlib.pylab as pylab\n",
    "import scipy.optimize as optimize \n",
    "import scipy.fftpack as fftpack\n",
    "import scipy.signal as signal \n",
    "import scipy.interpolate as interpolate\n",
    "import types\n",
    "import algopy\n",
    "import lmfit\n",
    "# Magic\n",
    "import mpmath as mp\n",
    "\n",
    "mp.mp.dps = 22\n",
    "mp.mp.pretty=True\n",
    "print(mp.mp)\n",
    "\n",
    "pylab.rcParams['figure.figsize'] = (15.0, 3.0)\n",
    "pylab.rcParams['axes.facecolor'] = 'lightgray'"
   ]
  },
  {
   "cell_type": "code",
   "execution_count": 50,
   "metadata": {
    "collapsed": true
   },
   "outputs": [],
   "source": [
    "# vmpsub = np.vectorize(mp.fsub)\n",
    "vmpexp = np.vectorize(mp.exp)\n",
    "vmpsqrt = np.vectorize(mp.sqrt)\n",
    "vmpfabs = np.vectorize(mp.fabs)\n",
    "\n",
    "def mpToNp(mparr):\n",
    "    return np.asarray([np.float64(x) for x in mparr])\n",
    "\n",
    "def mpMean(arr):\n",
    "    sum = mp.mpf(0.0)\n",
    "    for i in arr:\n",
    "        sum += i\n",
    "    return  sum / len(arr)"
   ]
  },
  {
   "cell_type": "code",
   "execution_count": 51,
   "metadata": {
    "collapsed": false
   },
   "outputs": [],
   "source": [
    "def gauss(x, mu, sigma, amplitude): \n",
    "    return amplitude * vmpexp( - ((x - np.asarray([mu])) ** 2) / (2 * (sigma**2) ))\n",
    "\n",
    "def per_gauss(wl, sigma, minWl, maxWl, period, amplitude):\n",
    "    result = mp.mpf(0.0);\n",
    "    for i in range(0, int((maxWl-minWl) / period)):\n",
    "        result += gauss(wl, minWl + (i * period), sigma, amplitude)\n",
    "    return result\n",
    "\n",
    "# x = mp.linspace(0, 10, 100)\n",
    "# y = per_gauss(x, 0.1, 1, 9, 1, 100)\n",
    "# plt.plot(x, y)\n",
    "# print(lol)"
   ]
  },
  {
   "cell_type": "code",
   "execution_count": 52,
   "metadata": {
    "collapsed": false
   },
   "outputs": [],
   "source": [
    "class Spectrograph:\n",
    "    def __init__(self, xres, bgrNoiseMu, bgrNoiseSD, minWl, maxWl, precision):\n",
    "        self.xres = mp.mpf(xres)\n",
    "        self.bgrNoiseMu = mp.mpf(bgrNoiseMu)\n",
    "        self.bgrNoiseSD = mp.mpf(bgrNoiseSD)\n",
    "        self.minWl = mp.mpf(minWl)\n",
    "        self.maxWl = mp.mpf(maxWl)\n",
    "        self.precision = mp.mpf(precision)\n",
    "    def activate(self, lfc):\n",
    "        x = np.asarray(mp.linspace(self.minWl, self.maxWl, self.xres))\n",
    "        bgrNoise = np.random.normal(self.bgrNoiseMu, self.bgrNoiseSD, len(x)).astype(mp.mpf) # Background noise\n",
    "        bgrNoise[bgrNoise < 0.0] = 0.0\n",
    "\n",
    "        # Lfc\n",
    "        lfcReading = lfc.simulate(x, lfc.sigma, lfc.minWl, lfc.maxWl, lfc.dWl, lfc.intensity) # LFC\n",
    "        # Also add shot noise. Noise is proportional to the square root of the intensity\n",
    "        tempReading = mpToNp(lfcReading)\n",
    "        tempReading[tempReading == 0.00] = 0.001\n",
    "        shotNoise = np.random.normal(0, np.sqrt(tempReading) * np.float64(self.precision), len(x))\n",
    "        lfcReading += shotNoise\n",
    "\n",
    "        # Overlap inputs by adding to y\n",
    "        y = bgrNoise + lfcReading\n",
    "        return np.asarray(mp.linspace(0, self.xres, self.xres)), y\n",
    "\n",
    "class LFC:\n",
    "    def __init__(self, intensity, fhwm, minWl, maxWl, dWl):\n",
    "        self.intensity = mp.mpf(intensity)\n",
    "        self.sigma = mp.mpf(fhwm) / (2 * vmpsqrt(2 * mp.log(2))) # sd = fhwm / 2sqrt(2ln2)\n",
    "        self.minWl = mp.mpf(minWl)\n",
    "        self.maxWl = mp.mpf(maxWl)\n",
    "        self.span = self.maxWl - self.minWl\n",
    "        self.dWl = mp.mpf(dWl)\n",
    "    def getPeaks(self):\n",
    "        peaks = np.empty(0)\n",
    "        current = self.minWl;\n",
    "        while(current < self.maxWl):\n",
    "            peaks = np.append(peaks, current)\n",
    "            current += self.dWl\n",
    "        return peaks\n",
    "    def simulate(self, wlSpace, sigma, minWl, maxWl, period, amplitude):\n",
    "        y = per_gauss(wlSpace, sigma, minWl, maxWl, period, amplitude)\n",
    "        return y"
   ]
  },
  {
   "cell_type": "code",
   "execution_count": 55,
   "metadata": {
    "collapsed": false
   },
   "outputs": [],
   "source": [
    "def get_peaks(shift, lfc, n):\n",
    "    peaks = np.empty(0)\n",
    "    current = shift\n",
    "    for i in range(0, n):\n",
    "        peaks = np.append(peaks, current)\n",
    "        current += lfc.dWl\n",
    "    return peaks\n",
    "    \n",
    "def pred_error(y, pred_y, solution, prediction):\n",
    "    lse = mpMean(vmpfabs(y - pred_y))\n",
    "    error = mp.fabs(solution - prediction) / solution * mp.mpf(3e8)\n",
    "    return lse, error\n",
    "    \n",
    "def guess_min(x, y):\n",
    "    x = mpToNp(x) \n",
    "    y = mpToNp(y)\n",
    "    guess_x = x[y > 2000]\n",
    "    guess_y = y[y > 2000]\n",
    "    max_idx = signal.argrelextrema(guess_y, np.greater, order=10)\n",
    "    guess_max_x = guess_x[max_idx]\n",
    "    guess_max_y = guess_y[max_idx]\n",
    "    guess_x = guess_max_x[0]\n",
    "    guess_y = guess_max_y[0]\n",
    "    return mp.mpf(guess_x)\n",
    "\n",
    "def pix_to_wl(pix, sgraph):\n",
    "    fac = sgraph.xres / (sgraph.maxWl - sgraph.minWl)\n",
    "    return ((pix / fac) + sgraph.minWl)\n",
    "    \n",
    "def find_lfc_peaks(sgraph, lfc):\n",
    "    fac = sgraph.xres / (sgraph.maxWl - sgraph.minWl)\n",
    "    lfc_peaks = lfc.getPeaks()\n",
    "    def per_gauss_fit(wl, shift):\n",
    "        return per_gauss(wl, lfc.sigma * fac, shift, shift + ((len(peaks) - 1) * lfc.dWl * fac), lfc.dWl * fac, lfc.intensity)\n",
    "\n",
    "    print('Activating lfc...')\n",
    "    x, y = sgraph.activate(lfc)\n",
    "    \n",
    "    # Want to minimize err_func\n",
    "    err_func = lambda shift: mpMean(vmpfabs(per_gauss_fit(x, shift) - y))\n",
    "    # Hence, want to find roots of derivative\n",
    "    der_err_func = lambda x: mp.diff(err_func, x)\n",
    "    guess_x = guess_min(x, y)\n",
    "    print('initial guess for shift is:', np.asarray([guess_x])) \n",
    "    \n",
    "    print('Minimizing...')\n",
    "    pred_shift = mp.findroot(der_err_func, guess_x, tol=1e-10)\n",
    "    \n",
    "    print('pred_shift is', pred_shift)\n",
    "    solution = (lfc.minWl - sgraph.minWl) * fac\n",
    "    print('solution is', solution)\n",
    "\n",
    "    pred_y = per_gauss_fit(x, pred_shift)\n",
    "    \n",
    "    pred_shift_wl = pix_to_wl(pred_shift, sgraph)\n",
    "    print('pred_shift_wl is', pred_shift_wl)\n",
    "    print('solution_wl is', lfc.minWl)\n",
    "    pred_peaks = get_peaks(pred_shift_wl, lfc, len(lfc_peaks))\n",
    "    lse, error = pred_error(y, pred_y, lfc.minWl, pred_shift_wl)\n",
    "    print('Least squares error is ' + str(lse))\n",
    "    print('Error is: ' + str(error))\n",
    "    \n",
    "    print(lfc_peaks[0:3], lfc_peaks[-3:])\n",
    "    print(pred_peaks[0:3], pred_peaks[-3:])\n",
    "    \n",
    "    plt.scatter(x, y)\n",
    "    plt.plot(x, per_gauss_fit(x, pred_shift))\n",
    "    for peak in pred_peaks:\n",
    "        plt.axvline((peak - sgraph.minWl) * fac, color='green')\n",
    "    for peak in peaks:\n",
    "        plt.axvline((peak - sgraph.minWl) * fac, color='purple')\n",
    "    plt.axvline(guess_x, color='turquoise')\n",
    "    plt.xlim(np.float64(guess_x) - 20, np.float64(guess_x) + 75)\n",
    "    plt.show()\n",
    "    \n",
    "    return x,y"
   ]
  },
  {
   "cell_type": "code",
   "execution_count": 56,
   "metadata": {
    "collapsed": false
   },
   "outputs": [
    {
     "name": "stdout",
     "output_type": "stream",
     "text": [
      "Activating lfc...\n",
      "('initial guess for shift is:', array([579.1447861965490346847], dtype=object))\n",
      "Minimizing...\n",
      "('pred_shift is', -976.2063635109963557961)\n",
      "('solution is', 578.7365993325903253582)\n"
     ]
    },
    {
     "ename": "KeyboardInterrupt",
     "evalue": "",
     "output_type": "error",
     "traceback": [
      "\u001b[1;31m---------------------------------------------------------------------------\u001b[0m",
      "\u001b[1;31mKeyboardInterrupt\u001b[0m                         Traceback (most recent call last)",
      "\u001b[1;32m<ipython-input-56-3e81379c4f6b>\u001b[0m in \u001b[0;36m<module>\u001b[1;34m()\u001b[0m\n\u001b[1;32m----> 1\u001b[1;33m \u001b[0mget_ipython\u001b[0m\u001b[1;33m(\u001b[0m\u001b[1;33m)\u001b[0m\u001b[1;33m.\u001b[0m\u001b[0mrun_cell_magic\u001b[0m\u001b[1;33m(\u001b[0m\u001b[1;34mu'time'\u001b[0m\u001b[1;33m,\u001b[0m \u001b[1;34mu''\u001b[0m\u001b[1;33m,\u001b[0m \u001b[1;34mu'rand = mp.mpf(np.random.random(1)[0])\\n# rand = 0.0\\nlfc = LFC(20000, 0.0075, 400 + rand, 410 + rand, 0.03)\\npeaks = lfc.getPeaks()\\nsgraph = Spectrograph(4000, 1000.0, 300.0, 399.0, 411.0, 1.0)\\nfind_lfc_peaks(sgraph, lfc)'\u001b[0m\u001b[1;33m)\u001b[0m\u001b[1;33m\u001b[0m\u001b[0m\n\u001b[0m",
      "\u001b[1;32m/usr/lib/python2.7/site-packages/IPython/core/interactiveshell.pyc\u001b[0m in \u001b[0;36mrun_cell_magic\u001b[1;34m(self, magic_name, line, cell)\u001b[0m\n\u001b[0;32m   2118\u001b[0m             \u001b[0mmagic_arg_s\u001b[0m \u001b[1;33m=\u001b[0m \u001b[0mself\u001b[0m\u001b[1;33m.\u001b[0m\u001b[0mvar_expand\u001b[0m\u001b[1;33m(\u001b[0m\u001b[0mline\u001b[0m\u001b[1;33m,\u001b[0m \u001b[0mstack_depth\u001b[0m\u001b[1;33m)\u001b[0m\u001b[1;33m\u001b[0m\u001b[0m\n\u001b[0;32m   2119\u001b[0m             \u001b[1;32mwith\u001b[0m \u001b[0mself\u001b[0m\u001b[1;33m.\u001b[0m\u001b[0mbuiltin_trap\u001b[0m\u001b[1;33m:\u001b[0m\u001b[1;33m\u001b[0m\u001b[0m\n\u001b[1;32m-> 2120\u001b[1;33m                 \u001b[0mresult\u001b[0m \u001b[1;33m=\u001b[0m \u001b[0mfn\u001b[0m\u001b[1;33m(\u001b[0m\u001b[0mmagic_arg_s\u001b[0m\u001b[1;33m,\u001b[0m \u001b[0mcell\u001b[0m\u001b[1;33m)\u001b[0m\u001b[1;33m\u001b[0m\u001b[0m\n\u001b[0m\u001b[0;32m   2121\u001b[0m             \u001b[1;32mreturn\u001b[0m \u001b[0mresult\u001b[0m\u001b[1;33m\u001b[0m\u001b[0m\n\u001b[0;32m   2122\u001b[0m \u001b[1;33m\u001b[0m\u001b[0m\n",
      "\u001b[1;32m<decorator-gen-60>\u001b[0m in \u001b[0;36mtime\u001b[1;34m(self, line, cell, local_ns)\u001b[0m\n",
      "\u001b[1;32m/usr/lib/python2.7/site-packages/IPython/core/magic.pyc\u001b[0m in \u001b[0;36m<lambda>\u001b[1;34m(f, *a, **k)\u001b[0m\n\u001b[0;32m    191\u001b[0m     \u001b[1;31m# but it's overkill for just that one bit of state.\u001b[0m\u001b[1;33m\u001b[0m\u001b[1;33m\u001b[0m\u001b[0m\n\u001b[0;32m    192\u001b[0m     \u001b[1;32mdef\u001b[0m \u001b[0mmagic_deco\u001b[0m\u001b[1;33m(\u001b[0m\u001b[0marg\u001b[0m\u001b[1;33m)\u001b[0m\u001b[1;33m:\u001b[0m\u001b[1;33m\u001b[0m\u001b[0m\n\u001b[1;32m--> 193\u001b[1;33m         \u001b[0mcall\u001b[0m \u001b[1;33m=\u001b[0m \u001b[1;32mlambda\u001b[0m \u001b[0mf\u001b[0m\u001b[1;33m,\u001b[0m \u001b[1;33m*\u001b[0m\u001b[0ma\u001b[0m\u001b[1;33m,\u001b[0m \u001b[1;33m**\u001b[0m\u001b[0mk\u001b[0m\u001b[1;33m:\u001b[0m \u001b[0mf\u001b[0m\u001b[1;33m(\u001b[0m\u001b[1;33m*\u001b[0m\u001b[0ma\u001b[0m\u001b[1;33m,\u001b[0m \u001b[1;33m**\u001b[0m\u001b[0mk\u001b[0m\u001b[1;33m)\u001b[0m\u001b[1;33m\u001b[0m\u001b[0m\n\u001b[0m\u001b[0;32m    194\u001b[0m \u001b[1;33m\u001b[0m\u001b[0m\n\u001b[0;32m    195\u001b[0m         \u001b[1;32mif\u001b[0m \u001b[0mcallable\u001b[0m\u001b[1;33m(\u001b[0m\u001b[0marg\u001b[0m\u001b[1;33m)\u001b[0m\u001b[1;33m:\u001b[0m\u001b[1;33m\u001b[0m\u001b[0m\n",
      "\u001b[1;32m/usr/lib/python2.7/site-packages/IPython/core/magics/execution.pyc\u001b[0m in \u001b[0;36mtime\u001b[1;34m(self, line, cell, local_ns)\u001b[0m\n\u001b[0;32m   1175\u001b[0m         \u001b[1;32melse\u001b[0m\u001b[1;33m:\u001b[0m\u001b[1;33m\u001b[0m\u001b[0m\n\u001b[0;32m   1176\u001b[0m             \u001b[0mst\u001b[0m \u001b[1;33m=\u001b[0m \u001b[0mclock2\u001b[0m\u001b[1;33m(\u001b[0m\u001b[1;33m)\u001b[0m\u001b[1;33m\u001b[0m\u001b[0m\n\u001b[1;32m-> 1177\u001b[1;33m             \u001b[1;32mexec\u001b[0m\u001b[1;33m(\u001b[0m\u001b[0mcode\u001b[0m\u001b[1;33m,\u001b[0m \u001b[0mglob\u001b[0m\u001b[1;33m,\u001b[0m \u001b[0mlocal_ns\u001b[0m\u001b[1;33m)\u001b[0m\u001b[1;33m\u001b[0m\u001b[0m\n\u001b[0m\u001b[0;32m   1178\u001b[0m             \u001b[0mend\u001b[0m \u001b[1;33m=\u001b[0m \u001b[0mclock2\u001b[0m\u001b[1;33m(\u001b[0m\u001b[1;33m)\u001b[0m\u001b[1;33m\u001b[0m\u001b[0m\n\u001b[0;32m   1179\u001b[0m             \u001b[0mout\u001b[0m \u001b[1;33m=\u001b[0m \u001b[0mNone\u001b[0m\u001b[1;33m\u001b[0m\u001b[0m\n",
      "\u001b[1;32m<timed exec>\u001b[0m in \u001b[0;36m<module>\u001b[1;34m()\u001b[0m\n",
      "\u001b[1;32m<ipython-input-55-dc049337eaf2>\u001b[0m in \u001b[0;36mfind_lfc_peaks\u001b[1;34m(sgraph, lfc)\u001b[0m\n\u001b[0;32m     51\u001b[0m     \u001b[1;32mprint\u001b[0m\u001b[1;33m(\u001b[0m\u001b[1;34m'solution is'\u001b[0m\u001b[1;33m,\u001b[0m \u001b[0msolution\u001b[0m\u001b[1;33m)\u001b[0m\u001b[1;33m\u001b[0m\u001b[0m\n\u001b[0;32m     52\u001b[0m \u001b[1;33m\u001b[0m\u001b[0m\n\u001b[1;32m---> 53\u001b[1;33m     \u001b[0mpred_y\u001b[0m \u001b[1;33m=\u001b[0m \u001b[0mper_gauss_fit\u001b[0m\u001b[1;33m(\u001b[0m\u001b[0mx\u001b[0m\u001b[1;33m,\u001b[0m \u001b[0mpred_shift\u001b[0m\u001b[1;33m)\u001b[0m\u001b[1;33m\u001b[0m\u001b[0m\n\u001b[0m\u001b[0;32m     54\u001b[0m \u001b[1;33m\u001b[0m\u001b[0m\n\u001b[0;32m     55\u001b[0m     \u001b[0mpred_shift_wl\u001b[0m \u001b[1;33m=\u001b[0m \u001b[0mpix_to_wl\u001b[0m\u001b[1;33m(\u001b[0m\u001b[0mpred_shift\u001b[0m\u001b[1;33m,\u001b[0m \u001b[0msgraph\u001b[0m\u001b[1;33m)\u001b[0m\u001b[1;33m\u001b[0m\u001b[0m\n",
      "\u001b[1;32m<ipython-input-55-dc049337eaf2>\u001b[0m in \u001b[0;36mper_gauss_fit\u001b[1;34m(wl, shift)\u001b[0m\n\u001b[0;32m     32\u001b[0m     \u001b[0mlfc_peaks\u001b[0m \u001b[1;33m=\u001b[0m \u001b[0mlfc\u001b[0m\u001b[1;33m.\u001b[0m\u001b[0mgetPeaks\u001b[0m\u001b[1;33m(\u001b[0m\u001b[1;33m)\u001b[0m\u001b[1;33m\u001b[0m\u001b[0m\n\u001b[0;32m     33\u001b[0m     \u001b[1;32mdef\u001b[0m \u001b[0mper_gauss_fit\u001b[0m\u001b[1;33m(\u001b[0m\u001b[0mwl\u001b[0m\u001b[1;33m,\u001b[0m \u001b[0mshift\u001b[0m\u001b[1;33m)\u001b[0m\u001b[1;33m:\u001b[0m\u001b[1;33m\u001b[0m\u001b[0m\n\u001b[1;32m---> 34\u001b[1;33m         \u001b[1;32mreturn\u001b[0m \u001b[0mper_gauss\u001b[0m\u001b[1;33m(\u001b[0m\u001b[0mwl\u001b[0m\u001b[1;33m,\u001b[0m \u001b[0mlfc\u001b[0m\u001b[1;33m.\u001b[0m\u001b[0msigma\u001b[0m \u001b[1;33m*\u001b[0m \u001b[0mfac\u001b[0m\u001b[1;33m,\u001b[0m \u001b[0mshift\u001b[0m\u001b[1;33m,\u001b[0m \u001b[0mshift\u001b[0m \u001b[1;33m+\u001b[0m \u001b[1;33m(\u001b[0m\u001b[1;33m(\u001b[0m\u001b[0mlen\u001b[0m\u001b[1;33m(\u001b[0m\u001b[0mpeaks\u001b[0m\u001b[1;33m)\u001b[0m \u001b[1;33m-\u001b[0m \u001b[1;36m1\u001b[0m\u001b[1;33m)\u001b[0m \u001b[1;33m*\u001b[0m \u001b[0mlfc\u001b[0m\u001b[1;33m.\u001b[0m\u001b[0mdWl\u001b[0m \u001b[1;33m*\u001b[0m \u001b[0mfac\u001b[0m\u001b[1;33m)\u001b[0m\u001b[1;33m,\u001b[0m \u001b[0mlfc\u001b[0m\u001b[1;33m.\u001b[0m\u001b[0mdWl\u001b[0m \u001b[1;33m*\u001b[0m \u001b[0mfac\u001b[0m\u001b[1;33m,\u001b[0m \u001b[0mlfc\u001b[0m\u001b[1;33m.\u001b[0m\u001b[0mintensity\u001b[0m\u001b[1;33m)\u001b[0m\u001b[1;33m\u001b[0m\u001b[0m\n\u001b[0m\u001b[0;32m     35\u001b[0m \u001b[1;33m\u001b[0m\u001b[0m\n\u001b[0;32m     36\u001b[0m     \u001b[1;32mprint\u001b[0m\u001b[1;33m(\u001b[0m\u001b[1;34m'Activating lfc...'\u001b[0m\u001b[1;33m)\u001b[0m\u001b[1;33m\u001b[0m\u001b[0m\n",
      "\u001b[1;32m<ipython-input-51-1b08c71f8f39>\u001b[0m in \u001b[0;36mper_gauss\u001b[1;34m(wl, sigma, minWl, maxWl, period, amplitude)\u001b[0m\n\u001b[0;32m      5\u001b[0m     \u001b[0mresult\u001b[0m \u001b[1;33m=\u001b[0m \u001b[0mmp\u001b[0m\u001b[1;33m.\u001b[0m\u001b[0mmpf\u001b[0m\u001b[1;33m(\u001b[0m\u001b[1;36m0.0\u001b[0m\u001b[1;33m)\u001b[0m\u001b[1;33m;\u001b[0m\u001b[1;33m\u001b[0m\u001b[0m\n\u001b[0;32m      6\u001b[0m     \u001b[1;32mfor\u001b[0m \u001b[0mi\u001b[0m \u001b[1;32min\u001b[0m \u001b[0mrange\u001b[0m\u001b[1;33m(\u001b[0m\u001b[1;36m0\u001b[0m\u001b[1;33m,\u001b[0m \u001b[0mint\u001b[0m\u001b[1;33m(\u001b[0m\u001b[1;33m(\u001b[0m\u001b[0mmaxWl\u001b[0m\u001b[1;33m-\u001b[0m\u001b[0mminWl\u001b[0m\u001b[1;33m)\u001b[0m \u001b[1;33m/\u001b[0m \u001b[0mperiod\u001b[0m\u001b[1;33m)\u001b[0m\u001b[1;33m)\u001b[0m\u001b[1;33m:\u001b[0m\u001b[1;33m\u001b[0m\u001b[0m\n\u001b[1;32m----> 7\u001b[1;33m         \u001b[0mresult\u001b[0m \u001b[1;33m+=\u001b[0m \u001b[0mgauss\u001b[0m\u001b[1;33m(\u001b[0m\u001b[0mwl\u001b[0m\u001b[1;33m,\u001b[0m \u001b[0mminWl\u001b[0m \u001b[1;33m+\u001b[0m \u001b[1;33m(\u001b[0m\u001b[0mi\u001b[0m \u001b[1;33m*\u001b[0m \u001b[0mperiod\u001b[0m\u001b[1;33m)\u001b[0m\u001b[1;33m,\u001b[0m \u001b[0msigma\u001b[0m\u001b[1;33m,\u001b[0m \u001b[0mamplitude\u001b[0m\u001b[1;33m)\u001b[0m\u001b[1;33m\u001b[0m\u001b[0m\n\u001b[0m\u001b[0;32m      8\u001b[0m     \u001b[1;32mreturn\u001b[0m \u001b[0mresult\u001b[0m\u001b[1;33m\u001b[0m\u001b[0m\n\u001b[0;32m      9\u001b[0m \u001b[1;33m\u001b[0m\u001b[0m\n",
      "\u001b[1;32m<ipython-input-51-1b08c71f8f39>\u001b[0m in \u001b[0;36mgauss\u001b[1;34m(x, mu, sigma, amplitude)\u001b[0m\n\u001b[0;32m      1\u001b[0m \u001b[1;32mdef\u001b[0m \u001b[0mgauss\u001b[0m\u001b[1;33m(\u001b[0m\u001b[0mx\u001b[0m\u001b[1;33m,\u001b[0m \u001b[0mmu\u001b[0m\u001b[1;33m,\u001b[0m \u001b[0msigma\u001b[0m\u001b[1;33m,\u001b[0m \u001b[0mamplitude\u001b[0m\u001b[1;33m)\u001b[0m\u001b[1;33m:\u001b[0m\u001b[1;33m\u001b[0m\u001b[0m\n\u001b[1;32m----> 2\u001b[1;33m     \u001b[1;32mreturn\u001b[0m \u001b[0mamplitude\u001b[0m \u001b[1;33m*\u001b[0m \u001b[0mvmpexp\u001b[0m\u001b[1;33m(\u001b[0m \u001b[1;33m-\u001b[0m \u001b[1;33m(\u001b[0m\u001b[1;33m(\u001b[0m\u001b[0mx\u001b[0m \u001b[1;33m-\u001b[0m \u001b[0mnp\u001b[0m\u001b[1;33m.\u001b[0m\u001b[0masarray\u001b[0m\u001b[1;33m(\u001b[0m\u001b[1;33m[\u001b[0m\u001b[0mmu\u001b[0m\u001b[1;33m]\u001b[0m\u001b[1;33m)\u001b[0m\u001b[1;33m)\u001b[0m \u001b[1;33m**\u001b[0m \u001b[1;36m2\u001b[0m\u001b[1;33m)\u001b[0m \u001b[1;33m/\u001b[0m \u001b[1;33m(\u001b[0m\u001b[1;36m2\u001b[0m \u001b[1;33m*\u001b[0m \u001b[1;33m(\u001b[0m\u001b[0msigma\u001b[0m\u001b[1;33m**\u001b[0m\u001b[1;36m2\u001b[0m\u001b[1;33m)\u001b[0m \u001b[1;33m)\u001b[0m\u001b[1;33m)\u001b[0m\u001b[1;33m\u001b[0m\u001b[0m\n\u001b[0m\u001b[0;32m      3\u001b[0m \u001b[1;33m\u001b[0m\u001b[0m\n\u001b[0;32m      4\u001b[0m \u001b[1;32mdef\u001b[0m \u001b[0mper_gauss\u001b[0m\u001b[1;33m(\u001b[0m\u001b[0mwl\u001b[0m\u001b[1;33m,\u001b[0m \u001b[0msigma\u001b[0m\u001b[1;33m,\u001b[0m \u001b[0mminWl\u001b[0m\u001b[1;33m,\u001b[0m \u001b[0mmaxWl\u001b[0m\u001b[1;33m,\u001b[0m \u001b[0mperiod\u001b[0m\u001b[1;33m,\u001b[0m \u001b[0mamplitude\u001b[0m\u001b[1;33m)\u001b[0m\u001b[1;33m:\u001b[0m\u001b[1;33m\u001b[0m\u001b[0m\n\u001b[0;32m      5\u001b[0m     \u001b[0mresult\u001b[0m \u001b[1;33m=\u001b[0m \u001b[0mmp\u001b[0m\u001b[1;33m.\u001b[0m\u001b[0mmpf\u001b[0m\u001b[1;33m(\u001b[0m\u001b[1;36m0.0\u001b[0m\u001b[1;33m)\u001b[0m\u001b[1;33m;\u001b[0m\u001b[1;33m\u001b[0m\u001b[0m\n",
      "\u001b[1;32m/usr/lib/python2.7/site-packages/mpmath/ctx_mp_python.pyc\u001b[0m in \u001b[0;36m__div__\u001b[1;34m(self, other)\u001b[0m\n",
      "\u001b[1;32m/usr/lib/python2.7/site-packages/mpmath/libmp/libmpf.pyc\u001b[0m in \u001b[0;36mmpf_div\u001b[1;34m(s, t, prec, rnd)\u001b[0m\n\u001b[0;32m    950\u001b[0m     \u001b[1;31m# the result a few bits outside the precision range before rounding\u001b[0m\u001b[1;33m\u001b[0m\u001b[1;33m\u001b[0m\u001b[0m\n\u001b[0;32m    951\u001b[0m     \u001b[0mextra\u001b[0m \u001b[1;33m=\u001b[0m \u001b[0mprec\u001b[0m \u001b[1;33m-\u001b[0m \u001b[0msbc\u001b[0m \u001b[1;33m+\u001b[0m \u001b[0mtbc\u001b[0m \u001b[1;33m+\u001b[0m \u001b[1;36m5\u001b[0m\u001b[1;33m\u001b[0m\u001b[0m\n\u001b[1;32m--> 952\u001b[1;33m     \u001b[1;32mif\u001b[0m \u001b[0mextra\u001b[0m \u001b[1;33m<\u001b[0m \u001b[1;36m5\u001b[0m\u001b[1;33m:\u001b[0m\u001b[1;33m\u001b[0m\u001b[0m\n\u001b[0m\u001b[0;32m    953\u001b[0m         \u001b[0mextra\u001b[0m \u001b[1;33m=\u001b[0m \u001b[1;36m5\u001b[0m\u001b[1;33m\u001b[0m\u001b[0m\n\u001b[0;32m    954\u001b[0m     \u001b[0mquot\u001b[0m\u001b[1;33m,\u001b[0m \u001b[0mrem\u001b[0m \u001b[1;33m=\u001b[0m \u001b[0mdivmod\u001b[0m\u001b[1;33m(\u001b[0m\u001b[0msman\u001b[0m\u001b[1;33m<<\u001b[0m\u001b[0mextra\u001b[0m\u001b[1;33m,\u001b[0m \u001b[0mtman\u001b[0m\u001b[1;33m)\u001b[0m\u001b[1;33m\u001b[0m\u001b[0m\n",
      "\u001b[1;31mKeyboardInterrupt\u001b[0m: "
     ]
    }
   ],
   "source": [
    "%%time\n",
    "rand = mp.mpf(np.random.random(1)[0])\n",
    "# rand = 0.0\n",
    "lfc = LFC(20000, 0.0075, 400 + rand, 410 + rand, 0.03)\n",
    "peaks = lfc.getPeaks()\n",
    "sgraph = Spectrograph(4000, 1000.0, 300.0, 399.0, 411.0, 1.0)\n",
    "find_lfc_peaks(sgraph, lfc)"
   ]
  },
  {
   "cell_type": "code",
   "execution_count": 272,
   "metadata": {
    "collapsed": false
   },
   "outputs": [
    {
     "data": {
      "image/png": "[encoded data removed]",
      "text/plain": [
       "<matplotlib.figure.Figure at 0x7fa516e27b10>"
      ]
     },
     "metadata": {},
     "output_type": "display_data"
    },
    {
     "data": {
      "text/plain": [
       "<matplotlib.figure.Figure at 0x7fa5158394d0>"
      ]
     },
     "metadata": {},
     "output_type": "display_data"
    }
   ],
   "source": [
    "plt.scatter([0,1,2], [0,1,2])\n",
    "fig = plt.figure()\n",
    "# fig.show()"
   ]
  },
  {
   "cell_type": "code",
   "execution_count": 273,
   "metadata": {
    "collapsed": false
   },
   "outputs": [
    {
     "ename": "AttributeError",
     "evalue": "'Figure' object has no attribute 'xlim'",
     "output_type": "error",
     "traceback": [
      "\u001b[1;31m---------------------------------------------------------------------------\u001b[0m",
      "\u001b[1;31mAttributeError\u001b[0m                            Traceback (most recent call last)",
      "\u001b[1;32m<ipython-input-273-28e0894c761f>\u001b[0m in \u001b[0;36m<module>\u001b[1;34m()\u001b[0m\n\u001b[1;32m----> 1\u001b[1;33m \u001b[0mfig\u001b[0m\u001b[1;33m.\u001b[0m\u001b[0mxlim\u001b[0m\u001b[1;33m(\u001b[0m\u001b[1;36m0\u001b[0m\u001b[1;33m,\u001b[0m \u001b[1;36m1\u001b[0m\u001b[1;33m)\u001b[0m\u001b[1;33m\u001b[0m\u001b[0m\n\u001b[0m",
      "\u001b[1;31mAttributeError\u001b[0m: 'Figure' object has no attribute 'xlim'"
     ]
    }
   ],
   "source": [
    "fig.xlim(0, 1)"
   ]
  },
  {
   "cell_type": "code",
   "execution_count": null,
   "metadata": {
    "collapsed": true
   },
   "outputs": [],
   "source": []
  }
 ],
 "metadata": {
  "kernelspec": {
   "display_name": "Python 2",
   "language": "python",
   "name": "python2"
  },
  "language_info": {
   "codemirror_mode": {
    "name": "ipython",
    "version": 2
   },
   "file_extension": ".py",
   "mimetype": "text/x-python",
   "name": "python",
   "nbconvert_exporter": "python",
   "pygments_lexer": "ipython2",
   "version": "2.7.11"
  }
 },
 "nbformat": 4,
 "nbformat_minor": 0
}
