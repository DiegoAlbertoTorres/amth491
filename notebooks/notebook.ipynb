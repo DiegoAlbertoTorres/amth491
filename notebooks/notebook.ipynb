{
 "cells": [
  {
   "cell_type": "code",
   "execution_count": 36,
   "metadata": {
    "collapsed": false
   },
   "outputs": [],
   "source": [
    "%matplotlib inline\n",
    "\n",
    "import numpy as np\n",
    "import matplotlib.pyplot as plt\n",
    "import matplotlib.pylab as pylab\n",
    "import scipy.optimize as optimize \n",
    "import scipy.fftpack as fftpack\n",
    "import scipy.signal as signal \n",
    "import scipy.interpolate as interpolate\n",
    "import types\n",
    "import algopy\n",
    "import lmfit\n",
    "\n",
    "import mpmath\n",
    "\n",
    "pylab.rcParams['figure.figsize'] = (15.0, 3.0)\n",
    "pylab.rcParams['axes.facecolor'] = 'lightgray'\n",
    "np.set_printoptions(precision=15)"
   ]
  },
  {
   "cell_type": "markdown",
   "metadata": {},
   "source": [
    "# Helper functions"
   ]
  },
  {
   "cell_type": "code",
   "execution_count": 37,
   "metadata": {
    "collapsed": true
   },
   "outputs": [],
   "source": [
    "def gauss(x, mu, sigma, amplitude): \n",
    "    return amplitude * np.exp( - ((x - mu) ** 2) / (2 * (sigma**2) ))\n",
    "\n",
    "def per_gauss(wl, sigma, minWl, maxWl, period, amplitude):\n",
    "    result = 0.0;\n",
    "    for i in range(0, int((maxWl-minWl) / period)):\n",
    "        result += gauss(wl, minWl + (i * period), sigma, amplitude)\n",
    "    return result"
   ]
  },
  {
   "cell_type": "markdown",
   "metadata": {},
   "source": [
    "# Classes that define simulated instruments."
   ]
  },
  {
   "cell_type": "code",
   "execution_count": 38,
   "metadata": {
    "collapsed": false,
    "scrolled": true
   },
   "outputs": [],
   "source": [
    "class Spectrograph:\n",
    "    def __init__(self, xres, bgrNoiseMu, bgrNoiseSD, minWl, maxWl, precision):\n",
    "        self.xres = xres\n",
    "        self.bgrNoiseMu = bgrNoiseMu\n",
    "        self.bgrNoiseSD = bgrNoiseSD\n",
    "        self.minWl = minWl\n",
    "        self.maxWl = maxWl\n",
    "        self.precision = precision\n",
    "    def activate(self, lfc):\n",
    "        x = np.linspace(self.minWl, self.maxWl, self.xres)\n",
    "        bgrNoise = np.random.normal(self.bgrNoiseMu, self.bgrNoiseSD, len(x)) # Background noise\n",
    "        bgrNoise[bgrNoise < 0.0] = 0.0\n",
    "\n",
    "        # Lfc\n",
    "        lfcReading = lfc.simulate(x, lfc.sigma, lfc.minWl, lfc.maxWl, lfc.dWl, lfc.intensity) # LFC\n",
    "        # Also add shot noise. Noise is proportional to the square root of the intensity\n",
    "        lfcReading[lfcReading == 0.00] = 0.001\n",
    "        shotNoise = np.random.normal(0, np.sqrt(lfcReading) * self.precision, len(x))\n",
    "        lfcReading += shotNoise\n",
    "\n",
    "        # Overlap inputs by adding to y\n",
    "        y = bgrNoise + lfcReading\n",
    "        return np.linspace(0, self.xres, self.xres), y\n",
    "\n",
    "class LFC:\n",
    "    def __init__(self, intensity, fhwm, minWl, maxWl, dWl):\n",
    "        self.intensity = intensity\n",
    "        self.sigma = fhwm / (2 * np.sqrt(2 * np.log(2))) # sd = fhwm / 2sqrt(2ln2)\n",
    "        self.minWl = minWl\n",
    "        self.maxWl = maxWl\n",
    "        self.span = self.maxWl - self.minWl\n",
    "        self.dWl = np.float64(dWl)\n",
    "    def getPeaks(self):\n",
    "        peaks = np.empty(0)\n",
    "        current = self.minWl;\n",
    "        while(current < self.maxWl):\n",
    "            peaks = np.append(peaks, current)\n",
    "            current += self.dWl\n",
    "        return peaks\n",
    "    def simulate(self, wlSpace, sigma, minWl, maxWl, period, amplitude):\n",
    "        y = per_gauss(wlSpace, sigma, minWl, maxWl, period, amplitude)\n",
    "        return y"
   ]
  },
  {
   "cell_type": "markdown",
   "metadata": {},
   "source": [
    "# Simulating the LFC"
   ]
  },
  {
   "cell_type": "markdown",
   "metadata": {},
   "source": [
    "~~**Method 1**: Getting a comb by convolving the result of a gaussian and a delta function on the same linear space. Note that the result convolution is a set of points, not a function. Need high initial resolution to then use this as a 'real world' baseline.~~"
   ]
  },
  {
   "cell_type": "code",
   "execution_count": 39,
   "metadata": {
    "collapsed": false
   },
   "outputs": [],
   "source": [
    "# x = np.arange(-1, 1, 0.001)\n",
    "# y_gauss = vgauss(x, 0, 0.01, 1)\n",
    "\n",
    "# # The world's resolution\n",
    "# res = 30000\n",
    "# y_delta = np.repeat(0, res)\n",
    "# for i in range(0, len(y_delta)):\n",
    "#      if (i % (res * lfc.dWl / lfc.span)) == 0:\n",
    "#          y_delta[i] = 1\n",
    "# conv = np.convolve(y_gauss, y_delta, 'same')\n",
    "# plt.scatter(np.linspace(lfc.minWl, lfc.maxWl, res), conv)\n",
    "# # plt.xlim(400, 450)\n",
    "# pylab.rcParams['figure.figsize'] = (15.0, 2.0)\n",
    "# plt.show()"
   ]
  },
  {
   "cell_type": "markdown",
   "metadata": {},
   "source": [
    "**Method 2**: Adding a series of gaussians together to simulate a comb. Current implementation of the LFC class (Code is now part of the LFC class)."
   ]
  },
  {
   "cell_type": "markdown",
   "metadata": {},
   "source": [
    "# Finding maxima"
   ]
  },
  {
   "cell_type": "markdown",
   "metadata": {},
   "source": [
    "~~**Method 1**: Fitting |tan(x)|~~"
   ]
  },
  {
   "cell_type": "code",
   "execution_count": 40,
   "metadata": {
    "collapsed": false
   },
   "outputs": [],
   "source": [
    "# def absTan(x, a, b):\n",
    "#     return np.absolute(a * np.tan(b * x))\n",
    "    \n",
    "# x, y = sgraph.activate(lfc)\n",
    "# # plt.scatter(x, y)\n",
    "# # print(x)\n",
    "# # print(np.tan(x))\n",
    "# popt, pcov = optimize.curve_fit(absTan, x, y, p0=[5, 10])\n",
    "# y_fitted = absTan(x, popt[0], popt[1])\n",
    "\n",
    "# # x = np.linspace(400, 410, 7000)\n",
    "# # y = absTan(x, 1, 3)\n",
    "# # plt.plot(x, y, color='red')\n",
    "\n",
    "# plt.plot(x, y_fitted, color='red')\n",
    "# plt.scatter(x, y)\n",
    "\n",
    "# plt.xlim(400, 410)\n",
    "# plt.show()"
   ]
  },
  {
   "cell_type": "markdown",
   "metadata": {},
   "source": [
    "~~**Method 2**: Fitting a Fourier series~~"
   ]
  },
  {
   "cell_type": "code",
   "execution_count": 41,
   "metadata": {
    "collapsed": false
   },
   "outputs": [],
   "source": [
    "# x, y = sgraph.activate(lfc)\n",
    "# filter = y > 1 # Have to pick some threshold!\n",
    "# x_filtered = x[filter]\n",
    "# y_filtered = y[filter]\n",
    "\n",
    "# spec = fftpack.dct(y_filtered, norm='ortho', n=len(x_filtered))\n",
    "# # spec = np.fft.fft(y_filtered, norm='ortho', n=len(x_filtered))\n",
    "\n",
    "# # freqs = fftpack.fftfreq(len(y_filtered))\n",
    "# # maxFreq = freqs[maxFreqIdx]\n",
    "# # print(maxFreqIdx)\n",
    "# # print(maxFreq)\n",
    "# # print('max period is: ', 1/maxFreq)\n",
    "\n",
    "# maxFreqIdx = np.argmax(np.abs(spec[1:])) + 1\n",
    "# plt.plot(spec)\n",
    "# plt.scatter(maxFreqIdx, 50)\n",
    "# plt.show()\n",
    "\n",
    "# fitted_y = fftpack.idct(spec, norm='ortho', n=len(x_filtered))\n",
    "# # fitted_y = np.fft.ifft(spec[0:50], norm='ortho', n=len(x_filtered))\n",
    "\n",
    "# plt.scatter(x_filtered, y_filtered)\n",
    "# plt.plot(x_filtered, fitted_y, color='red')\n",
    "# # plt.xlim(400, 405)\n",
    "# # plt.ylim(1, 1.4)\n",
    "\n",
    "# extrema = signal.argrelextrema(fitted_y, np.greater, order=5)\n",
    "# x_ext = x_filtered[extrema[0]]\n",
    "# y_ext = fitted_y[extrema]\n",
    "# plt.scatter(x_ext, y_ext, color='green')\n",
    "\n",
    "# plt.show()"
   ]
  },
  {
   "cell_type": "markdown",
   "metadata": {
    "collapsed": true
   },
   "source": [
    "**Method 3:** Fitting a periodic gaussian"
   ]
  },
  {
   "cell_type": "code",
   "execution_count": 52,
   "metadata": {
    "collapsed": false
   },
   "outputs": [],
   "source": [
    "def pixToWl(pix, sgraph):\n",
    "    fac = sgraph.xres / (sgraph.maxWl - sgraph.minWl)\n",
    "    return sgraph.minWl + (pix / fac)\n",
    "    \n",
    "def wlToPix(wl, sgraph):\n",
    "    fac = sgraph.xres / (sgraph.maxWl - sgraph.minWl)\n",
    "    return (wl - sgraph.minWl) * fac\n",
    "    \n",
    "def get_peaks(shift, sgraph, lfc, n):\n",
    "    fac = sgraph.xres / (sgraph.maxWl - sgraph.minWl)\n",
    "    peaks = np.empty(0)\n",
    "    current = sgraph.minWl + (shift / fac)\n",
    "    for i in range(0, n):\n",
    "        peaks = np.append(peaks, current)\n",
    "        current += lfc.dWl\n",
    "    return peaks\n",
    "    \n",
    "def pred_error(y, pred_y, lfc_peaks, pred_peaks):\n",
    "    lse = np.mean(np.abs(y - pred_y))\n",
    "    error = np.mean(np.abs((lfc_peaks - pred_peaks) / lfc_peaks)) * 3e8\n",
    "    print(lfc_peaks[0:3], lfc_peaks[-3:])\n",
    "    print(pred_peaks[0:3], pred_peaks[-3:])\n",
    "    \n",
    "    print('Least squares error is ' + str(lse))\n",
    "    print('Error is: ' + str(error))\n",
    "    \n",
    "def guess_min(x, y):\n",
    "    guess_x = x[y > 2000]\n",
    "    guess_y = y[y > 2000]\n",
    "    max_idx = signal.argrelextrema(guess_y, np.greater, order=10)\n",
    "    guess_max_x = guess_x[max_idx]\n",
    "    guess_max_y = guess_y[max_idx]\n",
    "    guess_x = guess_max_x[0]\n",
    "    guess_y = guess_max_y[0]\n",
    "    return guess_x, guess_y\n",
    "    \n",
    "def find_lfc_peaks(sgraph, lfc):\n",
    "    fac = sgraph.xres / (sgraph.maxWl - sgraph.minWl)\n",
    "    lfc_peaks = lfc.getPeaks()\n",
    "    \n",
    "    def per_gauss_fit(wl, minWl):\n",
    "        return per_gauss(wl, lfc.sigma * fac, minWl, minWl + (len(peaks) * lfc.dWl * fac), lfc.dWl * fac, lfc.intensity)\n",
    "\n",
    "    solution = wlToPix(lfc.minWl, sgraph)\n",
    "    print('Solution is:', solution)\n",
    "\n",
    "    x, y = sgraph.activate(lfc)\n",
    "    \n",
    "    # Do a cubic interpolation of x and y \n",
    "    spl = interpolate.UnivariateSpline(x, y, k=3)\n",
    "    # ss stands for supersampled\n",
    "    ss_x = np.linspace(0, sgraph.xres, 20000, dtype=np.float64)\n",
    "    ss_y = spl(ss_x)\n",
    "#     ss_x = x\n",
    "#     ss_y = y\n",
    "    ss_y[ss_y <= 0.0] = 1e-15\n",
    "    \n",
    "    # Fit on interpolated data\n",
    "    guess_x, guess_y = guess_min(ss_x, ss_y)\n",
    "    print('initial guess for shift is:', np.asarray([guess_x]))\n",
    "\n",
    "    \n",
    "    # Fit using curve_fit\n",
    "#     popt, pcov = optimize.curve_fit(per_gauss_fit, ss_x, ss_y, p0=[guess_x], sigma=np.sqrt(ss_y), ftol=1e-12, xtol=1e-12, epsfcn=0.0)\n",
    "    \n",
    "    # Fit using leastsq\n",
    "#     err_func = lambda tpl,x,y: (per_gauss_fit(x, tpl) - y)\n",
    "# #     def jac_errfunc(p, t, y):\n",
    "# #         ap = algopy.UTPM.init_jacobian(p)\n",
    "# #         return algopy.UTPM.extract_jacobian(err_func(ap, t, y))\n",
    "# #     popt, pcov, info = optimize.leastsq(err_func, [guess_x], Dfun=jac_errfunc, args=(ss_x, ss_y), xtol=1e-12, ftol=1e-12, maxfev=1000 * (len(ss_x) + 1))\n",
    "#     popt, pcov, info, msg, success = optimize.leastsq(err_func, [guess_x], args=(ss_x, ss_y), full_output=1, xtol=1e-20, ftol=1e-20, maxfev=1000*(len(ss_x) + 1))\n",
    "#     nfev = info['nfev']\n",
    "#     pred_shift = popt[0]\n",
    "#     y_pred = per_gauss_fit(ss_x, *popt)\n",
    "\n",
    "#     Fit using Brent\n",
    "#     err_func = lambda shift: np.mean(np.abs(per_gauss_fit(ss_x, shift) - ss_y))\n",
    "#     result = optimize.minimize_scalar(err_func, method='Brent', bracket=(guess_x-5, guess_x+5), tol=1e-15)\n",
    "#     nfev = result.nit\n",
    "#     pred_shift = result.x\n",
    "#     y_pred = per_gauss_fit(ss_x, pred_shift)\n",
    "    \n",
    "    # Approx with curve_fit\n",
    "#     popt, pcov = optimize.curve_fit(per_gauss_fit, ss_x, ss_y, p0=[guess_x], sigma=np.sqrt(ss_y), ftol=1e-12, xtol=1e-12, epsfcn=0.0)\n",
    "#     second_guess_x = popt[0]\n",
    "#     print('Second guess is:', second_guess_x)\n",
    "    \n",
    "    #####\n",
    "    # Approx with lmfit\n",
    "#     ss_x = ss_x[ss_y > 4000]\n",
    "#     ss_y = ss_y[ss_y > 4000]\n",
    "#     gmod = lmfit.Model(per_gauss_fit)\n",
    "#     result = gmod.fit(ss_y, wl=ss_x, minWl=guess_x, method='lbfgsb', \n",
    "#                       options={'ftol':1e-20, 'gtol':1e-20, 'maxiter':20000*(len(ss_x) + 1), 'factr':10.0, 'disp':True, \n",
    "#                                'eps':np.finfo(np.float64).eps, 'maxls':100, 'maxfun':100000, 'maxcor':100})\n",
    "#     print('lbfgsb executed # times:', result.nfev)\n",
    "#     second_guess_x = result.params['minWl'].value\n",
    "#     print('Second guess is:', second_guess_x)\n",
    "#     temp_pred = per_gauss_fit(ss_x, second_guess_x)\n",
    "#     lse = np.mean(np.abs(ss_y - temp_pred))\n",
    "#     print('Second guess lse is ' + str(lse))\n",
    "    \n",
    "#     solution = (lfc.minWl - sgraph.minWl) * fac\n",
    "#     print('Solution is:', solution)\n",
    "#     temp_pred = per_gauss_fit(ss_x, solution)\n",
    "#     lse = np.mean(np.abs(ss_y - temp_pred))\n",
    "#     print('lse of optimap solution is ' + str(lse))\n",
    "    \n",
    "#     # Fit using brute\n",
    "#     err_func = lambda shift: np.mean(np.abs(per_gauss_fit(ss_x, shift) - ss_y))\n",
    "#     result = optimize.brute(err_func, ranges=((second_guess_x-1e-3, second_guess_x+1e+3),), Ns=100, full_output=True, finish=None)\n",
    "#     nfev = 0\n",
    "#     pred_shift = result[0]\n",
    "#     y_pred = per_gauss_fit(ss_x, pred_shift)\n",
    "    ######\n",
    "    \n",
    "#     eps = np.finfo(np.float64).eps\n",
    "#     err_func = lambda tpl,x,y: (per_gauss_fit(x, tpl) - y)\n",
    "#     result = optimize.least_squares(err_func, [guess_x], args=(ss_x, ss_y), xtol=eps, ftol=eps, gtol=eps,\n",
    "#                                     max_nfev=1000 * (len(ss_x) + 1), method='dogbox')\n",
    "#     popt = result.x\n",
    "#     pred_shift = popt[0]\n",
    "#     nfev = result.nfev\n",
    "#     y_pred = per_gauss_fit(ss_x, *popt)\n",
    "#     print('Terminated because: ' + result.message)\n",
    "\n",
    "    # Use lmfit for fitting\n",
    "    gmod = lmfit.Model(per_gauss_fit)\n",
    "    result = gmod.fit(ss_y, wl=ss_x, minWl=guess_x, method='lbfgsb', \n",
    "                      options={'ftol':1e-20, 'gtol':1e-20, 'maxiter':20000*(len(ss_x) + 1), 'factr':10.0, 'disp':True, \n",
    "                               'eps':np.finfo(np.float64).eps, 'maxls':100, 'maxfun':100000, 'maxcor':100})\n",
    "    pred_shift = result.params['minWl'].value\n",
    "    y_pred = result.best_fit\n",
    "    nfev = result.nfev\n",
    "    pred_peaks = np.empty(0)\n",
    "    print('Predicted shift is:', np.asarray([pred_shift]))\n",
    "    print('Number of calls: ' + str(nfev))\n",
    "    \n",
    "    # Switch to WL space\n",
    "    pred_peaks = get_peaks(pred_shift, sgraph, lfc, len(lfc_peaks))\n",
    "    pred_error(ss_y, y_pred, pixToWl(lfc_peaks, sgraph), pred_peaks, sgraph)\n",
    "    \n",
    "    plt.scatter(ss_x, ss_y, color='blue')\n",
    "    plt.scatter(x, y, color='magenta')\n",
    "    plt.plot(ss_x, y_pred, color='red')\n",
    "    for peak in pred_peaks:\n",
    "        plt.axvline((peak - sgraph.minWl) * fac, color='green')\n",
    "    for peak in peaks:\n",
    "        plt.axvline((peak - sgraph.minWl) * fac, color='purple')\n",
    "    plt.axvline(guess_x, color='turquoise')\n",
    "    plt.xlim(guess_x - 3 * (lfc.dWl * fac), guess_x + 12 * (lfc.dWl * fac))\n",
    "    fig = plt.show()\n",
    "    \n",
    "    return ss_x, ss_y, pred_shift"
   ]
  },
  {
   "cell_type": "code",
   "execution_count": 53,
   "metadata": {
    "collapsed": false,
    "scrolled": false
   },
   "outputs": [
    {
     "name": "stdout",
     "output_type": "stream",
     "text": [
      "Solution: 400.025877597\n",
      "('Solution is:', 341.95919884103887)\n",
      "('initial guess for shift is:', array([ 342.01710085504277]))\n",
      " - Adding parameter \"minWl\"\n",
      "('Predicted shift is:', array([ 341.95971848719546]))\n",
      "Number of calls: 17\n",
      "(array([ 400.200077632789544,  400.200167632789544,  400.200257632789544]), array([ 400.229867632789535,  400.229957632789535,  400.230047632789535]))\n",
      "(array([ 400.200077637466393,  400.200167637466393,  400.200257637466393]), array([ 400.229867637466384,  400.229957637466384,  400.230047637466384]))\n",
      "Least squares error is 1103.32591801\n",
      "Error is: 0.00350573307774\n"
     ]
    },
    {
     "data": {
      "image/png": "[encoded data removed]",
      "text/plain": [
       "<matplotlib.figure.Figure at 0x7f93cb830850>"
      ]
     },
     "metadata": {},
     "output_type": "display_data"
    }
   ],
   "source": [
    "rand = np.random.random(1)[0]\n",
    "# rand = 0.0\n",
    "lfc = LFC(25000, 0.0075, 400 + rand, 410 + rand, 0.03)\n",
    "print('Solution: ' + str(lfc.minWl))\n",
    "peaks = lfc.getPeaks()\n",
    "sgraph = Spectrograph(4000, 1000.0, 300.0, 399.0, 411.0, 1.0)\n",
    "ss_x, ss_y, pred_shift = find_lfc_peaks(sgraph, lfc)"
   ]
  },
  {
   "cell_type": "code",
   "execution_count": 155,
   "metadata": {
    "collapsed": false
   },
   "outputs": [
    {
     "ename": "AttributeError",
     "evalue": "LFC instance has no attribute 'nPeaks'",
     "output_type": "error",
     "traceback": [
      "\u001b[1;31m---------------------------------------------------------------------------\u001b[0m",
      "\u001b[1;31mAttributeError\u001b[0m                            Traceback (most recent call last)",
      "\u001b[1;32m<ipython-input-155-1399de759ee3>\u001b[0m in \u001b[0;36m<module>\u001b[1;34m()\u001b[0m\n\u001b[0;32m      6\u001b[0m \u001b[0madj\u001b[0m \u001b[1;33m=\u001b[0m \u001b[1;33m-\u001b[0m\u001b[1;36m7e-6\u001b[0m\u001b[1;33m\u001b[0m\u001b[0m\n\u001b[0;32m      7\u001b[0m \u001b[0mnew_pred_shift\u001b[0m \u001b[1;33m=\u001b[0m \u001b[0mpred_shift\u001b[0m \u001b[1;33m+\u001b[0m \u001b[1;33m(\u001b[0m\u001b[0madj\u001b[0m \u001b[1;33m*\u001b[0m \u001b[0mfac\u001b[0m\u001b[1;33m)\u001b[0m\u001b[1;33m\u001b[0m\u001b[0m\n\u001b[1;32m----> 8\u001b[1;33m \u001b[0mnew_y_pred\u001b[0m \u001b[1;33m=\u001b[0m \u001b[0mper_gauss_fit\u001b[0m\u001b[1;33m(\u001b[0m\u001b[0mss_x\u001b[0m\u001b[1;33m,\u001b[0m \u001b[0mnew_pred_shift\u001b[0m\u001b[1;33m)\u001b[0m\u001b[1;33m\u001b[0m\u001b[0m\n\u001b[0m\u001b[0;32m      9\u001b[0m \u001b[1;33m\u001b[0m\u001b[0m\n\u001b[0;32m     10\u001b[0m \u001b[0mnew_lse\u001b[0m \u001b[1;33m=\u001b[0m \u001b[0mnp\u001b[0m\u001b[1;33m.\u001b[0m\u001b[0mmean\u001b[0m\u001b[1;33m(\u001b[0m\u001b[0mnp\u001b[0m\u001b[1;33m.\u001b[0m\u001b[0mabs\u001b[0m\u001b[1;33m(\u001b[0m\u001b[0mss_y\u001b[0m \u001b[1;33m-\u001b[0m \u001b[0mnew_y_pred\u001b[0m\u001b[1;33m)\u001b[0m\u001b[1;33m)\u001b[0m\u001b[1;33m\u001b[0m\u001b[0m\n",
      "\u001b[1;32m<ipython-input-155-1399de759ee3>\u001b[0m in \u001b[0;36mper_gauss_fit\u001b[1;34m(wl, minWl)\u001b[0m\n\u001b[0;32m      1\u001b[0m \u001b[0mfac\u001b[0m \u001b[1;33m=\u001b[0m \u001b[0mnp\u001b[0m\u001b[1;33m.\u001b[0m\u001b[0mfloat64\u001b[0m\u001b[1;33m(\u001b[0m\u001b[0msgraph\u001b[0m\u001b[1;33m.\u001b[0m\u001b[0mxres\u001b[0m\u001b[1;33m)\u001b[0m \u001b[1;33m/\u001b[0m \u001b[1;33m(\u001b[0m\u001b[0msgraph\u001b[0m\u001b[1;33m.\u001b[0m\u001b[0mmaxWl\u001b[0m \u001b[1;33m-\u001b[0m \u001b[0msgraph\u001b[0m\u001b[1;33m.\u001b[0m\u001b[0mminWl\u001b[0m\u001b[1;33m)\u001b[0m\u001b[1;33m\u001b[0m\u001b[0m\n\u001b[0;32m      2\u001b[0m \u001b[1;32mdef\u001b[0m \u001b[0mper_gauss_fit\u001b[0m\u001b[1;33m(\u001b[0m\u001b[0mwl\u001b[0m\u001b[1;33m,\u001b[0m \u001b[0mminWl\u001b[0m\u001b[1;33m)\u001b[0m\u001b[1;33m:\u001b[0m\u001b[1;33m\u001b[0m\u001b[0m\n\u001b[1;32m----> 3\u001b[1;33m     \u001b[1;32mreturn\u001b[0m \u001b[0mper_gauss\u001b[0m\u001b[1;33m(\u001b[0m\u001b[0mwl\u001b[0m\u001b[1;33m,\u001b[0m \u001b[0mlfc\u001b[0m\u001b[1;33m.\u001b[0m\u001b[0msigma\u001b[0m \u001b[1;33m*\u001b[0m \u001b[0mfac\u001b[0m\u001b[1;33m,\u001b[0m \u001b[0mminWl\u001b[0m\u001b[1;33m,\u001b[0m \u001b[0mminWl\u001b[0m \u001b[1;33m+\u001b[0m \u001b[1;33m(\u001b[0m\u001b[0mlfc\u001b[0m\u001b[1;33m.\u001b[0m\u001b[0mnPeaks\u001b[0m \u001b[1;33m*\u001b[0m \u001b[0mlfc\u001b[0m\u001b[1;33m.\u001b[0m\u001b[0mdWl\u001b[0m \u001b[1;33m*\u001b[0m \u001b[0mfac\u001b[0m\u001b[1;33m)\u001b[0m\u001b[1;33m,\u001b[0m \u001b[0mlfc\u001b[0m\u001b[1;33m.\u001b[0m\u001b[0mdWl\u001b[0m \u001b[1;33m*\u001b[0m \u001b[0mfac\u001b[0m\u001b[1;33m,\u001b[0m \u001b[0mlfc\u001b[0m\u001b[1;33m.\u001b[0m\u001b[0mintensity\u001b[0m\u001b[1;33m)\u001b[0m\u001b[1;33m\u001b[0m\u001b[0m\n\u001b[0m\u001b[0;32m      4\u001b[0m \u001b[1;33m\u001b[0m\u001b[0m\n\u001b[0;32m      5\u001b[0m \u001b[1;31m# Trying to improve result manually\u001b[0m\u001b[1;33m\u001b[0m\u001b[1;33m\u001b[0m\u001b[0m\n",
      "\u001b[1;31mAttributeError\u001b[0m: LFC instance has no attribute 'nPeaks'"
     ]
    }
   ],
   "source": [
    "fac = np.float64(sgraph.xres) / (sgraph.maxWl - sgraph.minWl)\n",
    "def per_gauss_fit(wl, minWl):\n",
    "    return per_gauss(wl, lfc.sigma * fac, minWl, minWl + (lfc.nPeaks * lfc.dWl * fac), lfc.dWl * fac, lfc.intensity)\n",
    "    \n",
    "# Trying to improve result manually\n",
    "adj = -7e-6\n",
    "new_pred_shift = pred_shift + (adj * fac)\n",
    "new_y_pred = per_gauss_fit(ss_x, new_pred_shift)\n",
    "\n",
    "new_lse = np.mean(np.abs(ss_y - new_y_pred))\n",
    "\n",
    "# Recalculate peaks\n",
    "pred_peaks = np.empty(0)\n",
    "current = sgraph.minWl + (new_pred_shift / fac)\n",
    "for i in range(0, len(peaks)):\n",
    "    pred_peaks = np.append(pred_peaks, current)\n",
    "    current += lfc.dWl\n",
    "new_error = np.mean(np.abs((peaks - pred_peaks) / peaks)) * 3e8\n",
    "        \n",
    "print(pred_peaks[0:3], pred_peaks[-3:])\n",
    "print(peaks[0:3], peaks[-3:])\n",
    "\n",
    "    \n",
    "print('New least squares error is ' + str(new_lse))\n",
    "print('Old least squares error is ' + str(lse))\n",
    "\n",
    "print('New error is: ' + str(abs(new_error)))\n",
    "print('Old error is: ' + str(abs(error)))\n",
    "\n"
   ]
  },
  {
   "cell_type": "markdown",
   "metadata": {},
   "source": [
    "# Let's try this for spectrographs with varying precision"
   ]
  },
  {
   "cell_type": "code",
   "execution_count": null,
   "metadata": {
    "collapsed": false
   },
   "outputs": [],
   "source": [
    "for i in range(1, 11):\n",
    "    precision = i * 2\n",
    "    cur_sgraph = Spectrograph(4000, 1000, 300, 399, 411, precision)\n",
    "    find_lfc_peaks(cur_sgraph, lfc)\n"
   ]
  },
  {
   "cell_type": "markdown",
   "metadata": {},
   "source": [
    "# Enter mpmath"
   ]
  },
  {
   "cell_type": "code",
   "execution_count": null,
   "metadata": {
    "collapsed": true
   },
   "outputs": [],
   "source": [
    "def gauss(x, mu, sigma, amplitude): \n",
    "    return amplitude * np.exp( - ((x - mu) ** 2) / (2 * (sigma**2) ))\n",
    "\n",
    "def per_gauss(wl, sigma, minWl, maxWl, period, amplitude):\n",
    "    result = 0.0;\n",
    "    for i in range(0, int((maxWl-minWl) / period)):\n",
    "        result += gauss(wl, minWl + (i * period), sigma, amplitude)\n",
    "    return result\n",
    "\n",
    "fac = sgraph.xres / (sgraph.maxWl - sgraph.minWl)\n",
    "print('fac is:', np.asarray([fac]))\n",
    "def per_gauss_fit(wl, minWl):\n",
    "    return per_gauss(wl, lfc.sigma * fac, minWl, minWl + (len(peaks) * lfc.dWl * fac), lfc.dWl * fac, lfc.intensity)\n",
    "\n",
    "x, y = sgraph.activate(lfc)\n",
    "    "
   ]
  },
  {
   "cell_type": "markdown",
   "metadata": {},
   "source": [
    "# Notes\n",
    "- Spectrograph error distribution: what is a good mean and a mean sdev?\n",
    "- Doing least squares: should I weight according to error? For example, know error increases with intensity\n",
    "\n",
    "**For future**:\n",
    "- Oversample using interpolation (--??--), play with this only\n",
    "- Shift data by some random number\n",
    "\n",
    "- Make a table of effect of increasing the lfc"
   ]
  },
  {
   "cell_type": "code",
   "execution_count": null,
   "metadata": {
    "collapsed": true
   },
   "outputs": [],
   "source": []
  }
 ],
 "metadata": {
  "kernelspec": {
   "display_name": "Python 2",
   "language": "python",
   "name": "python2"
  },
  "language_info": {
   "codemirror_mode": {
    "name": "ipython",
    "version": 2
   },
   "file_extension": ".py",
   "mimetype": "text/x-python",
   "name": "python",
   "nbconvert_exporter": "python",
   "pygments_lexer": "ipython2",
   "version": "2.7.11"
  }
 },
 "nbformat": 4,
 "nbformat_minor": 0
}
