{
 "cells": [
  {
   "cell_type": "code",
   "execution_count": 171,
   "metadata": {
    "collapsed": false
   },
   "outputs": [],
   "source": [
    "%matplotlib inline\n",
    "\n",
    "import numpy as np\n",
    "import matplotlib.pyplot as plt\n",
    "import matplotlib.pylab as pylab\n",
    "import scipy.optimize as optimize \n",
    "import scipy.fftpack as fftpack\n",
    "import scipy.signal as signal \n",
    "import scipy.interpolate as interpolate\n",
    "import types\n",
    "import algopy\n",
    "import lmfit\n",
    "\n",
    "import mpmath\n",
    "\n",
    "pylab.rcParams['figure.figsize'] = (15.0, 3.0)\n",
    "pylab.rcParams['axes.facecolor'] = 'lightgray'\n",
    "np.set_printoptions(precision=15)"
   ]
  },
  {
   "cell_type": "markdown",
   "metadata": {},
   "source": [
    "# Helper functions"
   ]
  },
  {
   "cell_type": "code",
   "execution_count": 172,
   "metadata": {
    "collapsed": true
   },
   "outputs": [],
   "source": [
    "def gauss(x, mu, sigma, amplitude): \n",
    "    return amplitude * np.exp( - ((x - mu) ** 2) / (2 * (sigma**2) ))\n",
    "\n",
    "def per_gauss(wl, sigma, minWl, maxWl, period, amplitude):\n",
    "    result = 0.0;\n",
    "    for i in range(0, int((maxWl-minWl) / period)):\n",
    "        result += gauss(wl, minWl + (i * period), sigma, amplitude)\n",
    "    return result"
   ]
  },
  {
   "cell_type": "markdown",
   "metadata": {},
   "source": [
    "# Classes that define simulated instruments."
   ]
  },
  {
   "cell_type": "code",
   "execution_count": 196,
   "metadata": {
    "collapsed": false,
    "scrolled": true
   },
   "outputs": [],
   "source": [
    "class Spectrograph:\n",
    "    def __init__(self, xres, bgrNoiseMu, bgrNoiseSD, minWl, maxWl, fhwm, precision):\n",
    "        self.xres = xres\n",
    "        self.bgrNoiseMu = bgrNoiseMu\n",
    "        self.bgrNoiseSD = bgrNoiseSD\n",
    "        self.minWl = minWl\n",
    "        self.maxWl = maxWl\n",
    "        self.sigma = fhwm / (2 * np.sqrt(2 * np.log(2))) # sd = fhwm / 2sqrt(2ln2)\n",
    "        self.precision = precision\n",
    "        self.fac = sgraph.xres / (sgraph.maxWl - sgraph.minWl) # Constantly used in conversions\n",
    "    # A spectrograph can observe many beams: a beam is a mapping of wavelength (in nm) to intensity\n",
    "    def observe(self, beams):\n",
    "        space = np.linspace(self.minWl, self.maxWl, self.xres)\n",
    "        observation = np.zeros(len(space))\n",
    "        \n",
    "        bgrNoise = np.random.normal(self.bgrNoiseMu, self.bgrNoiseSD, len(space)) # Background noise\n",
    "        bgrNoise[bgrNoise < 0.0] = 0.0\n",
    "        observation += bgrNoise\n",
    "        \n",
    "        # Each ray in a beam becomes a gaussian\n",
    "        for beam in beams:\n",
    "            for wl in beam:\n",
    "                observation += gauss(space, wl, self.sigma, beam[wl])\n",
    "        \n",
    "        # Add shot noise\n",
    "        observation += np.random.normal(0.0, np.sqrt(observation) * self.precision / 2, len(space))\n",
    "        \n",
    "        # Spectrograph has no notion of wavelength, space must be in pixels\n",
    "        return np.linspace(0, self.xres, self.xres), observation\n",
    "    \n",
    "    def pix_to_wl(self, pix):\n",
    "        return self.minWl + (pix / self.fac)\n",
    "        \n",
    "    def wl_to_pix(self, wl):\n",
    "        return (wl - sgraph.minWl) * self.fac\n",
    "        \n",
    "class LFC:\n",
    "    def __init__(self, intensity, minWl, maxWl, dWl):\n",
    "        self.intensity = intensity\n",
    "        self.minWl = minWl\n",
    "        self.maxWl = maxWl\n",
    "        self.span = self.maxWl - self.minWl\n",
    "        self.dWl = np.float64(dWl)\n",
    "    def getPeaks(self):\n",
    "        peaks = np.empty(0)\n",
    "        current = self.minWl;\n",
    "        while(current <= self.maxWl):\n",
    "            peaks = np.append(peaks, current)\n",
    "            current += self.dWl\n",
    "        return peaks\n",
    "    def simulate(self):\n",
    "        sim = {}\n",
    "        current = self.minWl\n",
    "        while current <= self.maxWl:\n",
    "            sim[current] = self.intensity\n",
    "            current += self.dWl\n",
    "        return sim"
   ]
  },
  {
   "cell_type": "markdown",
   "metadata": {},
   "source": [
    "# Finding maxima"
   ]
  },
  {
   "cell_type": "code",
   "execution_count": 197,
   "metadata": {
    "collapsed": false
   },
   "outputs": [],
   "source": [
    "def get_peaks(shift, lfc, n):\n",
    "    peaks = np.empty(0)\n",
    "    current = shift\n",
    "    for i in range(0, n):\n",
    "        peaks = np.append(peaks, current)\n",
    "        current += lfc.dWl\n",
    "    return peaks\n",
    "    \n",
    "def pred_error(y, pred_y, solution, prediction):\n",
    "    lse = np.mean(np.abs(y - pred_y))\n",
    "    error = np.abs(solution - prediction) / solution * 3e8\n",
    "    return lse, error\n",
    "    \n",
    "def guess_min(x, y):\n",
    "    guess_x = x[y > 2000]\n",
    "    guess_y = y[y > 2000]\n",
    "    max_idx = signal.argrelextrema(guess_y, np.greater, order=10)\n",
    "    guess_max_x = guess_x[max_idx]\n",
    "    guess_max_y = guess_y[max_idx]\n",
    "    guess_x = guess_max_x[0]\n",
    "    guess_y = guess_max_y[0]\n",
    "    return guess_x, guess_y\n",
    "    \n",
    "def find_lfc_peaks(sgraph, lfc):\n",
    "    lfc_peaks = lfc.getPeaks()\n",
    "    \n",
    "    def per_gauss_fit(wl, minWl):\n",
    "        return per_gauss(wl, sgraph.sigma * sgraph.fac, minWl, minWl + (len(lfc_peaks)) * lfc.dWl * sgraph.fac, \n",
    "                         lfc.dWl * sgraph.fac, lfc.intensity)\n",
    "    \n",
    "    print('Solution is: {}pix or {}nm'.format(wl_to_pix(lfc.minWl, sgraph), lfc.minWl))\n",
    "\n",
    "    x, y = sgraph.observe([lfc.simulate()])\n",
    "    \n",
    "    # Do a cubic interpolation of x and y \n",
    "    spl = interpolate.UnivariateSpline(x, y, k=3)\n",
    "    # ss stands for supersampled\n",
    "    ss_x = np.linspace(0, sgraph.xres, 20000, dtype=np.float64)\n",
    "    ss_y = spl(ss_x)\n",
    "#     ss_x = x\n",
    "#     ss_y = y\n",
    "    ss_y[ss_y <= 0.0] = 1e-15\n",
    "    \n",
    "    # Fit on interpolated data\n",
    "    guess_x, guess_y = guess_min(ss_x, ss_y)\n",
    "    print('Initial guess for shift is: {}pix or {}nm'.format(np.asarray([guess_x]), sgraph.pix_to_wl(guess_x)))\n",
    "    \n",
    "    # Use lmfit for fitting\n",
    "    gmod = lmfit.Model(per_gauss_fit)\n",
    "    result = gmod.fit(ss_y, wl=ss_x, minWl=guess_x, method='lbfgsb', \n",
    "                      options={'ftol':1e-20, 'gtol':1e-20, 'maxiter':20000*(len(ss_x) + 1), 'factr':1.0, 'disp':True, \n",
    "                               'eps':np.finfo(np.float64).eps, 'maxls':100, 'maxfun':100000, 'maxcor':100})\n",
    "#     result = gmod.fit(ss_y, wl=ss_x, minWl=guess_x, method='leastsq', \n",
    "#                       options={'disp': True, 'xtol': 1e-20, 'ftol': 1e-20, 'maxiter':20000000, 'maxfev':200000})\n",
    "    pred_shift = result.params['minWl'].value\n",
    "    y_pred = result.best_fit\n",
    "    nfev = result.nfev\n",
    "    pred_shift_wl = sgraph.pix_to_wl(pred_shift)\n",
    "    print('Predicted shift is: {}pix or {}nm'.format(np.asarray([pred_shift]), pred_shift_wl))\n",
    "    print('Number of calls: {}'.format(nfev))\n",
    "    \n",
    "    pred_peaks = get_peaks(pred_shift_wl, lfc, len(lfc_peaks))\n",
    "    \n",
    "    print(lfc_peaks[0:3], lfc_peaks[-3:])\n",
    "    print(pred_peaks[0:3], pred_peaks[-3:])\n",
    "    \n",
    "    lse, error = pred_error(ss_y, y_pred, lfc.minWl, pred_shift_wl)\n",
    "    print('Least squares error is {}'.format(lse))\n",
    "    print('Error is: {}m/s'.format(error))\n",
    "    \n",
    "    plt.scatter(ss_x, ss_y, color='blue')\n",
    "    plt.scatter(x, y, color='magenta')\n",
    "    plt.plot(ss_x, y_pred, color='red')\n",
    "    for peak in pred_peaks:\n",
    "        plt.axvline((peak - sgraph.minWl) * sgraph.fac, color='green')\n",
    "    for peak in lfc_peaks:\n",
    "        plt.axvline((peak - sgraph.minWl) * sgraph.fac, color='purple')\n",
    "    plt.axvline(guess_x, color='turquoise')\n",
    "    plt.xlim(sgraph.wl_to_pix(lfc.minWl - 3 * lfc.dWl), sgraph.wl_to_pix(lfc.minWl + 12 * lfc.dWl))\n",
    "    fig = plt.show()\n",
    "    \n",
    "    return ss_x, ss_y, pred_shift"
   ]
  },
  {
   "cell_type": "code",
   "execution_count": 198,
   "metadata": {
    "collapsed": false
   },
   "outputs": [],
   "source": [
    "rand = np.random.random(1)[0]\n",
    "# lfc = LFC(250000, 0.0075, 400 + rand, 410 + rand, 1.0/31.0)\n",
    "# sgraph = Spectrograph(4000, 1000.0, 300.0, 399.0, 411.0, 1.0)\n",
    "lfc = LFC(250000, 400 + rand, 410 + rand, 0.03)\n",
    "sgraph = Spectrograph(4000, 1000.0, 300.0, 399.0, 411.0, 0.0075, 1.0)"
   ]
  },
  {
   "cell_type": "code",
   "execution_count": 204,
   "metadata": {
    "collapsed": false,
    "scrolled": false
   },
   "outputs": [
    {
     "name": "stdout",
     "output_type": "stream",
     "text": [
      "Solution is: 365.187682745pix or 400.095563048nm\n",
      "Initial guess for shift is: [ 365.218260913045697]pix or 400.095654783nm\n",
      " - Adding parameter \"minWl\"\n",
      "Predicted shift is: [ 365.187728151939609]pix or 400.095563184nm\n",
      "Number of calls: 87\n",
      "(array([ 400.095563048233771,  400.125563048233744,  400.155563048233716]), array([ 410.02556304822474 ,  410.055563048224712,  410.085563048224685]))\n",
      "(array([ 400.095563184455841,  400.125563184455814,  400.155563184455787]), array([ 410.02556318444681 ,  410.055563184446783,  410.085563184446755]))\n",
      "Least squares error is 1174.57649886\n",
      "Error is: 0.102142150013m/s\n"
     ]
    },
    {
     "data": {
      "image/png": "[encoded data removed]",
      "text/plain": [
       "<matplotlib.figure.Figure at 0x7fb6a53543d0>"
      ]
     },
     "metadata": {},
     "output_type": "display_data"
    },
    {
     "name": "stdout",
     "output_type": "stream",
     "text": [
      "CPU times: user 16.2 s, sys: 13.3 ms, total: 16.2 s\n",
      "Wall time: 16.2 s\n"
     ]
    }
   ],
   "source": [
    "%%time\n",
    "ss_x, ss_y, pred_shift = find_lfc_peaks(sgraph, lfc)"
   ]
  },
  {
   "cell_type": "markdown",
   "metadata": {},
   "source": [
    "# Notes\n",
    "**For future**:\n",
    "- Make a table of effect of increasing the lfc intensity\n",
    "- Create plot of jitter to error\n",
    "- Resolution = wl of order / (wl to pix ratio) -> 400 / 0.025\n",
    "- 80 orders [pix, intens, order]\n",
    "- Further away orders are distorted\n",
    "- Should use adjacent order\n",
    "- Generate plots of SNR to error in cm/s\n",
    "    - Moving Sigma from 2 to 4, R from 50,000 to 20,0000\n",
    "- Paper submission to PASP\n",
    "\n",
    "**Open questions**:\n",
    "- Spectrograph error distribution: what is a good mean and a mean sdev?\n",
    "- Doing least squares: should I weight according to error? For example, know error increases with intensity"
   ]
  },
  {
   "cell_type": "code",
   "execution_count": null,
   "metadata": {
    "collapsed": true
   },
   "outputs": [],
   "source": []
  }
 ],
 "metadata": {
  "kernelspec": {
   "display_name": "Python 2",
   "language": "python",
   "name": "python2"
  },
  "language_info": {
   "codemirror_mode": {
    "name": "ipython",
    "version": 2
   },
   "file_extension": ".py",
   "mimetype": "text/x-python",
   "name": "python",
   "nbconvert_exporter": "python",
   "pygments_lexer": "ipython2",
   "version": "2.7.11"
  }
 },
 "nbformat": 4,
 "nbformat_minor": 0
}
