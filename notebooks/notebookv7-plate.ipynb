{
 "cells": [
  {
   "cell_type": "code",
   "execution_count": null,
   "metadata": {
    "collapsed": true
   },
   "outputs": [],
   "source": [
    "%matplotlib inline\n",
    "\n",
    "import numpy as np\n",
    "# Plotting libraries\n",
    "import matplotlib.pyplot as plt\n",
    "import matplotlib.pylab as pylab\n",
    "import scipy.optimize as optimize \n",
    "import scipy.fftpack as fftpack\n",
    "import scipy.signal as signal \n",
    "import scipy.interpolate\n",
    "import scipy.integrate as integrate\n",
    "import scipy.stats as stats\n",
    "import types\n",
    "# For reading spectrograph spec file\n",
    "import csv\n",
    "# Used for function fitting\n",
    "import lmfit\n",
    "\n",
    "pylab.rcParams['figure.figsize'] = (15.0, 3.0)\n",
    "pylab.rcParams['axes.facecolor'] = 'white'\n",
    "np.set_printoptions(precision=15)"
   ]
  },
  {
   "cell_type": "markdown",
   "metadata": {},
   "source": [
    "# Helper functions"
   ]
  },
  {
   "cell_type": "code",
   "execution_count": null,
   "metadata": {
    "collapsed": false
   },
   "outputs": [],
   "source": [
    "def sig_to_fwhm(sig):\n",
    "    return sig * (2 * np.sqrt(2 * np.log(2)))\n",
    "def fwhm_to_sig(fwhm):\n",
    "    return fwhm / (2 * np.sqrt(2 * np.log(2)))\n",
    "\n",
    "def gauss(x, mu, sigma, amplitude): \n",
    "    return amplitude * np.exp( - ((x - mu) ** 2) / (2 * (sigma**2) ))\n",
    "\n",
    "def gauss_area(pix_l, pix_r, mu, sigma, intensity):\n",
    "    return intensity * (stats.norm.cdf(pix_r, mu, scale=sigma) - stats.norm.cdf(pix_l, mu, scale=sigma))\n",
    "\n",
    "def per_gauss(wl, sigma, minWl, maxWl, period, amplitude):\n",
    "    result = 0.0;\n",
    "    current = minWl\n",
    "    i = 0\n",
    "    while current <= maxWl:\n",
    "        result += gauss(wl, minWl + (i * period), sigma, amplitude)\n",
    "        current += period\n",
    "        i = i + 1\n",
    "    return result"
   ]
  },
  {
   "cell_type": "markdown",
   "metadata": {},
   "source": [
    "# Classes that define simulated instruments."
   ]
  },
  {
   "cell_type": "code",
   "execution_count": null,
   "metadata": {
    "collapsed": false,
    "scrolled": true
   },
   "outputs": [],
   "source": [
    "class Order:\n",
    "    def __init__(self, id, min, max, blaze_peak, res, pf_min, pf_max):\n",
    "        self.id = id\n",
    "        self.min = min\n",
    "#         self.max = max\n",
    "        self.blaze_peak = blaze_peak\n",
    "#         self.fsr = self.max - self.min\n",
    "        self.res = res\n",
    "#         self.fac = self.res / self.fsr\n",
    "        self.pf_min = pf_min\n",
    "        self.pf_max = pf_max\n",
    "        self.pf_m = (pf_max - pf_min) / res\n",
    "        self.get_pf = lambda(pix): self.pf_m * pix + pf_min\n",
    "        self.fsr = (self.pf_m * ((res - 1) ** 2) / 2) + (pf_min * (res - 1))\n",
    "        self.max = self.min + self.fsr\n",
    "#         self.pfacs = np.linspace(pf_min, pf_max, res)\n",
    "        \n",
    "    def prints(self):\n",
    "        print('Id: %d' % (self.id))\n",
    "        print('min: %.10f' % (self.min))\n",
    "        print('max: %.10f' % (self.max))\n",
    "        print('fsr: %.10f' % (self.fsr))\n",
    "        print('pf_min: %.10f' % (self.pf_min))\n",
    "        print('pf_max: %.10f' % (self.pf_max))\n",
    "        print('pf_m: %.10f' % (self.pf_m))\n",
    "        \n",
    "    def pix_to_wl(self, pix):\n",
    "        a = self.pf_min\n",
    "        b = self.min\n",
    "        m = self.pf_m\n",
    "        return (m * (pix ** 2) / 2) + (a * pix) + b\n",
    "    \n",
    "    def wl_to_pix(self, wl):\n",
    "        a = self.pf_min\n",
    "        b = self.min\n",
    "        m = self.pf_m\n",
    "        return (np.sqrt((a ** 2) - (2 * b * m) + (2 * m * wl)) - a) / m\n",
    "        \n",
    "        #     def pix_to_wl(self, pix):\n",
    "#         return self.min + (pix / self.fac)\n",
    "    \n",
    "#     def wl_to_pix(self, wl):\n",
    "#         return (wl - self.min) * self.fac\n",
    "        \n",
    "        \n",
    "class Spectrograph:\n",
    "    def __init__(self, initFilePath, bgrNoiseMu, bgrNoiseSD, fwhm, precision, blaze):\n",
    "        self.orders = []\n",
    "        \n",
    "        with open(initFilePath, 'rb') as initFile:\n",
    "            reader = csv.DictReader(initFile)\n",
    "            for row in reader:\n",
    "                id = np.int32(row['order'])\n",
    "                min = np.float64(row['min'])\n",
    "                max = np.float64(row['max'])\n",
    "                blaze_peak = np.float64(row['peak'])\n",
    "                res = np.int32(np.floor(np.float64(row['length_peak'])))\n",
    "                pf_min = np.float64(row['plate_min'])\n",
    "                pf_max = np.float64(row['plate_max'])\n",
    "                self.orders.append(Order(id, min, max, blaze_peak, res, pf_min, pf_max))\n",
    "                \n",
    "#     def __init__(self, id, min, max, blaze_peak, res, pf_min, pf_max):\n",
    "#         self.orders[0] = Order(28, 400, 420, 406, 4000, 0.001, 0.01)\n",
    "                \n",
    "        self.nOrders = len(orders)\n",
    "        self.order_offset = self.orders[0].id\n",
    "        \n",
    "        self.bgrNoiseMu = bgrNoiseMu\n",
    "        self.bgrNoiseSD = bgrNoiseSD\n",
    "        self.psf_sigma = fwhm / (2 * np.sqrt(2 * np.log(2))) # sd = fhwm / 2sqrt(2ln2)\n",
    "        self.precision = precision\n",
    "        self.blaze = blaze\n",
    "        \n",
    "        # Calculate the bootstrap errors of each order\n",
    "#         startWls = self.minWl + (np.arange(0, self.nOrders) * self.orderSize) \n",
    "#         self.bstrap_errs = np.random.normal(0, startWls * fwhm_to_sig(50) / 3e8)\n",
    "                                            \n",
    "    # A spectrograph can observe many beams: a beam is a mapping of wavelength (in nm) to intensity\n",
    "    \n",
    "    def blaze_order(self, wlSpace, obs, fsr, mid):\n",
    "        sigma = fsr / (2.0 * np.sqrt(2.0 * np.log(2)))  # Assume FWHM of blaze is FSR of order\n",
    "        return obs * np.exp(-(wlSpace - mid) ** 2 / (2.0 * sigma ** 2)) \n",
    "    \n",
    "    def bstrap_space(self, orders='all'):\n",
    "        bstrap_space = np.empty((self.nOrders, self.xres,))\n",
    "        \n",
    "        if orders == 'all':\n",
    "            orders = range(0, self.nOrders)\n",
    "            \n",
    "        for i in orders:\n",
    "            startWl = self.minWl + (i * self.orderSize)\n",
    "            endWl = startWl + self.orderSize\n",
    "            bstrap_space[i] = np.linspace(startWl, endWl, self.xres, endpoint=False) + self.bstrap_errs[i]\n",
    "            \n",
    "        return bstrap_space\n",
    "    \n",
    "    def observe(self, beams, orders='all'):\n",
    "        space = []\n",
    "        obs = []\n",
    "        \n",
    "        if orders == 'all':\n",
    "            orders = range(0, self.nOrders)\n",
    "        \n",
    "        for i in orders:\n",
    "            idx = i - self.order_offset\n",
    "            order = self.orders[idx]\n",
    "            order_space = np.linspace(order.min, order.max, order.res)\n",
    "            order_obs = np.zeros(order.res)\n",
    "\n",
    "            bgrNoise = np.random.normal(self.bgrNoiseMu, self.bgrNoiseSD, order.res) # Background noise\n",
    "            bgrNoise[bgrNoise < 0.0] = 0.0001\n",
    "            order_obs += bgrNoise\n",
    "\n",
    "#             pix_ls = np.zeros(order_obs.size)\n",
    "#             pix_rs = np.zeros(order_obs.size)\n",
    "#             pix_width = 1 / order.fac\n",
    "#             for i in range(0, order_space.size):\n",
    "#                 pix_ls[i] = order_space[i] - pix_width\n",
    "#                 pix_rs[i] = order_space[i] + pix_width\n",
    "#             # Each mapping in a beam becomes a gaussian\n",
    "#             for beam in beams:\n",
    "#                 for wl in beam:\n",
    "# #                     order_obs += gauss(order_space, wl, self.psf_sigma, beam[wl])\n",
    "#                     order_obs += gauss_area(pix_ls, pix_rs, wl, self.psf_sigma, beam[wl])\n",
    "            pix_ls = np.zeros(order_obs.size)\n",
    "            pix_rs = np.zeros(order_obs.size)\n",
    "            pix_ls[0] = order.min\n",
    "            pix_rs[0] = order.min + order.get_pf(0)\n",
    "            order.pix_means = np.zeros(order_obs.size)\n",
    "            order.pix_means[0] = (pix_ls[0] + pix_rs[0]) / 2.0\n",
    "            for i in range(1, order_obs.size):\n",
    "                pix_ls[i] = pix_rs[i - 1]\n",
    "                pix_rs[i] = pix_ls[i] + order.get_pf(i)\n",
    "                order.pix_means[i] = (pix_ls[i] + pix_rs[i]) / 2.0\n",
    "            \n",
    "            for beam in beams:\n",
    "                for wl in beam:\n",
    "                    order_obs += gauss_area(pix_ls, pix_rs, wl, self.psf_sigma, beam[wl])\n",
    "\n",
    "            # Add shot noise\n",
    "            order_obs += np.random.normal(0.0, np.sqrt(order_obs) * self.precision, len(order_space))\n",
    "            \n",
    "            # Blaze\n",
    "            if self.blaze:\n",
    "                order_obs = self.blaze_order(order_space, order_obs, order.fsr, order.blaze_peak)\n",
    "            \n",
    "#             plt.scatter(order_space, order_obs)\n",
    "#             plt.show()\n",
    "            \n",
    "            space.append(np.linspace(0, order.res, order.res))\n",
    "            obs.append(order_obs)\n",
    "\n",
    "        return space, obs\n",
    "    \n",
    "class LFC:\n",
    "    def __init__(self, intensity, minWl, maxWl, dWl):\n",
    "        self.intensity = intensity\n",
    "        self.minWl = minWl\n",
    "        self.maxWl = maxWl\n",
    "        self.span = self.maxWl - self.minWl\n",
    "        self.dWl = np.float64(dWl)\n",
    "    def getPeaks(self):\n",
    "        peaks = np.empty(0)\n",
    "        current = self.minWl;\n",
    "        while(current <= self.maxWl):\n",
    "            peaks = np.append(peaks, current)\n",
    "            current += self.dWl\n",
    "        return peaks\n",
    "    def simulate(self):\n",
    "        sim = {}\n",
    "        current = self.minWl\n",
    "        while current <= self.maxWl:\n",
    "            sim[current] = self.intensity\n",
    "            current += self.dWl\n",
    "        return sim"
   ]
  },
  {
   "cell_type": "code",
   "execution_count": null,
   "metadata": {
    "collapsed": false
   },
   "outputs": [],
   "source": [
    "%%time\n",
    "# def __init__(self, initFilePath, bgrNoiseMu, bgrNoiseSD, fwhm, precision, blaze):\n",
    "sgraph = Spectrograph('../data/expres_specs.csv', 1000.0, 300.0, 0.0075, 1.0, True)\n",
    "# def __init__(self, intensity, minWl, maxWl, dWl):\n",
    "lfc = LFC(1000000, sgraph.orders[-1].min, sgraph.orders[0].max - 1, 1/31.0) # First order has highest wl!"
   ]
  },
  {
   "cell_type": "code",
   "execution_count": null,
   "metadata": {
    "collapsed": false
   },
   "outputs": [],
   "source": [
    "sgraph.orders[0].prints()"
   ]
  },
  {
   "cell_type": "code",
   "execution_count": null,
   "metadata": {
    "collapsed": false
   },
   "outputs": [],
   "source": [
    "%%time\n",
    "order_id = 28\n",
    "order_idx = order_id - sgraph.order_offset\n",
    "orders=[order_id]\n",
    "order = sgraph.orders[order_idx]\n",
    "xs, ys = sgraph.observe([lfc.simulate()], orders=orders)\n",
    "sgraph.orders[order_idx].prints()\n",
    "# plt.scatter(xs[0], ys[0])\n",
    "x = np.linspace(0, 4000, 4000)\n",
    "y = sgraph.orders[order_idx].pix_means\n",
    "plt.plot(x, y, color='blue')\n",
    "a = (order.pf_max - order.pf_min) / order.min / 20\n",
    "b = order.pf_min\n",
    "c = order.min\n",
    "pred = fit(x, a, b, c)\n",
    "def fit(x, a, b, c):\n",
    "    return (a * x ** 2) + (b * x) + c\n",
    "# gmod = lmfit.Model(fit)\n",
    "# result = gmod.fit(y, x=x, a=1, b=1, c=1, method='leastsq')\n",
    "# a = result.params['a'].value\n",
    "# b = result.params['b'].value\n",
    "# c = result.params['c'].value\n",
    "# pred = result.best_fit\n",
    "print('a: %.12f, b: %.12f, c: %.12f' % (a, b, c))\n",
    "plt.plot(x, pred, color='green')\n",
    "# plt.xlim(2000, 2100)\n",
    "# plt.xlim(0, 500)\n",
    "# plt.xlim(3500, 4000)\n",
    "# print(np.sum(np.linspace(0.001, 0.01, 4000)))"
   ]
  },
  {
   "cell_type": "markdown",
   "metadata": {},
   "source": [
    "# Finding maxima"
   ]
  },
  {
   "cell_type": "code",
   "execution_count": 755,
   "metadata": {
    "collapsed": false
   },
   "outputs": [],
   "source": [
    "def get_peaks(shift, sgraph, lfc, n, mode='wl'):\n",
    "    if mode == 'wl':\n",
    "        diff = lfc.dWl\n",
    "    elif mode == 'pix':\n",
    "        diff = lfc.dWl * sgraph.fac\n",
    "    else:\n",
    "        print('Bad mode in peaks')\n",
    "        return 'error'\n",
    "    peaks = np.zeros(n)\n",
    "    current = shift\n",
    "    for i in range(0, n):\n",
    "        peaks[n] = current\n",
    "        current += diff\n",
    "    return peaks\n",
    "    \n",
    "def pred_error(y, pred_y, solution, prediction):\n",
    "    lse = np.mean(np.abs(y - pred_y))\n",
    "    error = np.abs(solution - prediction) / solution * 3e8\n",
    "    return lse, error\n",
    "    \n",
    "def guess_min(x, y):\n",
    "    guess_x = x[y > 2000]\n",
    "    guess_y = y[y > 2000]\n",
    "    max_idx = signal.argrelextrema(guess_y, np.greater, order=10)\n",
    "    guess_max_x = guess_x[max_idx]\n",
    "    guess_max_y = guess_y[max_idx]\n",
    "    guess_x = guess_max_x[0]\n",
    "    guess_y = guess_max_y[0]\n",
    "    return guess_x, guess_y\n",
    "\n",
    "def plot_fit(order, lfc, x, y, ss_x, ss_y, y_pred, guess_x, pred_shift_wl):\n",
    "    fig = plt.figure(1)\n",
    "#     plt.scatter(ss_x, ss_y, color='magenta', marker='o', facecolors='none')\n",
    "    plt.scatter(x, y, color='blue', marker='o', facecolors='none')\n",
    "    plt.plot(ss_x, y_pred, color='red')\n",
    "#     pred_peaks = sgraph.wl_to_pix(get_peaks(pred_shift_wl, sgraph, lfc, len(lfc.getPeaks()), mode='wl'), order_idx)\n",
    "#     for peak in pred_peaks:\n",
    "#         plt.axvline(peak, color='green')\n",
    "#     for peak in lfc_peaks:\n",
    "#         plt.axvline((peak - sgraph.minWl) * sgraph.fac, color='purple')\n",
    "#     plt.ylim(-100000,800000)\n",
    "#     plt.axvline(guess_x, color='green')\n",
    "#     plt.xlim(sgraph.wl_to_pix(lfc.minWl - 2 * lfc.dWl), sgraph.wl_to_pix(lfc.minWl + 8 * lfc.dWl))\n",
    "#     plt.xlim(3900, 4000)\n",
    "#     plt.savefig('../figs/fitted.png')\n",
    "    return fig"
   ]
  },
  {
   "cell_type": "code",
   "execution_count": 765,
   "metadata": {
    "collapsed": false
   },
   "outputs": [],
   "source": [
    "def find_lfc_peaks(sgraph, lfc, order_id, interpolate, output=True, plot=True, order_model=None):\n",
    "    order = sgraph.orders[order_id - sgraph.order_offset]\n",
    "    lfc_peaks = lfc.getPeaks()\n",
    "    \n",
    "    lfc_beam = lfc.simulate()\n",
    "    xs, ys = sgraph.observe([lfc_beam], orders=[order_id])\n",
    "    x = xs[0]\n",
    "    y = ys[0]\n",
    "    \n",
    "    order_beam = {k: v for k, v in lfc_beam.iteritems() if k >= order.min}\n",
    "    solution_wl = min(order_beam)\n",
    "    solution_pix = order.wl_to_pix(solution_wl)\n",
    "    if output:\n",
    "        print('Solution is: {}pix or {}nm'.format(solution_pix, solution_wl))\n",
    "\n",
    "    \n",
    "    if interpolate:\n",
    "        # Do a cubic interpolation of x and y \n",
    "        spl = scipy.interpolate.UnivariateSpline(x, y, k=3)\n",
    "        # ss stands for supersampled\n",
    "        ss_x = np.linspace(0, order.res, order.res * 5, dtype=np.float64)\n",
    "        ss_y = spl(ss_x)\n",
    "    else:\n",
    "        ss_x = x\n",
    "        ss_y = y\n",
    "        \n",
    "    ss_y[ss_y <= 0.0] = 1e-15\n",
    "    \n",
    "    order_fac = order.res / order.fsr\n",
    "    if order_model == None:\n",
    "        def order_model(wl, minWl, a, b, c):\n",
    "            maxWl = minWl + order.res\n",
    "            \n",
    "#             old_wl = wl\n",
    "#             wl_lol = m * old_wl\n",
    "#             wl = old_wl * wl_lol\n",
    "#             wl = wl * (m * wl)\n",
    "            wl_n = (a * wl ** 2) + (b * wl) + c\n",
    "            \n",
    "            result = per_gauss(wl_n, sgraph.psf_sigma / order.pf_min, minWl, maxWl, lfc.dWl / order.pf_min, np.max(ss_y))\n",
    "\n",
    "            if sgraph.blaze:\n",
    "                sigma = order.res / (2.0 * np.sqrt(2.0 * np.log(2)))  # Assume FWHM of blaze is FSR of order\n",
    "                result = result * np.exp(-(wl_n - (order.res / 2)) ** 2 / (2.0 * sigma ** 2)) \n",
    "            return result\n",
    "        \n",
    "    # Fit on interpolated data\n",
    "    guess_x, guess_y = guess_min(ss_x, ss_y)\n",
    "    if output:\n",
    "        print('Initial guess for shift is: {}pix or {}nm'.format(np.asarray([guess_x]), order.pix_to_wl(guess_x)))\n",
    "    \n",
    "    # Use lmfit for fitting\n",
    "    gmod = lmfit.Model(order_model)\n",
    "    result = gmod.fit(ss_y, wl=ss_x, minWl=guess_x, a=1, b=1, c=1, method='lbfgsb', weights=1/np.sqrt(ss_y),\n",
    "                      options={'ftol':1e-20, 'gtol':1e-20, 'maxiter':20000*(len(ss_x) + 1), 'factr':1.0, 'disp':True, \n",
    "                               'eps':np.finfo(np.float64).eps, 'maxls':100, 'maxfun':100000, 'maxcor':100})\n",
    "#     result = gmod.fit(ss_y, wl=ss_x, minWl=guess_x, method='leastsq', weights=1/np.sqrt(ss_y),\n",
    "#                       options={'disp': True, 'xtol': 1e-20, 'ftol': 1e-20, 'maxiter':20000000, 'maxfev':200000})\n",
    "    pred_shift = result.params['minWl'].value\n",
    "    print('a', result.params['a'].value)\n",
    "    print('b', result.params['b'].value)\n",
    "    print('c', result.params['c'].value)\n",
    "    y_pred = result.best_fit\n",
    "    nfev = result.nfev\n",
    "    pred_shift_wl = order.pix_to_wl(pred_shift)\n",
    "    \n",
    "    if output:\n",
    "        print('Predicted shift is: {}pix or {}nm'.format(np.asarray([pred_shift]), pred_shift_wl))\n",
    "        print('Number of calls: {}'.format(nfev))\n",
    "    \n",
    "#     pred_peaks = get_peaks(pred_shift_wl, lfc, len(lfc_peaks))\n",
    "    \n",
    "    lse, error = pred_error(ss_y, y_pred, solution_wl, pred_shift_wl)\n",
    "    if output:\n",
    "        print('Least squares error is {}'.format(lse))\n",
    "        print('Error is: {}m/s'.format(error))\n",
    "    \n",
    "    fig = None\n",
    "    if plot:\n",
    "        fig = plot_fit(order, lfc, x, y, ss_x, ss_y, y_pred, guess_x, pred_shift_wl)\n",
    "    \n",
    "    return ss_x, ss_y, pred_shift, lse, error, fig, order_model"
   ]
  },
  {
   "cell_type": "code",
   "execution_count": 766,
   "metadata": {
    "collapsed": false
   },
   "outputs": [
    {
     "name": "stdout",
     "output_type": "stream",
     "text": [
      "CPU times: user 3.33 ms, sys: 0 ns, total: 3.33 ms\n",
      "Wall time: 3.33 ms\n"
     ]
    }
   ],
   "source": [
    "%%time\n",
    "rand = np.random.random(1)[0]\n",
    "SNR = 1000\n",
    "# def __init__(self, initFilePath, bgrNoiseMu, bgrNoiseSD, fwhm, precision, blaze):\n",
    "sgraph = Spectrograph('../data/expres_specs.csv', 1000.0, 300.0, 0.0075, 1.0, True)\n",
    "# def __init__(self, intensity, minWl, maxWl, dWl):\n",
    "lfc = LFC(SNR ** 2, sgraph.orders[-1].min + rand, sgraph.orders[0].max - 1 + rand, 1/31.0) # First order has highest wl!"
   ]
  },
  {
   "cell_type": "code",
   "execution_count": 767,
   "metadata": {
    "collapsed": false
   },
   "outputs": [
    {
     "name": "stdout",
     "output_type": "stream",
     "text": [
      "Solution is: 13.9802514542pix or 1047.62035948nm\n",
      "Initial guess for shift is: [ 13.400249121567606]pix or 1047.61938573nm\n",
      " - Adding parameter \"minWl\"\n",
      " - Adding parameter \"a\"\n",
      " - Adding parameter \"b\"\n",
      " - Adding parameter \"c\"\n",
      "('a', 1.0)\n",
      "('b', 1.0)\n",
      "('c', 1.0)\n",
      "Predicted shift is: [ 13.400249121567606]pix or 1047.61938573nm\n",
      "Number of calls: 16\n",
      "Least squares error is 43542.373479\n",
      "Error is: 278.847204585m/s\n",
      "CPU times: user 1min 31s, sys: 36.7 ms, total: 1min 31s\n",
      "Wall time: 1min 31s\n"
     ]
    },
    {
     "data": {
      "image/png": "[encoded data removed]",
      "text/plain": [
       "<matplotlib.figure.Figure at 0x7f8a36efb0d0>"
      ]
     },
     "metadata": {},
     "output_type": "display_data"
    }
   ],
   "source": [
    "%%time\n",
    "interpolate = True\n",
    "order = 58\n",
    "ss_x, ss_y, pred_shift, lse, error, fig, model = find_lfc_peaks(sgraph, lfc, order, interpolate)"
   ]
  },
  {
   "cell_type": "code",
   "execution_count": null,
   "metadata": {
    "collapsed": false
   },
   "outputs": [],
   "source": [
    "order = sgraph.orders[58 - sgraph.order_offset]\n",
    "plt.scatter(ss_x, ss_y, color='blue', marker='o', facecolors='none')\n",
    "plt.plot(ss_x, model(ss_x, 9, 6.46e-4), color='red')\n",
    "# plt.xlim(0, 100)\n",
    "# plt.xlim(1000, 2000)\n",
    "plt.xlim(4000, 5000)\n",
    "# plt.plot(ss_x, y_pred, color='red')"
   ]
  },
  {
   "cell_type": "code",
   "execution_count": null,
   "metadata": {
    "collapsed": false
   },
   "outputs": [],
   "source": [
    "ax = fig.axes[0]\n",
    "order = sgraph.orders[58 - sgraph.order_offset]\n",
    "# ax.set_xlim(0, 100)\n",
    "# ax.set_xlim(4000, 4100)\n",
    "fig"
   ]
  },
  {
   "cell_type": "code",
   "execution_count": null,
   "metadata": {
    "collapsed": false
   },
   "outputs": [],
   "source": [
    "ax = fig.axes[0]\n",
    "ax.set_xlim(0, 1000)\n",
    "# ax.set_xlim(0, 5100)\n",
    "fig"
   ]
  },
  {
   "cell_type": "code",
   "execution_count": null,
   "metadata": {
    "collapsed": false
   },
   "outputs": [],
   "source": [
    "order_id = 58\n",
    "order_idx = order_id - sgraph.order_offset\n",
    "order = sgraph.orders[order_idx]\n",
    "x = np.linspace(0, 4000, 4000)\n",
    "# def per_gauss(wl, sigma, minWl, maxWl, period, amplitude):\n",
    "# x_lol = -1.0000001 * x\n",
    "# x_n = x * x_lol\n",
    "x_n = x + (-1.000001 * (x ** 2))\n",
    "y = per_gauss(x, 30, 0, 10000, 200, 1000)\n",
    "print(x_n[0:10])\n",
    "plt.plot(x_n, y)"
   ]
  },
  {
   "cell_type": "code",
   "execution_count": null,
   "metadata": {
    "collapsed": false
   },
   "outputs": [],
   "source": [
    "%%time\n",
    "# Make a plot of error to SNR\n",
    "def sensitivity(sgraph, lfc, attr, nReps, rang, tol=6, **kwargs):\n",
    "    x = np.zeros(len(rang))\n",
    "    y = np.zeros((len(rang), nReps))\n",
    "    print('Running %d times for each value in %s' % (nReps, rang))\n",
    "    for i, val in enumerate(rang):\n",
    "        print('Run %d with %f %s' % (i, val, attr))\n",
    "        if hasattr(lfc, attr):\n",
    "            setattr(lfc, attr, val)\n",
    "        elif hasattr(sgraph, attr):\n",
    "            setattr(sgraph, attr, val)\n",
    "        else:\n",
    "            print('Error, bad attribute')\n",
    "            return\n",
    "        x[i] = val\n",
    "        for j in range(0, nReps):\n",
    "            err = tol\n",
    "            while err >= tol:\n",
    "                _, _, _, _, err = find_lfc_peaks(sgraph, lfc, True, **kwargs)\n",
    "            y[i][j] = err\n",
    "    return x,y"
   ]
  },
  {
   "cell_type": "markdown",
   "metadata": {},
   "source": [
    "# SNR sensitivity plot"
   ]
  },
  {
   "cell_type": "code",
   "execution_count": null,
   "metadata": {
    "collapsed": false
   },
   "outputs": [],
   "source": [
    "%%time\n",
    "rand = np.random.random(1)[0]\n",
    "sgraph = Spectrograph(4000, 80, 10.0, 399.0, 1000.0, 300.0, 0.0075, 1.0, True)\n",
    "lfc = LFC(1000000, 400 + rand, 430 + rand, 0.03)\n",
    "\n",
    "# rang = [10000, 40000, 90000, 160000, 250000, 360000]\n",
    "# rang = [490000, 640000, 810000, 1000000]\n",
    "rang = [200 ** 2, 400 ** 2, 600 ** 2, 800 ** 2, 1000 ** 2]\n",
    "print(rang)\n",
    "snr_plot_axis, snr_plot_data = sensitivity(sgraph, lfc, 'intensity', 20, rang, output=True, plot=False)\n",
    "plt.boxplot(np.transpose(snr_plot_data), labels=np.char.mod('%f', np.sqrt(snr_plot_axis)))\n",
    "plt.show()\n",
    "%store snr_plot_axis\n",
    "%store snr_plot_data"
   ]
  },
  {
   "cell_type": "code",
   "execution_count": null,
   "metadata": {
    "collapsed": false
   },
   "outputs": [],
   "source": [
    "plt.figure(1, figsize=(10,3))\n",
    "plt.boxplot(np.transpose(snr_plot_data), labels=np.char.mod('%.1f', np.sqrt(snr_plot_axis)))\n",
    "plt.ylabel('Error in m/s')\n",
    "plt.xlabel('SNR')\n",
    "ax = plt.subplot(111)\n",
    "ax.set_yscale('log')\n",
    "plt.ylim(1e-4, 1e1)\n",
    "plt.axhline(0.1, color='black', linestyle='dashed')\n",
    "plt.figtext(0.6, 0.35, 'Goal precision', size='xx-large')\n",
    "plt.savefig('../figs/snrverr.png')"
   ]
  },
  {
   "cell_type": "markdown",
   "metadata": {},
   "source": [
    "# PSF stability sensitivity plot"
   ]
  },
  {
   "cell_type": "code",
   "execution_count": null,
   "metadata": {
    "collapsed": false
   },
   "outputs": [],
   "source": [
    "%%time\n",
    "rand = np.random.random(1)[0]\n",
    "# def __init__(self, xres, nOrders, orderSize, minWl, bgrNoiseMu, bgrNoiseSD, fwhm, precision):\n",
    "sgraph = Spectrograph(4000, 80, 10.0, 399.0, 1000.0, 300.0, 0.0075, 1.0, True)\n",
    "# def __init__(self, intensity, minWl, maxWl, dWl):\n",
    "lfc = LFC(1000000, 400 + rand, 430 + rand, 0.03)\n",
    "\n",
    "\n",
    "rang = [(0.0075 + (0.0025 / 10)) / (2 * np.sqrt(2 * np.log(2))), \n",
    "        (0.0075 + (0.0025 / 25)) / (2 * np.sqrt(2 * np.log(2))),\n",
    "        (0.0075 + (0.0025 / 50)) / (2 * np.sqrt(2 * np.log(2))),\n",
    "        (0.0075 + (0.0025 / 100)) / (2 * np.sqrt(2 * np.log(2)))]\n",
    "print(rang)\n",
    "model_sigma = sgraph.psf_sigma * sgraph.fac\n",
    "def model(wl, minWl):\n",
    "    lfc_peaks = lfc.getPeaks()\n",
    "    maxWl = minWl + (len(lfc_peaks) * lfc.dWl * sgraph.fac)\n",
    "    result = per_gauss(wl, model_sigma, minWl, maxWl, lfc.dWl * sgraph.fac, lfc.intensity)\n",
    "    if sgraph.blaze:\n",
    "        sigma = sgraph.xres / (2.0 * np.sqrt(2.0 * np.log(2)))  # Assume FWHM of blaze is FSR of order\n",
    "        result = result * np.exp(-(wl - (sgraph.xres / 2)) ** 2 / (2.0 * sigma ** 2)) \n",
    "    return result\n",
    "\n",
    "psf_plot_axis, psf_plot_data = sensitivity(sgraph, lfc, 'psf_sigma', 20, rang, tol=10, plot=True, output=True, order_model=model)\n",
    "plt.boxplot(np.transpose(psf_plot_data), labels=np.char.mod('%e', np.arange(2.7, 3.31, 1/10.0)))\n",
    "plt.show()\n",
    "%store psf_plot_axis\n",
    "%store psf_plot_data"
   ]
  },
  {
   "cell_type": "code",
   "execution_count": null,
   "metadata": {
    "collapsed": false
   },
   "outputs": [],
   "source": [
    "plt.figure(1, figsize=(10,3))\n",
    "plt.boxplot(np.transpose(psf_plot_data), labels=np.char.mod('%.2f', np.asarray([3.1, 3.04, 3.02, 3.01])))\n",
    "plt.xlabel('Full width at half maximum of simulated PSF')\n",
    "plt.ylabel('Error in m/s')\n",
    "plt.savefig('../figs/stabverr.png')\n",
    "# Add some more points, in range 1/10th pixel. Maybe (0.5, 0.1, 0.01), something like that"
   ]
  },
  {
   "cell_type": "markdown",
   "metadata": {},
   "source": [
    "# Correlation of residuals with shift difference"
   ]
  },
  {
   "cell_type": "code",
   "execution_count": null,
   "metadata": {
    "collapsed": false
   },
   "outputs": [],
   "source": [
    "%%time\n",
    "rand = np.random.random(1)[0]\n",
    "SNR = 1000\n",
    "n = 100\n",
    "tol = 100.0\n",
    "lses = np.zeros(n)\n",
    "errors = np.zeros(n)\n",
    "for i in range(0, n):\n",
    "    print('Run %d:' % (i))\n",
    "    # def __init__(self, xres, nOrders, orderSize, minWl, bgrNoiseMu, bgrNoiseSD, fwhm, precision):\n",
    "    sgraph = Spectrograph(4000, 80, 10.0, 399.0, 1000.0, 300.0, 0.0075, 1.0, True)\n",
    "    # def __init__(self, intensity, minWl, maxWl, dWl):\n",
    "    lfc = LFC(SNR ** 2, 400 + rand, 430 + rand, 1/31.0)\n",
    "    interpolate = True\n",
    "    error = tol + 1\n",
    "    while error >= tol:\n",
    "        _, _, _, lse, error = find_lfc_peaks(sgraph, lfc, interpolate, output=True, plot=False)\n",
    "    lses[i] = lse\n",
    "    errors[i] = error\n",
    "%store lses\n",
    "%store errors\n",
    "plt.scatter(errors, lses)"
   ]
  },
  {
   "cell_type": "code",
   "execution_count": null,
   "metadata": {
    "collapsed": false
   },
   "outputs": [],
   "source": [
    "def fit(x, m, b):\n",
    "    return m*x+b\n",
    "gmod = lmfit.Model(fit)\n",
    "result = gmod.fit(lses, x=errors, m=1, b=0, method='leastsq', options={})\n",
    "print(result.fit_report())\n",
    "print(result.ci_report())\n",
    "preds = result.best_fit\n",
    "plt.scatter(errors, lses)\n",
    "plt.plot(errors, preds)\n",
    "m = result.params['m'].value\n",
    "b = result.params['b'].value\n",
    "print('m: %f, b: %f' % (m, b))\n"
   ]
  },
  {
   "cell_type": "code",
   "execution_count": null,
   "metadata": {
    "collapsed": false
   },
   "outputs": [],
   "source": [
    "plt.hist(lses)"
   ]
  },
  {
   "cell_type": "markdown",
   "metadata": {},
   "source": [
    "# Assigning wavelengths to pixels"
   ]
  },
  {
   "cell_type": "code",
   "execution_count": null,
   "metadata": {
    "collapsed": false
   },
   "outputs": [],
   "source": [
    "rand = np.random.random(1)[0]\n",
    "interpolate = True\n",
    "SNR = 1000\n",
    "# def __init__(self, xres, nOrders, orderSize, minWl, bgrNoiseMu, bgrNoiseSD, fwhm, precision):\n",
    "sgraph = Spectrograph(4000, 80, 10.0, 399.0, 1000.0, 300.0, 0.0075, 1.0, True)\n",
    "# def __init__(self, intensity, minWl, maxWl, dWl):\n",
    "lfc = LFC(SNR ** 2, 400 + rand, 430 + rand, 1/31.0)\n",
    "x, y, pred_shift, _, _ = find_lfc_peaks(sgraph, lfc, interpolate)\n",
    "pred_shift_wl = sgraph.pix_to_wl(pred_shift)\n",
    "peaks = get_peaks(pred_shift, sgraph, lfc, len(lfc.getPeaks()), mode='pix')\n",
    "bstrap_space = sgraph.bstrap_space(orders=[0])\n",
    "\n",
    "plt.scatter(x, y)\n",
    "for peak in peaks:\n",
    "    plt.axvline(peak)\n",
    "plt.show()"
   ]
  },
  {
   "cell_type": "markdown",
   "metadata": {},
   "source": [
    "# Notes\n",
    "**For future**:\n",
    "- Make a table of effect of increasing the lfc intensity\n",
    "- Create plot of jitter to error\n",
    "- Resolution = wl of order / (wl to pix ratio) -> 400 / 0.025\n",
    "- 80 orders [pix, intens, order]\n",
    "- Further away orders are distorted\n",
    "- Should use adjacent order\n",
    "- Generate plots of SNR to error in cm/s\n",
    "    - Moving Sigma from 2 to 4, R from 50,000 to 20,0000\n",
    "- Paper submission to PASP\n",
    "\n",
    "**Open questions**:\n",
    "- Spectrograph error distribution: what is a good mean and a mean sdev?\n",
    "- Doing least squares: should I weight according to error? For example, know error increases with intensity\n",
    "\n",
    "\n",
    "**Todays notes**:\n",
    "Stop plot at SNR 500 (intensity 250,000)\n",
    "\n",
    "\n",
    "**Ask tyler for specs of EXPRESS**\n",
    "IOP paper guidelines"
   ]
  },
  {
   "cell_type": "code",
   "execution_count": null,
   "metadata": {
    "collapsed": false
   },
   "outputs": [],
   "source": [
    "plt.boxplot(np.transpose(y), labels=x)\n",
    "plt.ylim(0,3)\n",
    "plt.show()"
   ]
  },
  {
   "cell_type": "code",
   "execution_count": null,
   "metadata": {
    "collapsed": false
   },
   "outputs": [],
   "source": [
    "print(y)"
   ]
  },
  {
   "cell_type": "markdown",
   "metadata": {},
   "source": [
    "# Using energy instead of SNR directly"
   ]
  },
  {
   "cell_type": "code",
   "execution_count": null,
   "metadata": {
    "collapsed": false
   },
   "outputs": [],
   "source": [
    "hc = 1.9864458e-25\n",
    "integ = integrate.quad(lambda wl: gauss(wl, 0, 4, 1), -np.inf, np.inf)\n",
    "# x = np.linspace(-20, 20, 1000)\n",
    "# y = gauss(x, 0, 4, 1)\n",
    "# plt.hist(y, 100)\n",
    "# plt.plot(x,y)\n",
    "print(integ[0])\n",
    "# k = laser_E / photon_energy\n",
    "laser_e = 12\n",
    "wl = 400e-9\n",
    "k = (laser_e / (hc / wl)) / integ[0]\n",
    "k"
   ]
  },
  {
   "cell_type": "markdown",
   "metadata": {},
   "source": [
    "# Failed code to use multiple orders in fitting: impossible!"
   ]
  },
  {
   "cell_type": "code",
   "execution_count": null,
   "metadata": {
    "collapsed": true
   },
   "outputs": [],
   "source": [
    "def find_lfc_peaks_mult_orders(sgraph, lfc, orderId):\n",
    "    lfc_peaks = lfc.getPeaks()\n",
    "    \n",
    "    print('Solution is: {}pix or {}nm'.format(sgraph.wl_to_pix(lfc.minWl), lfc.minWl))\n",
    "\n",
    "    space, obs = sgraph.observe([lfc.simulate()])\n",
    "    \n",
    "    bottom = False\n",
    "    top = False\n",
    "    mid = False\n",
    "    orders = []\n",
    "    spaces = []\n",
    "    # Select relevant orders\n",
    "    if orderId == 0: # If first order in spectrum\n",
    "        bottom = True\n",
    "        orders.append(obs[0])\n",
    "        spaces.append(space[0])\n",
    "        if len(obs) > 1:\n",
    "            orders.append(obs[1])\n",
    "            spaces.append(space[1])\n",
    "    elif orderId == len(obs) - 1: # else if last\n",
    "        top = True\n",
    "        orders.append(obs[-1])\n",
    "        spaces.append(space[-1])\n",
    "        if len(obs) > 1:\n",
    "            orders.append(obs[-2])\n",
    "            spaces.append(space[-2])\n",
    "    else: # else middle order\n",
    "        mid = True\n",
    "        orders.append(obs[orderId - 1])\n",
    "        spaces.append(space[orderId - 1])\n",
    "        orders.append(obs[orderId])\n",
    "        spaces.append(space[orderId])\n",
    "        orders.append(obs[orderId + 1])\n",
    "        spaces.append(space[orderId + 1])\n",
    "        \n",
    "    ss_xres = 5 * sgraph.xres\n",
    "    ss_xs = np.empty((len(orders), ss_xres))\n",
    "    ss_ys = np.empty((len(orders), ss_xres))\n",
    "    prev_range = None\n",
    "    # Interpolate selected orders\n",
    "    for i in range(0, len(orders)):\n",
    "        x = spaces[i]\n",
    "        y = orders[i]\n",
    "        \n",
    "        spl = interpolate.UnivariateSpline(x, y, k=3)\n",
    "        # This is the tricky part. I need the 'distance' between orders, so that I can\n",
    "        # align them in pixel space correctly. For now, I am assuming that they are adjacent\n",
    "#         ss_x = np.linspace(order_range[0], order_range[1], ss_xres, dtype=np.float64)\n",
    "        ss_x = np.linspace(x[0], x[-1], ss_xres)\n",
    "        ss_y = spl(ss_x)\n",
    "        ss_y[ss_y <= 0.0] = 1e-15\n",
    "        \n",
    "        ss_xs[i] = ss_x\n",
    "        ss_ys[i] = ss_y\n",
    "        \n",
    "    # Paste orders together\n",
    "    all_ss_x = np.concatenate(ss_xs)\n",
    "    all_ss_y = np.concatenate(ss_ys)\n",
    "    \n",
    "    # Fit on interpolated data\n",
    "    def per_gauss_fit(wl, shift):\n",
    "        # per_gauss(wl, sigma, minWl, maxWl, period, amplitude):\n",
    "        return per_gauss(wl, sgraph.sigma * sgraph.fac, all_ss_x[0] + shift, all_ss_x[-1] + shift, \n",
    "                         lfc.dWl * sgraph.fac, lfc.intensity)\n",
    "    \n",
    "    def err_func(shift):\n",
    "        err = 0.0\n",
    "        # Fit the same per_gauss on each order\n",
    "        for i in range(0, len(ss_xs)):\n",
    "            err += np.mean(np.abs(per_gauss_fit(ss_xs[i], shift) - ss_ys[i]))\n",
    "        return err\n",
    "        \n",
    "    guess_x, guess_y = guess_min(ss_xs[0], ss_ys[0])\n",
    "    print('Initial guess for shift is: {}pix or {}nm'.format(np.asarray([guess_x]), sgraph.pix_to_wl(guess_x)))\n",
    "    \n",
    "    gmod = lmfit.Model(per_gauss_fit)\n",
    "    # Should weight as well!!\n",
    "    result = gmod.fit(all_ss_y, wl=all_ss_x, shift=guess_x, method='lbfgsb', \n",
    "                      options={'ftol':1e-20, 'gtol':1e-20, 'maxiter':20000*(len(ss_x) + 1), 'factr':1.0, 'disp':True, \n",
    "                               'eps':np.finfo(np.float64).eps, 'maxls':100, 'maxfun':100000, 'maxcor':100})\n",
    "    pred_shift = result.params['shift'].value\n",
    "    all_y_pred = result.best_fit\n",
    "    nfev = result.nfev\n",
    "    \n",
    "    pred_shift_wl = sgraph.pix_to_wl(pred_shift)\n",
    "    \n",
    "    print('Predicted shift is: {}pix or {}nm'.format(np.asarray([pred_shift]), pred_shift_wl))\n",
    "    print('Number of calls: {}'.format(nfev))\n",
    "  \n",
    "    lse, error = pred_error(all_ss_y, all_y_pred, lfc.minWl, pred_shift_wl)\n",
    "    print('Least squares error is {}'.format(lse))\n",
    "    print('Error is: {}m/s'.format(error))\n",
    "    \n",
    "    plt.scatter(all_ss_x, all_ss_y, color='blue')\n",
    "    plt.plot(all_ss_x, all_y_pred, color='red')\n",
    "    plt.axvline(guess_x, color='turquoise')\n",
    "#     plt.xlim(sgraph.wl_to_pix(lfc.minWl - 3 * lfc.dWl), sgraph.wl_to_pix(lfc.minWl + 12 * lfc.dWl))\n",
    "    plt.xlim(7000, 7150)\n",
    "    fig = plt.show()\n",
    "    \n",
    "    return error"
   ]
  }
 ],
 "metadata": {
  "kernelspec": {
   "display_name": "Python 2",
   "language": "python",
   "name": "python2"
  },
  "language_info": {
   "codemirror_mode": {
    "name": "ipython",
    "version": 2
   },
   "file_extension": ".py",
   "mimetype": "text/x-python",
   "name": "python",
   "nbconvert_exporter": "python",
   "pygments_lexer": "ipython2",
   "version": "2.7.11"
  }
 },
 "nbformat": 4,
 "nbformat_minor": 0
}
