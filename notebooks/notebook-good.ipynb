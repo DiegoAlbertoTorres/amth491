{
 "cells": [
  {
   "cell_type": "code",
   "execution_count": 1,
   "metadata": {
    "collapsed": false
   },
   "outputs": [],
   "source": [
    "%matplotlib inline\n",
    "\n",
    "import numpy as np\n",
    "import matplotlib.pyplot as plt\n",
    "import matplotlib.pylab as pylab\n",
    "import scipy.optimize as optimize \n",
    "import scipy.fftpack as fftpack\n",
    "import scipy.signal as signal \n",
    "import scipy.interpolate as interpolate\n",
    "import types\n",
    "import algopy\n",
    "import lmfit\n",
    "\n",
    "import mpmath\n",
    "\n",
    "pylab.rcParams['figure.figsize'] = (15.0, 3.0)\n",
    "pylab.rcParams['axes.facecolor'] = 'lightgray'\n",
    "np.set_printoptions(precision=15)"
   ]
  },
  {
   "cell_type": "markdown",
   "metadata": {},
   "source": [
    "# Helper functions"
   ]
  },
  {
   "cell_type": "code",
   "execution_count": 2,
   "metadata": {
    "collapsed": true
   },
   "outputs": [],
   "source": [
    "def gauss(x, mu, sigma, amplitude): \n",
    "    return amplitude * np.exp( - ((x - mu) ** 2) / (2 * (sigma**2) ))\n",
    "\n",
    "def per_gauss(wl, sigma, minWl, maxWl, period, amplitude):\n",
    "    result = 0.0;\n",
    "    for i in range(0, int((maxWl-minWl) / period)):\n",
    "        result += gauss(wl, minWl + (i * period), sigma, amplitude)\n",
    "    return result"
   ]
  },
  {
   "cell_type": "markdown",
   "metadata": {},
   "source": [
    "# Classes that define simulated instruments."
   ]
  },
  {
   "cell_type": "code",
   "execution_count": 3,
   "metadata": {
    "collapsed": false,
    "scrolled": true
   },
   "outputs": [],
   "source": [
    "class Spectrograph:\n",
    "    def __init__(self, xres, bgrNoiseMu, bgrNoiseSD, minWl, maxWl, precision):\n",
    "        self.xres = xres\n",
    "        self.bgrNoiseMu = bgrNoiseMu\n",
    "        self.bgrNoiseSD = bgrNoiseSD\n",
    "        self.minWl = minWl\n",
    "        self.maxWl = maxWl\n",
    "        self.precision = precision\n",
    "    def activate(self, lfc):\n",
    "        x = np.linspace(self.minWl, self.maxWl, self.xres)\n",
    "        bgrNoise = np.random.normal(self.bgrNoiseMu, self.bgrNoiseSD, len(x)) # Background noise\n",
    "        bgrNoise[bgrNoise < 0.0] = 0.0\n",
    "\n",
    "        # Lfc\n",
    "        lfcReading = lfc.simulate(x) # LFC\n",
    "        # Also add shot noise. Noise is proportional to the square root of the intensity\n",
    "        lfcReading[lfcReading == 0.00] = 0.001\n",
    "        # This should be poisson because poisson is discrete, but it doesnt really matter, just call floor\n",
    "        shotNoise = np.random.normal(0, np.sqrt(lfcReading) * self.precision / 2, len(x))\n",
    "        lfcReading += shotNoise\n",
    "\n",
    "        # Overlap inputs by adding to y\n",
    "#         y = bgrNoise + lfcReading\n",
    "        y = lfcReading\n",
    "        return np.linspace(0, self.xres, self.xres), y\n",
    "\n",
    "class LFC:\n",
    "    def __init__(self, intensity, fhwm, minWl, maxWl, dWl):\n",
    "        self.intensity = intensity\n",
    "        self.sigma = fhwm / (2 * np.sqrt(2 * np.log(2))) # sd = fhwm / 2sqrt(2ln2)\n",
    "        self.minWl = minWl\n",
    "        self.maxWl = maxWl\n",
    "        self.span = self.maxWl - self.minWl\n",
    "        self.dWl = np.float64(dWl)\n",
    "    def getPeaks(self):\n",
    "        peaks = np.empty(0)\n",
    "        current = self.minWl;\n",
    "        while(current < self.maxWl):\n",
    "            peaks = np.append(peaks, current)\n",
    "            current += self.dWl\n",
    "        return peaks\n",
    "    def simulate(self, wlSpace):\n",
    "        y = per_gauss(wlSpace, self.sigma, self.minWl, self.maxWl, self.dWl, self.intensity)\n",
    "        return y"
   ]
  },
  {
   "cell_type": "markdown",
   "metadata": {},
   "source": [
    "# Simulating the LFC"
   ]
  },
  {
   "cell_type": "markdown",
   "metadata": {},
   "source": [
    "~~**Method 1**: Getting a comb by convolving the result of a gaussian and a delta function on the same linear space. Note that the result convolution is a set of points, not a function. Need high initial resolution to then use this as a 'real world' baseline.~~"
   ]
  },
  {
   "cell_type": "code",
   "execution_count": 4,
   "metadata": {
    "collapsed": false
   },
   "outputs": [],
   "source": [
    "# x = np.arange(-1, 1, 0.001)\n",
    "# y_gauss = vgauss(x, 0, 0.01, 1)\n",
    "\n",
    "# # The world's resolution\n",
    "# res = 30000\n",
    "# y_delta = np.repeat(0, res)\n",
    "# for i in range(0, len(y_delta)):\n",
    "#      if (i % (res * lfc.dWl / lfc.span)) == 0:\n",
    "#          y_delta[i] = 1\n",
    "# conv = np.convolve(y_gauss, y_delta, 'same')\n",
    "# plt.scatter(np.linspace(lfc.minWl, lfc.maxWl, res), conv)\n",
    "# # plt.xlim(400, 450)\n",
    "# pylab.rcParams['figure.figsize'] = (15.0, 2.0)\n",
    "# plt.show()"
   ]
  },
  {
   "cell_type": "markdown",
   "metadata": {},
   "source": [
    "**Method 2**: Adding a series of gaussians together to simulate a comb. Current implementation of the LFC class (Code is now part of the LFC class)."
   ]
  },
  {
   "cell_type": "markdown",
   "metadata": {},
   "source": [
    "# Finding maxima"
   ]
  },
  {
   "cell_type": "markdown",
   "metadata": {},
   "source": [
    "~~**Method 1**: Fitting |tan(x)|~~"
   ]
  },
  {
   "cell_type": "code",
   "execution_count": 5,
   "metadata": {
    "collapsed": false
   },
   "outputs": [],
   "source": [
    "# def absTan(x, a, b):\n",
    "#     return np.absolute(a * np.tan(b * x))\n",
    "    \n",
    "# x, y = sgraph.activate(lfc)\n",
    "# # plt.scatter(x, y)\n",
    "# # print(x)\n",
    "# # print(np.tan(x))\n",
    "# popt, pcov = optimize.curve_fit(absTan, x, y, p0=[5, 10])\n",
    "# y_fitted = absTan(x, popt[0], popt[1])\n",
    "\n",
    "# # x = np.linspace(400, 410, 7000)\n",
    "# # y = absTan(x, 1, 3)\n",
    "# # plt.plot(x, y, color='red')\n",
    "\n",
    "# plt.plot(x, y_fitted, color='red')\n",
    "# plt.scatter(x, y)\n",
    "\n",
    "# plt.xlim(400, 410)\n",
    "# plt.show()"
   ]
  },
  {
   "cell_type": "markdown",
   "metadata": {},
   "source": [
    "~~**Method 2**: Fitting a Fourier series~~"
   ]
  },
  {
   "cell_type": "code",
   "execution_count": 6,
   "metadata": {
    "collapsed": false
   },
   "outputs": [],
   "source": [
    "# x, y = sgraph.activate(lfc)\n",
    "# filter = y > 1 # Have to pick some threshold!\n",
    "# x_filtered = x[filter]\n",
    "# y_filtered = y[filter]\n",
    "\n",
    "# spec = fftpack.dct(y_filtered, norm='ortho', n=len(x_filtered))\n",
    "# # spec = np.fft.fft(y_filtered, norm='ortho', n=len(x_filtered))\n",
    "\n",
    "# # freqs = fftpack.fftfreq(len(y_filtered))\n",
    "# # maxFreq = freqs[maxFreqIdx]\n",
    "# # print(maxFreqIdx)\n",
    "# # print(maxFreq)\n",
    "# # print('max period is: ', 1/maxFreq)\n",
    "\n",
    "# maxFreqIdx = np.argmax(np.abs(spec[1:])) + 1\n",
    "# plt.plot(spec)\n",
    "# plt.scatter(maxFreqIdx, 50)\n",
    "# plt.show()\n",
    "\n",
    "# fitted_y = fftpack.idct(spec, norm='ortho', n=len(x_filtered))\n",
    "# # fitted_y = np.fft.ifft(spec[0:50], norm='ortho', n=len(x_filtered))\n",
    "\n",
    "# plt.scatter(x_filtered, y_filtered)\n",
    "# plt.plot(x_filtered, fitted_y, color='red')\n",
    "# # plt.xlim(400, 405)\n",
    "# # plt.ylim(1, 1.4)\n",
    "\n",
    "# extrema = signal.argrelextrema(fitted_y, np.greater, order=5)\n",
    "# x_ext = x_filtered[extrema[0]]\n",
    "# y_ext = fitted_y[extrema]\n",
    "# plt.scatter(x_ext, y_ext, color='green')\n",
    "\n",
    "# plt.show()"
   ]
  },
  {
   "cell_type": "markdown",
   "metadata": {
    "collapsed": true
   },
   "source": [
    "**Method 3:** Fitting a periodic gaussian"
   ]
  },
  {
   "cell_type": "code",
   "execution_count": 7,
   "metadata": {
    "collapsed": true
   },
   "outputs": [],
   "source": [
    "# Deprecated fitting code\n",
    "# Fit using curve_fit\n",
    "# popt, pcov = optimize.curve_fit(per_gauss_fit, ss_x, ss_y, p0=[guess_x], sigma=np.sqrt(ss_y), ftol=1e-12, xtol=1e-12, epsfcn=0.0)\n",
    "\n",
    "# Fit using leastsq\n",
    "# err_func = lambda tpl,x,y: (per_gauss_fit(x, tpl) - y)\n",
    "# #     def jac_errfunc(p, t, y):\n",
    "# #         ap = algopy.UTPM.init_jacobian(p)\n",
    "# #         return algopy.UTPM.extract_jacobian(err_func(ap, t, y))\n",
    "# #     popt, pcov, info = optimize.leastsq(err_func, [guess_x], Dfun=jac_errfunc, args=(ss_x, ss_y), xtol=1e-12, ftol=1e-12, maxfev=1000 * (len(ss_x) + 1))\n",
    "# popt, pcov, info, msg, success = optimize.leastsq(err_func, [guess_x], args=(ss_x, ss_y), full_output=1, xtol=1e-20, ftol=1e-20, maxfev=1000*(len(ss_x) + 1))\n",
    "# nfev = info['nfev']\n",
    "# pred_shift = popt[0]\n",
    "# y_pred = per_gauss_fit(ss_x, *popt)\n",
    "\n",
    "# Fit using Brent\n",
    "# err_func = lambda shift: np.mean(np.abs(per_gauss_fit(ss_x, shift) - ss_y))\n",
    "# result = optimize.minimize_scalar(err_func, method='Brent', bracket=(guess_x-5, guess_x+5), tol=1e-15)\n",
    "# nfev = result.nit\n",
    "# pred_shift = result.x\n",
    "# y_pred = per_gauss_fit(ss_x, pred_shift)\n",
    "\n",
    "# Approx with curve_fit\n",
    "# popt, pcov = optimize.curve_fit(per_gauss_fit, ss_x, ss_y, p0=[guess_x], sigma=np.sqrt(ss_y), ftol=1e-12, xtol=1e-12, epsfcn=0.0)\n",
    "# second_guess_x = popt[0]\n",
    "# print('Second guess is:', second_guess_x)\n",
    "\n",
    "# ####\n",
    "# Approx with lmfit\n",
    "# ss_x = ss_x[ss_y > 4000]\n",
    "# ss_y = ss_y[ss_y > 4000]\n",
    "# gmod = lmfit.Model(per_gauss_fit)\n",
    "# result = gmod.fit(ss_y, wl=ss_x, minWl=guess_x, method='lbfgsb', \n",
    "#                   options={'ftol':1e-20, 'gtol':1e-20, 'maxiter':20000*(len(ss_x) + 1), 'factr':10.0, 'disp':True, \n",
    "#                            'eps':np.finfo(np.float64).eps, 'maxls':100, 'maxfun':100000, 'maxcor':100})\n",
    "# print('lbfgsb executed # times:', result.nfev)\n",
    "# second_guess_x = result.params['minWl'].value\n",
    "# print('Second guess is:', second_guess_x)\n",
    "# temp_pred = per_gauss_fit(ss_x, second_guess_x)\n",
    "# lse = np.mean(np.abs(ss_y - temp_pred))\n",
    "# print('Second guess lse is ' + str(lse))\n",
    "\n",
    "# solution = (lfc.minWl - sgraph.minWl) * fac\n",
    "# print('Solution is:', solution)\n",
    "# temp_pred = per_gauss_fit(ss_x, solution)\n",
    "# lse = np.mean(np.abs(ss_y - temp_pred))\n",
    "# print('lse of optimap solution is ' + str(lse))\n",
    "\n",
    "# # Fit using brute\n",
    "# err_func = lambda shift: np.mean(np.abs(per_gauss_fit(ss_x, shift) - ss_y))\n",
    "# result = optimize.brute(err_func, ranges=((second_guess_x-1e-3, second_guess_x+1e+3),), Ns=100, full_output=True, finish=None)\n",
    "# nfev = 0\n",
    "# pred_shift = result[0]\n",
    "# y_pred = per_gauss_fit(ss_x, pred_shift)\n",
    "# #####\n",
    "\n",
    "# eps = np.finfo(np.float64).eps\n",
    "# err_func = lambda tpl,x,y: (per_gauss_fit(x, tpl) - y)\n",
    "# result = optimize.least_squares(err_func, [guess_x], args=(ss_x, ss_y), xtol=eps, ftol=eps, gtol=eps,\n",
    "#                                 max_nfev=1000 * (len(ss_x) + 1), method='dogbox')\n",
    "# popt = result.x\n",
    "# pred_shift = popt[0]\n",
    "# nfev = result.nfev\n",
    "# y_pred = per_gauss_fit(ss_x, *popt)\n",
    "# print('Terminated because: ' + result.message)\n"
   ]
  },
  {
   "cell_type": "code",
   "execution_count": 8,
   "metadata": {
    "collapsed": false
   },
   "outputs": [],
   "source": [
    "def pix_to_wl(pix, sgraph):\n",
    "    fac = sgraph.xres / (sgraph.maxWl - sgraph.minWl)\n",
    "    return sgraph.minWl + (pix / fac)\n",
    "    \n",
    "def wl_to_pix(wl, sgraph):\n",
    "    fac = sgraph.xres / (sgraph.maxWl - sgraph.minWl)\n",
    "    return (wl - sgraph.minWl) * fac\n",
    "    \n",
    "def get_peaks(shift, lfc, n):\n",
    "    peaks = np.empty(0)\n",
    "    current = shift\n",
    "    for i in range(0, n):\n",
    "        peaks = np.append(peaks, current)\n",
    "        current += lfc.dWl\n",
    "    return peaks\n",
    "    \n",
    "def pred_error(y, pred_y, solution, prediction):\n",
    "    lse = np.mean(np.abs(y - pred_y))\n",
    "    error = np.abs(solution - prediction) / solution * 3e8\n",
    "    return lse, error\n",
    "    \n",
    "def guess_min(x, y):\n",
    "    guess_x = x[y > 2000]\n",
    "    guess_y = y[y > 2000]\n",
    "    max_idx = signal.argrelextrema(guess_y, np.greater, order=10)\n",
    "    guess_max_x = guess_x[max_idx]\n",
    "    guess_max_y = guess_y[max_idx]\n",
    "    guess_x = guess_max_x[0]\n",
    "    guess_y = guess_max_y[0]\n",
    "    return guess_x, guess_y\n",
    "    \n",
    "def find_lfc_peaks(sgraph, lfc):\n",
    "    fac = sgraph.xres / (sgraph.maxWl - sgraph.minWl)\n",
    "    lfc_peaks = lfc.getPeaks()\n",
    "    \n",
    "    def per_gauss_fit(wl, minWl):\n",
    "        return per_gauss(wl, lfc.sigma * fac, minWl, minWl + ((len(lfc_peaks) - 1) * lfc.dWl * fac), lfc.dWl * fac, lfc.intensity)\n",
    "    \n",
    "    print('Solution is: {}pix or {}nm'.format(wl_to_pix(lfc.minWl, sgraph), lfc.minWl))\n",
    "\n",
    "    x, y = sgraph.activate(lfc)\n",
    "    \n",
    "    # Do a cubic interpolation of x and y \n",
    "    spl = interpolate.UnivariateSpline(x, y, k=3)\n",
    "    # ss stands for supersampled\n",
    "    ss_x = np.linspace(0, sgraph.xres, 20000, dtype=np.float64)\n",
    "    ss_y = spl(ss_x)\n",
    "#     ss_x = x\n",
    "#     ss_y = y\n",
    "    ss_y[ss_y <= 0.0] = 1e-15\n",
    "    \n",
    "    # Fit on interpolated data\n",
    "    guess_x, guess_y = guess_min(ss_x, ss_y)\n",
    "    print('Initial guess for shift is: {}pix or {}nm'.format(np.asarray([guess_x]), pix_to_wl(guess_x, sgraph)))\n",
    "    \n",
    "    # Use lmfit for fitting\n",
    "    gmod = lmfit.Model(per_gauss_fit)\n",
    "    result = gmod.fit(ss_y, wl=ss_x, minWl=guess_x, method='lbfgsb', \n",
    "                      options={'ftol':1e-20, 'gtol':1e-20, 'maxiter':20000*(len(ss_x) + 1), 'factr':1.0, 'disp':True, \n",
    "                               'eps':np.finfo(np.float64).eps, 'maxls':100, 'maxfun':100000, 'maxcor':100})\n",
    "#     result = gmod.fit(ss_y, wl=ss_x, minWl=guess_x, method='leastsq', \n",
    "#                       options={'disp': True, 'xtol': 1e-20, 'ftol': 1e-20, 'maxiter':20000000, 'maxfev':200000})\n",
    "    pred_shift = result.params['minWl'].value\n",
    "    y_pred = result.best_fit\n",
    "    nfev = result.nfev\n",
    "    pred_shift_wl = pix_to_wl(pred_shift, sgraph)\n",
    "    print('Predicted shift is: {}pix or {}nm'.format(np.asarray([pred_shift]), pred_shift_wl))\n",
    "    print('Number of calls: {}'.format(nfev))\n",
    "    \n",
    "    pred_peaks = get_peaks(pred_shift_wl, lfc, len(lfc_peaks))\n",
    "    \n",
    "    print(lfc_peaks[0:3], lfc_peaks[-3:])\n",
    "    print(pred_peaks[0:3], pred_peaks[-3:])\n",
    "    \n",
    "    lse, error = pred_error(ss_y, y_pred, lfc.minWl, pred_shift_wl)\n",
    "    print('Least squares error is {}'.format(lse))\n",
    "    print('Error is: {}m/s'.format(error))\n",
    "    \n",
    "    lse, error = pred_error(y, per_gauss_fit(x, wl_to_pix(lfc.minWl, sgraph)), lfc.minWl, pred_shift_wl)\n",
    "    print('Best squares error is {}'.format(lse))\n",
    "    \n",
    "    plt.scatter(ss_x, ss_y, color='blue')\n",
    "    plt.scatter(x, y, color='magenta')\n",
    "    plt.plot(ss_x, y_pred, color='red')\n",
    "    for peak in pred_peaks:\n",
    "        plt.axvline((peak - sgraph.minWl) * fac, color='green')\n",
    "    for peak in lfc_peaks:\n",
    "        plt.axvline((peak - sgraph.minWl) * fac, color='purple')\n",
    "    plt.axvline(guess_x, color='turquoise')\n",
    "    plt.xlim(guess_x - 3 * (lfc.dWl * fac), guess_x + 12 * (lfc.dWl * fac))\n",
    "#     plt.xlim(wl_to_pix(lfc.maxWl, sgraph) - 12 * (lfc.dWl * fac), wl_to_pix(lfc.maxWl, sgraph) + 3 * (lfc.dWl * fac))\n",
    "    fig = plt.show()\n",
    "    \n",
    "    return ss_x, ss_y, pred_shift"
   ]
  },
  {
   "cell_type": "code",
   "execution_count": 9,
   "metadata": {
    "collapsed": true
   },
   "outputs": [],
   "source": [
    "rand = np.random.random(1)[0]\n",
    "lfc = LFC(250000, 0.0075, 400 + rand, 410 + rand, 1.0/31.0)\n",
    "sgraph = Spectrograph(4000, 1000.0, 300.0, 399.0, 411.0, 1.0)"
   ]
  },
  {
   "cell_type": "markdown",
   "metadata": {},
   "source": [
    "# Notes\n",
    "- Create plot of jitter to error\n",
    "- Resolution = wl of order / (wl to pix ratio) -> 400 / 0.025\n",
    "- 80 orders [pix, intens, order]\n",
    "- Further away orders are distorted\n",
    "- Should use adjacent order\n",
    "\n",
    "\n",
    "- Generate plots of SNR to error in cm/s\n",
    "    - Moving Sigma from 2 to 4, R from 50,000 to 20,0000\n",
    "    \n",
    "- Paper submission to PASP\n"
   ]
  },
  {
   "cell_type": "code",
   "execution_count": 10,
   "metadata": {
    "collapsed": true
   },
   "outputs": [],
   "source": [
    "x, y = sgraph.activate(lfc)"
   ]
  },
  {
   "cell_type": "code",
   "execution_count": 11,
   "metadata": {
    "collapsed": false,
    "scrolled": false
   },
   "outputs": [
    {
     "name": "stdout",
     "output_type": "stream",
     "text": [
      "Solution is: 612.15491507pix or 400.836464745nm\n",
      "Initial guess for shift is: [ 612.230611530576539]pix or 400.836691835nm\n",
      " - Adding parameter \"minWl\"\n",
      "Predicted shift is: [ 612.154920862547215]pix or 400.836464763nm\n",
      "Number of calls: 91\n",
      "(array([ 400.836464745209696,  400.868722809725853,  400.900980874242009]), array([ 410.739690551669753,  410.771948616185909,  410.804206680702066]))\n",
      "(array([ 400.836464762587639,  400.868722827103795,  400.900980891619952]), array([ 410.739690569047696,  410.771948633563852,  410.804206698080009]))\n",
      "Least squares error is 776.711516702\n",
      "Error is: 0.013006258788m/s\n",
      "Best squares error is 389.008430783\n"
     ]
    },
    {
     "name": "stderr",
     "output_type": "stream",
     "text": [
      "/usr/lib/python2.7/site-packages/lmfit/model.py:459: UserWarning: The keyword argument options does notmatch any arguments of the model function.It will be ignored.\n",
      "  \"It will be ignored.\", UserWarning)\n"
     ]
    },
    {
     "data": {
      "image/png": "[encoded data removed]",
      "text/plain": [
       "<matplotlib.figure.Figure at 0x7fcd58382f50>"
      ]
     },
     "metadata": {},
     "output_type": "display_data"
    },
    {
     "name": "stdout",
     "output_type": "stream",
     "text": [
      "CPU times: user 21 s, sys: 0 ns, total: 21 s\n",
      "Wall time: 20.9 s\n"
     ]
    }
   ],
   "source": [
    "%%time\n",
    "ss_x, ss_y, pred_shift = find_lfc_peaks(sgraph, lfc)"
   ]
  },
  {
   "cell_type": "code",
   "execution_count": 38,
   "metadata": {
    "collapsed": false
   },
   "outputs": [
    {
     "name": "stdout",
     "output_type": "stream",
     "text": [
      "Solution is: 499.965308839pix or 400.499895927nm\n",
      " - Adding parameter \"shift\"\n",
      "Predicted shift is: [ 499.965972474730449]pix or 400.499897917nm\n",
      "Number of calls: 15\n",
      "Least squares error is 1003.69705345\n",
      "Error is: 1.49131613724m/s\n",
      "Best squares error is 1003.70438053\n"
     ]
    },
    {
     "data": {
      "image/png": "[encoded data removed]",
      "text/plain": [
       "<matplotlib.figure.Figure at 0x7fc7211ef510>"
      ]
     },
     "metadata": {},
     "output_type": "display_data"
    }
   ],
   "source": [
    "def rofl(sgraph, lfc):\n",
    "    fac = sgraph.xres / (sgraph.maxWl - sgraph.minWl)\n",
    "    def gauss_fit(wl, shift): \n",
    "        return lfc.intensity * np.exp( - ((wl - shift) ** 2) / (2 * ((lfc.sigma * fac)**2) ))\n",
    "    \n",
    "    print('Solution is: {}pix or {}nm'.format(wl_to_pix(lfc.minWl, sgraph), lfc.minWl))\n",
    "    lfc_peaks = lfc.getPeaks()\n",
    "    x, y = sgraph.activate(lfc)\n",
    "    guess_x, guess_y = guess_min(x, y)\n",
    "    \n",
    "    # Add interpolated points\n",
    "#     spl = interpolate.UnivariateSpline(x, y, k=3)\n",
    "#     # ss stands for supersampled\n",
    "#     x = np.linspace(0, sgraph.xres, 20000, dtype=np.float64)\n",
    "#     y = spl(x)\n",
    "    y[y <= 0.0] = 1e-15\n",
    "    \n",
    "    # Fold all points into first peak\n",
    "    ranges = []\n",
    "    current = 0.0\n",
    "    for i in range(0, len(lfc_peaks)):\n",
    "        pix_peak = wl_to_pix(lfc_peaks[i], sgraph)\n",
    "        prev = current\n",
    "        current = pix_peak + (lfc.dWl * fac / 2)\n",
    "        selection = np.nonzero((x < current) & (x > prev))\n",
    "        x[selection] = x[selection] - (i * lfc.dWl * fac)\n",
    "        ranges.append(pix_peak + (lfc.dWl * fac / 2))\n",
    "        \n",
    "    # Chop off left tail\n",
    "    selection = (x > (ranges[0] - (lfc.dWl * fac)))\n",
    "    x = x[selection]\n",
    "    y = y[selection]\n",
    "    \n",
    "    # Chop off right\n",
    "    selection = (x < (ranges[len(ranges) - 1]))\n",
    "    x = x[selection]\n",
    "    y = y[selection]\n",
    "    \n",
    "    sorted = x.argsort()\n",
    "    x = x[sorted]\n",
    "    y = y[sorted]\n",
    "    \n",
    "    # Fit single gaussian\n",
    "    gmod = lmfit.Model(gauss_fit)\n",
    "    result = gmod.fit(y, wl=x, shift=guess_x, method='lbfgsb', \n",
    "                      options={'ftol':1e-20, 'gtol':1e-20, 'maxiter':20000*(len(x) + 1), 'factr':1.0, 'disp':True, \n",
    "                               'eps':np.finfo(np.float64).eps, 'maxls':100, 'maxfun':100000, 'maxcor':100})\n",
    "#     result = gmod.fit(y, wl=x, shift=guess_x, method='leastsq', \n",
    "#                       options={'disp': True, 'xtol': 1e-20, 'ftol': 1e-20, 'maxiter':20000000, 'maxfev':200000})\n",
    "    pred_shift = result.params['shift'].value\n",
    "    y_pred = result.best_fit\n",
    "    nfev = result.nfev\n",
    "    pred_shift_wl = pix_to_wl(pred_shift, sgraph)\n",
    "    print('Predicted shift is: {}pix or {}nm'.format(np.asarray([pred_shift]), pred_shift_wl))\n",
    "    print('Number of calls: {}'.format(nfev))\n",
    "    \n",
    "    lse, error = pred_error(y, y_pred, lfc.minWl, pred_shift_wl)\n",
    "    print('Least squares error is {}'.format(lse))\n",
    "    print('Error is: {}m/s'.format(error))\n",
    "    \n",
    "    lse, error = pred_error(y, gauss_fit(x, wl_to_pix(lfc.minWl, sgraph)), lfc.minWl, pred_shift_wl)\n",
    "    print('Best squares error is {}'.format(lse))\n",
    "        \n",
    "    \n",
    "    # Draw plot\n",
    "    plt.scatter(x, y, color='magenta')\n",
    "    plt.plot(x, y_pred, color='blue')\n",
    "    first_peak = wl_to_pix(lfc.minWl, sgraph)\n",
    "    plt.axvline(pred_shift, color='green')\n",
    "    plt.axvline(wl_to_pix(lfc.minWl, sgraph), color='purple')\n",
    "    \n",
    "#     for i in ranges:\n",
    "#         plt.axvline(i, color='purple')\n",
    "#     plt.xlim(first_peak - 3 * (lfc.dWl * fac), first_peak + 10 * (lfc.dWl * fac))\n",
    "#     plt.xlim(pred_shift - 1, pred_shift + 1)\n",
    "    fig = plt.show()\n",
    "\n",
    "rand = np.random.random(1)[0]\n",
    "lfc = LFC(25000, 0.0075, 400 + rand, 410 + rand, 1.0/31.0)\n",
    "sgraph = Spectrograph(4000, 1000.0, 300.0, 399.0, 411.0, 1.0)\n",
    "rofl(sgraph, lfc)"
   ]
  },
  {
   "cell_type": "code",
   "execution_count": 96,
   "metadata": {
    "collapsed": false
   },
   "outputs": [
    {
     "data": {
      "text/plain": [
       "(array([  1.000000000000000e+00,   0.000000000000000e+00,\n",
       "          0.000000000000000e+00,   0.000000000000000e+00,\n",
       "          1.000000000000000e+00,   3.000000000000000e+00,\n",
       "          2.000000000000000e+00,   0.000000000000000e+00,\n",
       "          1.000000000000000e+00,   0.000000000000000e+00,\n",
       "          1.000000000000000e+00,   0.000000000000000e+00,\n",
       "          2.000000000000000e+00,   1.000000000000000e+00,\n",
       "          0.000000000000000e+00,   1.000000000000000e+00,\n",
       "          0.000000000000000e+00,   1.000000000000000e+00,\n",
       "          4.000000000000000e+00,   0.000000000000000e+00,\n",
       "          4.000000000000000e+00,   2.000000000000000e+00,\n",
       "          3.000000000000000e+00,   3.000000000000000e+00,\n",
       "          5.000000000000000e+00,   6.000000000000000e+00,\n",
       "          4.000000000000000e+00,   7.000000000000000e+00,\n",
       "          4.000000000000000e+00,   9.000000000000000e+00,\n",
       "          1.100000000000000e+01,   1.400000000000000e+01,\n",
       "          1.100000000000000e+01,   1.900000000000000e+01,\n",
       "          1.800000000000000e+01,   1.800000000000000e+01,\n",
       "          1.900000000000000e+01,   2.000000000000000e+01,\n",
       "          1.900000000000000e+01,   2.200000000000000e+01,\n",
       "          3.100000000000000e+01,   2.700000000000000e+01,\n",
       "          3.100000000000000e+01,   4.100000000000000e+01,\n",
       "          6.300000000000000e+01,   6.100000000000000e+01,\n",
       "          6.600000000000000e+01,   7.200000000000000e+01,\n",
       "          8.000000000000000e+01,   1.470000000000000e+02,\n",
       "          2.810000000000000e+02,   1.830000000000000e+03,\n",
       "          2.230000000000000e+02,   1.400000000000000e+02,\n",
       "          9.100000000000000e+01,   7.600000000000000e+01,\n",
       "          5.900000000000000e+01,   4.900000000000000e+01,\n",
       "          4.800000000000000e+01,   4.700000000000000e+01,\n",
       "          3.900000000000000e+01,   2.400000000000000e+01,\n",
       "          2.100000000000000e+01,   2.800000000000000e+01,\n",
       "          2.000000000000000e+01,   2.100000000000000e+01,\n",
       "          2.100000000000000e+01,   1.700000000000000e+01,\n",
       "          2.000000000000000e+01,   1.100000000000000e+01,\n",
       "          1.000000000000000e+01,   9.000000000000000e+00,\n",
       "          9.000000000000000e+00,   8.000000000000000e+00,\n",
       "          1.100000000000000e+01,   6.000000000000000e+00,\n",
       "          4.000000000000000e+00,   2.000000000000000e+00,\n",
       "          2.000000000000000e+00,   7.000000000000000e+00,\n",
       "          2.000000000000000e+00,   0.000000000000000e+00,\n",
       "          1.000000000000000e+00,   0.000000000000000e+00,\n",
       "          1.000000000000000e+00,   1.000000000000000e+00,\n",
       "          1.000000000000000e+00,   0.000000000000000e+00,\n",
       "          1.000000000000000e+00,   1.000000000000000e+00,\n",
       "          0.000000000000000e+00,   1.000000000000000e+00,\n",
       "          0.000000000000000e+00,   1.000000000000000e+00,\n",
       "          0.000000000000000e+00,   0.000000000000000e+00,\n",
       "          0.000000000000000e+00,   0.000000000000000e+00,\n",
       "          1.000000000000000e+00]),\n",
       " array([-489.267921464054155, -479.740852126750667, -470.21378278944718 ,\n",
       "        -460.686713452143692, -451.159644114840205, -441.632574777536718,\n",
       "        -432.10550544023323 , -422.578436102929743, -413.051366765626256,\n",
       "        -403.524297428322768, -393.997228091019281, -384.470158753715793,\n",
       "        -374.943089416412306, -365.416020079108819, -355.888950741805331,\n",
       "        -346.361881404501844, -336.834812067198357, -327.307742729894869,\n",
       "        -317.780673392591382, -308.253604055287894, -298.726534717984407,\n",
       "        -289.19946538068092 , -279.672396043377432, -270.145326706073945,\n",
       "        -260.618257368770458, -251.09118803146697 , -241.564118694163483,\n",
       "        -232.037049356859995, -222.509980019556508, -212.982910682253021,\n",
       "        -203.455841344949533, -193.928772007646046, -184.401702670342559,\n",
       "        -174.874633333039071, -165.347563995735584, -155.820494658432096,\n",
       "        -146.293425321128609, -136.766355983825122, -127.239286646521634,\n",
       "        -117.712217309218147, -108.18514797191466 ,  -98.658078634611172,\n",
       "         -89.131009297307685,  -79.603939960004197,  -70.07687062270071 ,\n",
       "         -60.549801285397223,  -51.022731948093735,  -41.495662610790248,\n",
       "         -31.968593273486761,  -22.441523936183273,  -12.914454598879786,\n",
       "          -3.387385261576298,    6.139684075727189,   15.666753413030676,\n",
       "          25.193822750334164,   34.720892087637651,   44.247961424941138,\n",
       "          53.775030762244626,   63.302100099548113,   72.8291694368516  ,\n",
       "          82.356238774155088,   91.883308111458575,  101.410377448762063,\n",
       "         110.93744678606555 ,  120.464516123369037,  129.991585460672525,\n",
       "         139.518654797976012,  149.045724135279499,  158.572793472582987,\n",
       "         168.099862809886474,  177.626932147189962,  187.154001484493449,\n",
       "         196.681070821796936,  206.208140159100424,  215.735209496403911,\n",
       "         225.262278833707398,  234.789348171010886,  244.316417508314373,\n",
       "         253.843486845617861,  263.370556182921348,  272.897625520224835,\n",
       "         282.424694857528323,  291.95176419483181 ,  301.478833532135297,\n",
       "         311.005902869438785,  320.532972206742272,  330.06004154404576 ,\n",
       "         339.587110881349247,  349.114180218652734,  358.641249555956222,\n",
       "         368.168318893259709,  377.695388230563196,  387.222457567866684,\n",
       "         396.749526905170171,  406.276596242473659,  415.803665579777146,\n",
       "         425.330734917080633,  434.857804254384121,  444.384873591687608,\n",
       "         453.911942928991095]),\n",
       " <a list of 99 Patch objects>)"
      ]
     },
     "execution_count": 96,
     "metadata": {},
     "output_type": "execute_result"
    },
    {
     "data": {
      "image/png": "[encoded data removed]",
      "text/plain": [
       "<matplotlib.figure.Figure at 0x7fc720719390>"
      ]
     },
     "metadata": {},
     "output_type": "display_data"
    }
   ],
   "source": [
    "lfc = LFC(25000, 0.0075, 400 + rand, 410 + rand, 1.0/31.0)\n",
    "sgraph = Spectrograph(4000, 1000.0, 300.0, 399.0, 411.0, 1.0)\n",
    "x = np.linspace(sgraph.minWl, sgraph.maxWl, sgraph.xres)\n",
    "lfcReading = lfc.simulate(x, lfc.sigma, lfc.minWl, lfc.maxWl, lfc.dWl, lfc.intensity)\n",
    "lfcReading[lfcReading == 0.00] = 0.00000001\n",
    "data = np.random.normal(0, np.sqrt(lfcReading) * sgraph.precision, len(x))\n",
    "plt.hist(data, bins=99)"
   ]
  },
  {
   "cell_type": "code",
   "execution_count": null,
   "metadata": {
    "collapsed": false
   },
   "outputs": [],
   "source": [
    "fac = np.float64(sgraph.xres) / (sgraph.maxWl - sgraph.minWl)\n",
    "def per_gauss_fit(wl, minWl):\n",
    "    return per_gauss(wl, lfc.sigma * fac, minWl, minWl + (lfc.nPeaks * lfc.dWl * fac), lfc.dWl * fac, lfc.intensity)\n",
    "    \n",
    "# Trying to improve result manually\n",
    "adj = -7e-6\n",
    "new_pred_shift = pred_shift + (adj * fac)\n",
    "new_y_pred = per_gauss_fit(ss_x, new_pred_shift)\n",
    "\n",
    "new_lse = np.mean(np.abs(ss_y - new_y_pred))\n",
    "\n",
    "# Recalculate peaks\n",
    "pred_peaks = np.empty(0)\n",
    "current = sgraph.minWl + (new_pred_shift / fac)\n",
    "for i in range(0, len(peaks)):\n",
    "    pred_peaks = np.append(pred_peaks, current)\n",
    "    current += lfc.dWl\n",
    "new_error = np.mean(np.abs((peaks - pred_peaks) / peaks)) * 3e8\n",
    "        \n",
    "print(pred_peaks[0:3], pred_peaks[-3:])\n",
    "print(peaks[0:3], peaks[-3:])\n",
    "\n",
    "    \n",
    "print('New least squares error is ' + str(new_lse))\n",
    "print('Old least squares error is ' + str(lse))\n",
    "\n",
    "print('New error is: ' + str(abs(new_error)))\n",
    "print('Old error is: ' + str(abs(error)))\n",
    "\n"
   ]
  },
  {
   "cell_type": "markdown",
   "metadata": {},
   "source": [
    "# Let's try this for spectrographs with varying precision"
   ]
  },
  {
   "cell_type": "code",
   "execution_count": null,
   "metadata": {
    "collapsed": false
   },
   "outputs": [],
   "source": [
    "for i in range(1, 11):\n",
    "    precision = i * 2\n",
    "    cur_sgraph = Spectrograph(4000, 1000, 300, 399, 411, precision)\n",
    "    find_lfc_peaks(cur_sgraph, lfc)\n"
   ]
  },
  {
   "cell_type": "markdown",
   "metadata": {},
   "source": [
    "# Enter mpmath"
   ]
  },
  {
   "cell_type": "code",
   "execution_count": null,
   "metadata": {
    "collapsed": true
   },
   "outputs": [],
   "source": [
    "def gauss(x, mu, sigma, amplitude): \n",
    "    return amplitude * np.exp( - ((x - mu) ** 2) / (2 * (sigma**2) ))\n",
    "\n",
    "def per_gauss(wl, sigma, minWl, maxWl, period, amplitude):\n",
    "    result = 0.0;\n",
    "    for i in range(0, int((maxWl-minWl) / period)):\n",
    "        result += gauss(wl, minWl + (i * period), sigma, amplitude)\n",
    "    return result\n",
    "\n",
    "fac = sgraph.xres / (sgraph.maxWl - sgraph.minWl)\n",
    "print('fac is:', np.asarray([fac]))\n",
    "def per_gauss_fit(wl, minWl):\n",
    "    return per_gauss(wl, lfc.sigma * fac, minWl, minWl + (len(peaks) * lfc.dWl * fac), lfc.dWl * fac, lfc.intensity)\n",
    "\n",
    "x, y = sgraph.activate(lfc)\n",
    "    "
   ]
  },
  {
   "cell_type": "markdown",
   "metadata": {},
   "source": [
    "# Notes\n",
    "- Spectrograph error distribution: what is a good mean and a mean sdev?\n",
    "- Doing least squares: should I weight according to error? For example, know error increases with intensity\n",
    "\n",
    "**For future**:\n",
    "- Oversample using interpolation (--??--), play with this only\n",
    "- Shift data by some random number\n",
    "\n",
    "- Make a table of effect of increasing the lfc"
   ]
  },
  {
   "cell_type": "code",
   "execution_count": null,
   "metadata": {
    "collapsed": true
   },
   "outputs": [],
   "source": []
  }
 ],
 "metadata": {
  "kernelspec": {
   "display_name": "Python 2",
   "language": "python",
   "name": "python2"
  },
  "language_info": {
   "codemirror_mode": {
    "name": "ipython",
    "version": 2
   },
   "file_extension": ".py",
   "mimetype": "text/x-python",
   "name": "python",
   "nbconvert_exporter": "python",
   "pygments_lexer": "ipython2",
   "version": "2.7.11"
  }
 },
 "nbformat": 4,
 "nbformat_minor": 0
}
