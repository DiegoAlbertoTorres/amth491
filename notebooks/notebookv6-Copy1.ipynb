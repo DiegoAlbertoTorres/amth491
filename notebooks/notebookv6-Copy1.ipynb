{
 "cells": [
  {
   "cell_type": "code",
   "execution_count": 176,
   "metadata": {
    "collapsed": true
   },
   "outputs": [],
   "source": [
    "%matplotlib inline\n",
    "\n",
    "import numpy as np\n",
    "# Plotting libraries\n",
    "import matplotlib.pyplot as plt\n",
    "import matplotlib.pylab as pylab\n",
    "import scipy.optimize as optimize \n",
    "import scipy.fftpack as fftpack\n",
    "import scipy.signal as signal \n",
    "import scipy.interpolate\n",
    "import scipy.integrate as integrate\n",
    "import types\n",
    "import scipy.stats as stats\n",
    "from itertools import tee, izip\n",
    "# To read spectrograph init file\n",
    "import csv\n",
    "# Used for function fitting\n",
    "import lmfit\n",
    "\n",
    "pylab.rcParams['figure.figsize'] = (15.0, 3.0)\n",
    "pylab.rcParams['axes.facecolor'] = 'white'\n",
    "np.set_printoptions(precision=15)"
   ]
  },
  {
   "cell_type": "markdown",
   "metadata": {},
   "source": [
    "# Helper functions"
   ]
  },
  {
   "cell_type": "code",
   "execution_count": 177,
   "metadata": {
    "collapsed": false
   },
   "outputs": [],
   "source": [
    "def sig_to_fwhm(sig):\n",
    "    return sig * (2 * np.sqrt(2 * np.log(2)))\n",
    "def fwhm_to_sig(fwhm):\n",
    "    return fwhm / (2 * np.sqrt(2 * np.log(2)))\n",
    "\n",
    "def gauss(x, mu, sigma, amplitude): \n",
    "    return amplitude * np.exp( - ((x - mu) ** 2) / (2 * (sigma**2) ))\n",
    "\n",
    "def gauss_area(l, r, mu, sigma, intensity):\n",
    "    return intensity * (stats.norm.cdf(r, mu, scale=sigma) - stats.norm.cdf(l, mu, scale=sigma))\n",
    "\n",
    "def per_gauss(wl, sigma, minWl, maxWl, period, amplitude):\n",
    "    result = 0.0;\n",
    "    current = minWl\n",
    "    i = 0\n",
    "    while current <= maxWl:\n",
    "        result += gauss(wl, minWl + (i * period), sigma, amplitude)\n",
    "        current += period\n",
    "        i = i + 1\n",
    "    return result\n",
    "\n",
    "def pairwise(iterable):\n",
    "    a, b = tee(iterable)\n",
    "    next(b, None)\n",
    "    return izip(a, b)"
   ]
  },
  {
   "cell_type": "markdown",
   "metadata": {},
   "source": [
    "# Classes that define simulated instruments."
   ]
  },
  {
   "cell_type": "code",
   "execution_count": 213,
   "metadata": {
    "collapsed": false,
    "scrolled": true
   },
   "outputs": [],
   "source": [
    "class Spectrograph:\n",
    "    def __init__(self, initFilePath, bgrNoiseMu, bgrNoiseSD, fwhm, precision, blaze):\n",
    "        self.order_ids = np.empty(0, dtype=np.int32)\n",
    "        self.order_peak = np.empty(0)\n",
    "#         self.order_fsr = np.empty(0)\n",
    "        self.order_min = np.empty(0)\n",
    "        self.order_max = np.empty(0)\n",
    "        self.order_plate_fac = np.empty(0)\n",
    "        self.order_plate_fac_min = np.empty(0)\n",
    "        self.order_plate_fac_max = np.empty(0)\n",
    "        self.order_res = np.empty(0)\n",
    "        \n",
    "        with open(initFilePath, 'rb') as initFile:\n",
    "            reader = csv.DictReader(initFile)\n",
    "            for row in reader:\n",
    "                self.order_ids = np.append(self.order_ids, np.int32(row['order']))\n",
    "                self.order_peak = np.append(self.order_peak, np.float64(row['peak']))\n",
    "#                 self.order_fsr = np.append(self.order_fsr, np.float64(row['fsr']))\n",
    "                self.order_min = np.append(self.order_min, np.float64(row['min']))\n",
    "                self.order_max = np.append(self.order_max, np.float64(row['max']))\n",
    "                self.order_plate_fac = np.append(self.order_plate_fac, np.float64(row['plate_peak']))\n",
    "                self.order_plate_fac_min = np.append(self.order_plate_fac_min, np.float64(row['plate_min']))\n",
    "                self.order_plate_fac_max = np.append(self.order_plate_fac_max, np.float64(row['plate_max']))\n",
    "                self.order_res = np.append(self.order_res, np.float64(row['length_peak']))\n",
    "                \n",
    "        self.nOrders = len(self.order_ids)\n",
    "        self.order_pix_bounds = []\n",
    "        self.order_pix_means = []\n",
    "        self.order_fsr = np.zeros(self.nOrders)\n",
    "        for i in range(0, self.nOrders):\n",
    "            pix_bounds = self.get_pix_bounds(i)\n",
    "            pix_means = ((pix_bounds + np.roll(pix_bounds,-1)) / 2.0)[0:-1]\n",
    "            self.order_pix_bounds.append(pix_bounds)\n",
    "            self.order_pix_means.append(pix_means)\n",
    "            self.order_fsr[i] = np.sum(np.linspace(self.order_plate_fac_min[i], self.order_plate_fac_max[i], self.order_res[i]))\n",
    "            \n",
    "        self.order_fac = self.order_res / self.order_fsr\n",
    "        \n",
    "        self.order_offset = np.int32(self.order_ids[0])\n",
    "        self.bgrNoiseMu = bgrNoiseMu\n",
    "        self.bgrNoiseSD = bgrNoiseSD\n",
    "        self.psf_sigma = fwhm / (2 * np.sqrt(2 * np.log(2))) # sd = fhwm / 2sqrt(2ln2)\n",
    "        self.precision = precision\n",
    "        self.blaze = blaze\n",
    "        \n",
    "        # Calculate the bootstrap errors of each order\n",
    "#         startWls = self.minWl + (np.arange(0, self.nOrders) * self.orderSize) \n",
    "#         self.bstrap_errs = np.random.normal(0, startWls * fwhm_to_sig(50) / 3e8)\n",
    "                                            \n",
    "    # A spectrograph can observe many beams: a beam is a mapping of wavelength (in nm) to intensity\n",
    "    \n",
    "    def blaze_order(self, wlSpace, obs, fsr, peak):\n",
    "        sigma = fsr / (2.0 * np.sqrt(2.0 * np.log(2)))  # Assume FWHM of blaze is FSR of order\n",
    "        return obs * np.exp(-(wlSpace - peak) ** 2 / (2.0 * sigma ** 2)) \n",
    "    \n",
    "    def bstrap_space(self, orders='all'):\n",
    "        bstrap_space = np.empty((self.nOrders, self.xres,))\n",
    "        \n",
    "        if orders == 'all':\n",
    "            orders = range(0, self.nOrders)\n",
    "            \n",
    "        for i in orders:\n",
    "            startWl = self.minWl + (i * self.orderSize)\n",
    "            endWl = startWl + self.orderSize\n",
    "            bstrap_space[i] = np.linspace(startWl, endWl, self.xres, endpoint=False) + self.bstrap_errs[i]\n",
    "            \n",
    "        return bstrap_space\n",
    "    \n",
    "    # Returns array with pixel boundaries\n",
    "    def get_pix_bounds(self, order_idx):\n",
    "        short_wav = self.order_min[order_idx]\n",
    "        order_len = np.int32(self.order_res[order_idx])\n",
    "        pix_lens = np.linspace(self.order_plate_fac_min[order_idx], self.order_plate_fac_max[order_idx], order_len)\n",
    "        pixel_boundary = np.zeros(order_len + 1)\n",
    "        pixel_boundary[0] = short_wav\n",
    "        for i in range(1, pixel_boundary.size):\n",
    "            pixel_boundary[i] = pix_lens[i - 1] + pixel_boundary[i - 1]\n",
    "        return pixel_boundary\n",
    "    \n",
    "    def pix_to_wl(self, pix, order_idx):\n",
    "        return (self.order_plate_fac_min[order_idx] * pix) + self.order_min[order_idx]\n",
    "    \n",
    "    def wl_to_pix(self, wl, order_idx):\n",
    "        return (wl - self.order_min[order_idx]) / self.order_plate_fac_min[order_idx]\n",
    "        \n",
    "    def observe(self, beams, orders='all'):\n",
    "        space = []\n",
    "        observation = []\n",
    "#         space = np.empty((self.nOrders, self.xres,))\n",
    "#         observation = np.empty((self.nOrders, self.xres,))\n",
    "        \n",
    "        if orders == 'all':\n",
    "            orders = self.order_ids\n",
    "        \n",
    "        for i in orders:\n",
    "            idx = i - self.order_offset\n",
    "            startWl = self.order_min[idx]\n",
    "            endWl = self.order_max[idx]\n",
    "            fsr = self.order_fsr[idx]\n",
    "            blaze_peak = self.order_peak[idx]\n",
    "            order_obs = np.zeros(np.int32(self.order_res[idx]))\n",
    "            res = order_obs.size\n",
    "            pix_bounds = self.order_pix_bounds[idx]\n",
    "            pix_means = self.order_pix_means[idx]\n",
    "            \n",
    "            bgrNoise = np.random.normal(self.bgrNoiseMu, self.bgrNoiseSD, res) # Background noise\n",
    "            bgrNoise[bgrNoise < 0.0] = 0.0001\n",
    "            order_obs += bgrNoise\n",
    "\n",
    "            # Each mapping in a beam becomes a gaussian\n",
    "            for beam in beams:\n",
    "                # Approximation for speed: Use only beams in this order\n",
    "                beam = {k: v for k, v in beam.iteritems() if k > (startWl - (fsr / 10)) and k < (endWl + (fsr / 10))}\n",
    "                for pix_idx in range(0, res):\n",
    "                    pix_l = pix_bounds[pix_idx]\n",
    "                    pix_r = pix_bounds[pix_idx + 1]\n",
    "                    pix_mean = pix_means[pix_idx]\n",
    "                    # Approximation for speed: Use only comb-lines within a factor of 20 of the psf\n",
    "                    sub_beam = {k: v for k, v in beam.iteritems() if k > (pix_l - (self.psf_sigma * 20)) and k < (pix_r + (self.psf_sigma * 20))}\n",
    "                    for wl in sub_beam:\n",
    "#                         intensity = beam[wl] * (1 / self.order_plate_fac[idx])\n",
    "                        intensity = beam[wl]\n",
    "#                         print('len(pix_bounds)', len(pix_bounds))\n",
    "#                         print('len(order_obs)', len(order_obs))\n",
    "                        order_obs[pix_idx] += gauss_area(pix_l, pix_r, wl, self.psf_sigma, intensity)\n",
    "#                         order_obs[pix_idx] += gauss(np.mean(pix_bounds[pix_idx] + pix_bounds[pix_idx + 1]), wl, self.psf_sigma, intensity)\n",
    "\n",
    "            # Add shot noise\n",
    "            order_obs += np.random.normal(0.0, np.sqrt(order_obs) * self.precision, res)\n",
    "            \n",
    "            # Blaze\n",
    "            if self.blaze:\n",
    "                order_obs = self.blaze_order(pix_means, order_obs, fsr, blaze_peak)\n",
    "            \n",
    "            space.append(np.linspace(0, res, res))\n",
    "            observation.append(order_obs)\n",
    "        \n",
    "        return space, observation\n",
    "    \n",
    "class LFC:\n",
    "    def __init__(self, intensity, minWl, maxWl, dWl):\n",
    "        self.intensity = intensity\n",
    "        self.minWl = minWl\n",
    "        self.maxWl = maxWl\n",
    "        self.span = self.maxWl - self.minWl\n",
    "        self.dWl = np.float64(dWl)\n",
    "    def getPeaks(self):\n",
    "        peaks = np.empty(0)\n",
    "        current = self.minWl;\n",
    "        while(current <= self.maxWl):\n",
    "            peaks = np.append(peaks, current)\n",
    "            current += self.dWl\n",
    "        return peaks\n",
    "    def simulate(self):\n",
    "        sim = {}\n",
    "        current = self.minWl\n",
    "        while current <= self.maxWl:\n",
    "            sim[current] = self.intensity\n",
    "            current += self.dWl\n",
    "        return sim\n"
   ]
  },
  {
   "cell_type": "code",
   "execution_count": 214,
   "metadata": {
    "collapsed": false
   },
   "outputs": [
    {
     "name": "stdout",
     "output_type": "stream",
     "text": [
      "CPU times: user 357 ms, sys: 3.33 ms, total: 360 ms\n",
      "Wall time: 358 ms\n"
     ]
    }
   ],
   "source": [
    "%%time\n",
    "# def __init__(self, initFilePath, bgrNoiseMu, bgrNoiseSD, fwhm, precision, blaze):\n",
    "sgraph = Spectrograph('../data/expres_specs.csv', 1000.0, 300.0, 0.0075, 1.0, True)\n",
    "# def __init__(self, intensity, minWl, maxWl, dWl):\n",
    "lfc = LFC(1000000, sgraph.order_min[-1], sgraph.order_max[0] - 1, 1/31.0) # First order has highest wl!"
   ]
  },
  {
   "cell_type": "code",
   "execution_count": 180,
   "metadata": {
    "collapsed": false
   },
   "outputs": [
    {
     "name": "stdout",
     "output_type": "stream",
     "text": [
      "CPU times: user 4.16 s, sys: 10 ms, total: 4.17 s\n",
      "Wall time: 4.16 s\n"
     ]
    },
    {
     "data": {
      "image/png": "[encoded data removed]",
      "text/plain": [
       "<matplotlib.figure.Figure at 0x7f5a4fd41e90>"
      ]
     },
     "metadata": {},
     "output_type": "display_data"
    }
   ],
   "source": [
    "%%time\n",
    "orders=[89]\n",
    "xs, ys = sgraph.observe([lfc.simulate()], orders=orders)\n",
    "plt.scatter(xs[0], ys[0])\n",
    "# plt.xlim(1900, 2100)"
   ]
  },
  {
   "cell_type": "code",
   "execution_count": 212,
   "metadata": {
    "collapsed": false
   },
   "outputs": [
    {
     "name": "stdout",
     "output_type": "stream",
     "text": [
      "('m', 1.6025657388405088e-06)\n",
      "('est', 710.29040016520639)\n",
      "('mean wl', 685.32084323561298)\n",
      "0.014488249825\n",
      "0.0145622359139\n"
     ]
    },
    {
     "data": {
      "text/plain": [
       "[<matplotlib.lines.Line2D at 0x7f5a47658dd0>]"
      ]
     },
     "execution_count": 212,
     "metadata": {},
     "output_type": "execute_result"
    },
    {
     "data": {
      "image/png": "[encoded data removed]",
      "text/plain": [
       "<matplotlib.figure.Figure at 0x7f5a47acdd90>"
      ]
     },
     "metadata": {},
     "output_type": "display_data"
    }
   ],
   "source": [
    "order_idx = 89 - sgraph.order_offset\n",
    "order_min = sgraph.order_min[order_idx]\n",
    "order_max = sgraph.order_max[order_idx]\n",
    "order_len = np.int32(sgraph.order_res[order_idx])\n",
    "pf_min = sgraph.order_plate_fac_min[order_idx]\n",
    "pf_max = sgraph.order_plate_fac_max[order_idx]\n",
    "pix = 5000\n",
    "# print('pf_max', pf_max)\n",
    "# print('pf_min', pf_min)\n",
    "# print('order_max', order_max)\n",
    "# print('order_min', order_min)\n",
    "m = (pf_max - pf_min) / (order_max - order_min)\n",
    "wl = (m * (pix ** 2) / 2) + (pf_min * pix) + order_min\n",
    "print('m', m)\n",
    "print('est', wl)\n",
    "print('mean wl', sgraph.order_pix_means[order_idx][500])\n",
    "x = np.linspace(0, order_len, order_len)\n",
    "fac = np.linspace(pf_min, pf_max, order_len)\n",
    "y_est1 = (pf_min * x) + order_min\n",
    "y_est2 = (fac * x) + order_min\n",
    "y = sgraph.order_pix_means[order_idx]\n",
    "err1 =  np.mean(np.abs(y - y_est1))\n",
    "err2 =  np.mean(np.abs(y - y_est2))\n",
    "print(err1)\n",
    "print(err2)\n",
    "plt.plot(x, y, color='blue')\n",
    "plt.plot(x, y_est1, color='green')\n",
    "plt.plot(x, y_est2, color='red')\n"
   ]
  },
  {
   "cell_type": "markdown",
   "metadata": {},
   "source": [
    "# Wavelength calibration"
   ]
  },
  {
   "cell_type": "code",
   "execution_count": 215,
   "metadata": {
    "collapsed": true
   },
   "outputs": [],
   "source": [
    "def get_peaks(shift, sgraph, lfc, n, mode='wl'):\n",
    "    if mode == 'wl':\n",
    "        diff = lfc.dWl\n",
    "    elif mode == 'pix':\n",
    "        diff = lfc.dWl * sgraph.fac\n",
    "    else:\n",
    "        print('Bad mode in peaks')\n",
    "        return 'error'\n",
    "    peaks = np.zeros(n)\n",
    "    current = shift\n",
    "    for i in range(0, n):\n",
    "        peaks[n] = current\n",
    "        current += diff\n",
    "    return peaks\n",
    "    \n",
    "def pred_error(y, pred_y, solution, prediction):\n",
    "    lse = np.mean(np.abs(y - pred_y))\n",
    "    error = np.abs(solution - prediction) / solution * 3e8\n",
    "    return lse, error\n",
    "    \n",
    "def guess_min(x, y):\n",
    "    guess_x = x[y > 2000]\n",
    "    guess_y = y[y > 2000]\n",
    "    max_idx = signal.argrelextrema(guess_y, np.greater, order=10)\n",
    "    guess_max_x = guess_x[max_idx]\n",
    "    guess_max_y = guess_y[max_idx]\n",
    "    guess_x = guess_max_x[0]\n",
    "    guess_y = guess_max_y[0]\n",
    "    return guess_x, guess_y\n",
    "\n",
    "def plot_fit(sgraph, lfc, order_idx, x, y, ss_x, ss_y, y_pred, guess_x, pred_shift_wl):\n",
    "    plt.figure(1)\n",
    "#     plt.scatter(ss_x, ss_y, color='magenta', marker='o', facecolors='none')\n",
    "    plt.scatter(x, y, color='blue', marker='o', facecolors='none')\n",
    "    plt.plot(ss_x, y_pred, color='red')\n",
    "#     pred_peaks = sgraph.wl_to_pix(get_peaks(pred_shift_wl, sgraph, lfc, len(lfc.getPeaks())) order_idx), mode='wl')\n",
    "#     for peak in pred_peaks:\n",
    "#         plt.axvline(peak, color='green')\n",
    "#     for peak in lfc_peaks:\n",
    "#         plt.axvline((peak - sgraph.minWl) * sgraph.fac, color='purple')\n",
    "#     plt.ylim(-100000,800000)\n",
    "#     plt.axvline(guess_x, color='green')\n",
    "#     plt.xlim(sgraph.wl_to_pix(lfc.minWl - 2 * lfc.dWl, order_idx), sgraph.wl_to_pix(lfc.minWl + 8 * lfc.dWl, order_idx))\n",
    "#     plt.xlim(3900, 4000)\n",
    "#     plt.savefig('../figs/fitted.png')\n",
    "    plt.show()"
   ]
  },
  {
   "cell_type": "code",
   "execution_count": 216,
   "metadata": {
    "collapsed": false
   },
   "outputs": [],
   "source": [
    "def find_lfc_peaks(sgraph, lfc, order, interpolate, output=True, plot=True, order_model=None):\n",
    "    lfc_peaks = lfc.getPeaks()\n",
    "    order_idx = order - sgraph.order_offset\n",
    "    fac = sgraph.order_fac[order_idx]\n",
    "    xres = sgraph.order_res[order_idx]\n",
    "    startWl = sgraph.order_min[order_idx]\n",
    "    endWl = sgraph.order_max[order_idx]\n",
    "    \n",
    "    lfc_beam = lfc.simulate()\n",
    "    xs, ys = sgraph.observe([lfc_beam], orders=[order])\n",
    "    x = xs[0]\n",
    "    y = ys[0]\n",
    "    \n",
    "    if order_model == None:\n",
    "        def order_model(wl, minWl):\n",
    "#             maxWl = minWl + (len(lfc_peaks) * lfc.dWl * sgraph.fac)\n",
    "            maxWl = minWl + sgraph.order_res[order_idx] \n",
    "            result = per_gauss(wl, sgraph.psf_sigma * fac, minWl, maxWl, lfc.dWl * fac, np.max(y))\n",
    "            if sgraph.blaze:\n",
    "                sigma = xres / (2.0 * np.sqrt(2.0 * np.log(2)))  # Assume FWHM of blaze is FSR of order\n",
    "                result = result * np.exp(-(wl - (xres / 2)) ** 2 / (2.0 * sigma ** 2)) \n",
    "            return result\n",
    "    \n",
    "    order_min = sgraph.order_min[order_idx]\n",
    "    order_beam = {k: v for k, v in lfc_beam.iteritems() if k > order_min}\n",
    "    solution_wl = min(order_beam)\n",
    "    solution_pix = sgraph.wl_to_pix(solution, order_idx)\n",
    "    if output:\n",
    "        print('Solution is: {}pix or {}nm'.format(solution_pix, solution_wl))\n",
    "\n",
    "    if interpolate:\n",
    "        # Do a cubic interpolation of x and y \n",
    "        spl = scipy.interpolate.UnivariateSpline(x, y, k=3)\n",
    "        # ss stands for supersampled\n",
    "        ss_x = np.linspace(0, xres, 20000, dtype=np.float64)\n",
    "        ss_y = spl(ss_x)\n",
    "    else:\n",
    "        ss_x = x\n",
    "        ss_y = y\n",
    "        \n",
    "    ss_y[ss_y <= 0.0] = 1e-15\n",
    "    \n",
    "    # Fit on interpolated data\n",
    "    guess_x, guess_y = guess_min(ss_x, ss_y)\n",
    "    if output:\n",
    "        print('Initial guess for shift is: {}pix or {}nm'.format(np.asarray([guess_x]), sgraph.pix_to_wl(guess_x, order_idx)))\n",
    "    \n",
    "    # Use lmfit for fitting\n",
    "    gmod = lmfit.Model(order_model)\n",
    "    result = gmod.fit(ss_y, wl=ss_x, minWl=guess_x, method='lbfgsb', weights=1/np.sqrt(ss_y),\n",
    "                      options={'ftol':1e-20, 'gtol':1e-20, 'maxiter':20000*(len(ss_x) + 1), 'factr':1.0, 'disp':True, \n",
    "                               'eps':np.finfo(np.float64).eps, 'maxls':100, 'maxfun':100000, 'maxcor':100})\n",
    "#     result = gmod.fit(ss_y, wl=ss_x, minWl=guess_x, method='leastsq', weights=1/np.sqrt(ss_y),\n",
    "#                       options={'disp': True, 'xtol': 1e-20, 'ftol': 1e-20, 'maxiter':20000000, 'maxfev':200000})\n",
    "    pred_shift = result.params['minWl'].value\n",
    "    y_pred = result.best_fit\n",
    "    nfev = result.nfev\n",
    "    pred_shift_wl = sgraph.pix_to_wl(pred_shift, order_idx)\n",
    "    \n",
    "    if output:\n",
    "        print('Predicted shift is: {}pix or {}nm'.format(np.asarray([pred_shift]), pred_shift_wl))\n",
    "        print('Number of calls: {}'.format(nfev))\n",
    "    \n",
    "#     pred_peaks = get_peaks(pred_shift_wl, lfc, len(lfc_peaks))\n",
    "    \n",
    "    lse, error = pred_error(ss_y, y_pred, lfc.minWl, pred_shift_wl)\n",
    "    if output:\n",
    "        print('Least squares error is {}'.format(lse))\n",
    "        print('Error is: {}m/s'.format(error))\n",
    "    \n",
    "    if plot:\n",
    "        plot_fit(sgraph, lfc, order_idx, x, y, ss_x, ss_y, y_pred, guess_x, pred_shift_wl)\n",
    "    \n",
    "    return ss_x, ss_y, pred_shift, lse, error"
   ]
  },
  {
   "cell_type": "code",
   "execution_count": 217,
   "metadata": {
    "collapsed": false
   },
   "outputs": [],
   "source": [
    "rand = np.random.random(1)[0]\n",
    "SNR = 1000\n",
    "# def __init__(self, initFilePath, bgrNoiseMu, bgrNoiseSD, fwhm, precision, blaze):\n",
    "sgraph = Spectrograph('../data/expres_specs.csv', 1000.0, 300.0, 0.0075, 1.0, True)\n",
    "# def __init__(self, intensity, minWl, maxWl, dWl):\n",
    "lfc = LFC(SNR ** 2, sgraph.order_min[-1], sgraph.order_max[0] - 1, 1 / 31.0) # First order has highest wl!"
   ]
  },
  {
   "cell_type": "code",
   "execution_count": 218,
   "metadata": {
    "collapsed": false
   },
   "outputs": [
    {
     "ename": "NameError",
     "evalue": "global name 'solution' is not defined",
     "output_type": "error",
     "traceback": [
      "\u001b[1;31m---------------------------------------------------------------------------\u001b[0m",
      "\u001b[1;31mNameError\u001b[0m                                 Traceback (most recent call last)",
      "\u001b[1;32m<ipython-input-218-1e78fa342e96>\u001b[0m in \u001b[0;36m<module>\u001b[1;34m()\u001b[0m\n\u001b[1;32m----> 1\u001b[1;33m \u001b[0mget_ipython\u001b[0m\u001b[1;33m(\u001b[0m\u001b[1;33m)\u001b[0m\u001b[1;33m.\u001b[0m\u001b[0mrun_cell_magic\u001b[0m\u001b[1;33m(\u001b[0m\u001b[1;34mu'time'\u001b[0m\u001b[1;33m,\u001b[0m \u001b[1;34mu''\u001b[0m\u001b[1;33m,\u001b[0m \u001b[1;34mu'interpolate = True\\n# def model(wl, minWl):\\n#     lfc_peaks = lfc.getPeaks()\\n#     maxWl = minWl + (len(lfc_peaks) * lfc.dWl * sgraph.fac)\\n#     result = per_gauss(wl, sgraph.psf_sigma * sgraph.fac + 1.1, minWl, maxWl, lfc.dWl * sgraph.fac, lfc.intensity)\\n#     if sgraph.blaze:\\n#         sigma = sgraph.xres / (2.0 * np.sqrt(2.0 * np.log(2)))  # Assume FWHM of blaze is FSR of order\\n#         result = result * np.exp(-(wl - (sgraph.xres / 2)) ** 2 / (2.0 * sigma ** 2)) \\n#     return result\\nfind_lfc_peaks(sgraph, lfc, 151, interpolate)'\u001b[0m\u001b[1;33m)\u001b[0m\u001b[1;33m\u001b[0m\u001b[0m\n\u001b[0m",
      "\u001b[1;32m/usr/lib/python2.7/site-packages/IPython/core/interactiveshell.pyc\u001b[0m in \u001b[0;36mrun_cell_magic\u001b[1;34m(self, magic_name, line, cell)\u001b[0m\n\u001b[0;32m   2118\u001b[0m             \u001b[0mmagic_arg_s\u001b[0m \u001b[1;33m=\u001b[0m \u001b[0mself\u001b[0m\u001b[1;33m.\u001b[0m\u001b[0mvar_expand\u001b[0m\u001b[1;33m(\u001b[0m\u001b[0mline\u001b[0m\u001b[1;33m,\u001b[0m \u001b[0mstack_depth\u001b[0m\u001b[1;33m)\u001b[0m\u001b[1;33m\u001b[0m\u001b[0m\n\u001b[0;32m   2119\u001b[0m             \u001b[1;32mwith\u001b[0m \u001b[0mself\u001b[0m\u001b[1;33m.\u001b[0m\u001b[0mbuiltin_trap\u001b[0m\u001b[1;33m:\u001b[0m\u001b[1;33m\u001b[0m\u001b[0m\n\u001b[1;32m-> 2120\u001b[1;33m                 \u001b[0mresult\u001b[0m \u001b[1;33m=\u001b[0m \u001b[0mfn\u001b[0m\u001b[1;33m(\u001b[0m\u001b[0mmagic_arg_s\u001b[0m\u001b[1;33m,\u001b[0m \u001b[0mcell\u001b[0m\u001b[1;33m)\u001b[0m\u001b[1;33m\u001b[0m\u001b[0m\n\u001b[0m\u001b[0;32m   2121\u001b[0m             \u001b[1;32mreturn\u001b[0m \u001b[0mresult\u001b[0m\u001b[1;33m\u001b[0m\u001b[0m\n\u001b[0;32m   2122\u001b[0m \u001b[1;33m\u001b[0m\u001b[0m\n",
      "\u001b[1;32m<decorator-gen-60>\u001b[0m in \u001b[0;36mtime\u001b[1;34m(self, line, cell, local_ns)\u001b[0m\n",
      "\u001b[1;32m/usr/lib/python2.7/site-packages/IPython/core/magic.pyc\u001b[0m in \u001b[0;36m<lambda>\u001b[1;34m(f, *a, **k)\u001b[0m\n\u001b[0;32m    191\u001b[0m     \u001b[1;31m# but it's overkill for just that one bit of state.\u001b[0m\u001b[1;33m\u001b[0m\u001b[1;33m\u001b[0m\u001b[0m\n\u001b[0;32m    192\u001b[0m     \u001b[1;32mdef\u001b[0m \u001b[0mmagic_deco\u001b[0m\u001b[1;33m(\u001b[0m\u001b[0marg\u001b[0m\u001b[1;33m)\u001b[0m\u001b[1;33m:\u001b[0m\u001b[1;33m\u001b[0m\u001b[0m\n\u001b[1;32m--> 193\u001b[1;33m         \u001b[0mcall\u001b[0m \u001b[1;33m=\u001b[0m \u001b[1;32mlambda\u001b[0m \u001b[0mf\u001b[0m\u001b[1;33m,\u001b[0m \u001b[1;33m*\u001b[0m\u001b[0ma\u001b[0m\u001b[1;33m,\u001b[0m \u001b[1;33m**\u001b[0m\u001b[0mk\u001b[0m\u001b[1;33m:\u001b[0m \u001b[0mf\u001b[0m\u001b[1;33m(\u001b[0m\u001b[1;33m*\u001b[0m\u001b[0ma\u001b[0m\u001b[1;33m,\u001b[0m \u001b[1;33m**\u001b[0m\u001b[0mk\u001b[0m\u001b[1;33m)\u001b[0m\u001b[1;33m\u001b[0m\u001b[0m\n\u001b[0m\u001b[0;32m    194\u001b[0m \u001b[1;33m\u001b[0m\u001b[0m\n\u001b[0;32m    195\u001b[0m         \u001b[1;32mif\u001b[0m \u001b[0mcallable\u001b[0m\u001b[1;33m(\u001b[0m\u001b[0marg\u001b[0m\u001b[1;33m)\u001b[0m\u001b[1;33m:\u001b[0m\u001b[1;33m\u001b[0m\u001b[0m\n",
      "\u001b[1;32m/usr/lib/python2.7/site-packages/IPython/core/magics/execution.pyc\u001b[0m in \u001b[0;36mtime\u001b[1;34m(self, line, cell, local_ns)\u001b[0m\n\u001b[0;32m   1175\u001b[0m         \u001b[1;32melse\u001b[0m\u001b[1;33m:\u001b[0m\u001b[1;33m\u001b[0m\u001b[0m\n\u001b[0;32m   1176\u001b[0m             \u001b[0mst\u001b[0m \u001b[1;33m=\u001b[0m \u001b[0mclock2\u001b[0m\u001b[1;33m(\u001b[0m\u001b[1;33m)\u001b[0m\u001b[1;33m\u001b[0m\u001b[0m\n\u001b[1;32m-> 1177\u001b[1;33m             \u001b[1;32mexec\u001b[0m\u001b[1;33m(\u001b[0m\u001b[0mcode\u001b[0m\u001b[1;33m,\u001b[0m \u001b[0mglob\u001b[0m\u001b[1;33m,\u001b[0m \u001b[0mlocal_ns\u001b[0m\u001b[1;33m)\u001b[0m\u001b[1;33m\u001b[0m\u001b[0m\n\u001b[0m\u001b[0;32m   1178\u001b[0m             \u001b[0mend\u001b[0m \u001b[1;33m=\u001b[0m \u001b[0mclock2\u001b[0m\u001b[1;33m(\u001b[0m\u001b[1;33m)\u001b[0m\u001b[1;33m\u001b[0m\u001b[0m\n\u001b[0;32m   1179\u001b[0m             \u001b[0mout\u001b[0m \u001b[1;33m=\u001b[0m \u001b[0mNone\u001b[0m\u001b[1;33m\u001b[0m\u001b[0m\n",
      "\u001b[1;32m<timed exec>\u001b[0m in \u001b[0;36m<module>\u001b[1;34m()\u001b[0m\n",
      "\u001b[1;32m<ipython-input-216-5704df68fcd6>\u001b[0m in \u001b[0;36mfind_lfc_peaks\u001b[1;34m(sgraph, lfc, order, interpolate, output, plot, order_model)\u001b[0m\n\u001b[0;32m     25\u001b[0m     \u001b[0morder_beam\u001b[0m \u001b[1;33m=\u001b[0m \u001b[1;33m{\u001b[0m\u001b[0mk\u001b[0m\u001b[1;33m:\u001b[0m \u001b[0mv\u001b[0m \u001b[1;32mfor\u001b[0m \u001b[0mk\u001b[0m\u001b[1;33m,\u001b[0m \u001b[0mv\u001b[0m \u001b[1;32min\u001b[0m \u001b[0mlfc_beam\u001b[0m\u001b[1;33m.\u001b[0m\u001b[0miteritems\u001b[0m\u001b[1;33m(\u001b[0m\u001b[1;33m)\u001b[0m \u001b[1;32mif\u001b[0m \u001b[0mk\u001b[0m \u001b[1;33m>\u001b[0m \u001b[0morder_min\u001b[0m\u001b[1;33m}\u001b[0m\u001b[1;33m\u001b[0m\u001b[0m\n\u001b[0;32m     26\u001b[0m     \u001b[0msolution_wl\u001b[0m \u001b[1;33m=\u001b[0m \u001b[0mmin\u001b[0m\u001b[1;33m(\u001b[0m\u001b[0morder_beam\u001b[0m\u001b[1;33m)\u001b[0m\u001b[1;33m\u001b[0m\u001b[0m\n\u001b[1;32m---> 27\u001b[1;33m     \u001b[0msolution_pix\u001b[0m \u001b[1;33m=\u001b[0m \u001b[0msgraph\u001b[0m\u001b[1;33m.\u001b[0m\u001b[0mwl_to_pix\u001b[0m\u001b[1;33m(\u001b[0m\u001b[0msolution\u001b[0m\u001b[1;33m,\u001b[0m \u001b[0morder_idx\u001b[0m\u001b[1;33m)\u001b[0m\u001b[1;33m\u001b[0m\u001b[0m\n\u001b[0m\u001b[0;32m     28\u001b[0m     \u001b[1;32mif\u001b[0m \u001b[0moutput\u001b[0m\u001b[1;33m:\u001b[0m\u001b[1;33m\u001b[0m\u001b[0m\n\u001b[0;32m     29\u001b[0m         \u001b[1;32mprint\u001b[0m\u001b[1;33m(\u001b[0m\u001b[1;34m'Solution is: {}pix or {}nm'\u001b[0m\u001b[1;33m.\u001b[0m\u001b[0mformat\u001b[0m\u001b[1;33m(\u001b[0m\u001b[0msolution_pix\u001b[0m\u001b[1;33m,\u001b[0m \u001b[0msolution_wl\u001b[0m\u001b[1;33m)\u001b[0m\u001b[1;33m)\u001b[0m\u001b[1;33m\u001b[0m\u001b[0m\n",
      "\u001b[1;31mNameError\u001b[0m: global name 'solution' is not defined"
     ]
    }
   ],
   "source": [
    "%%time\n",
    "interpolate = True\n",
    "# def model(wl, minWl):\n",
    "#     lfc_peaks = lfc.getPeaks()\n",
    "#     maxWl = minWl + (len(lfc_peaks) * lfc.dWl * sgraph.fac)\n",
    "#     result = per_gauss(wl, sgraph.psf_sigma * sgraph.fac + 1.1, minWl, maxWl, lfc.dWl * sgraph.fac, lfc.intensity)\n",
    "#     if sgraph.blaze:\n",
    "#         sigma = sgraph.xres / (2.0 * np.sqrt(2.0 * np.log(2)))  # Assume FWHM of blaze is FSR of order\n",
    "#         result = result * np.exp(-(wl - (sgraph.xres / 2)) ** 2 / (2.0 * sigma ** 2)) \n",
    "#     return result\n",
    "find_lfc_peaks(sgraph, lfc, 151, interpolate)"
   ]
  },
  {
   "cell_type": "code",
   "execution_count": null,
   "metadata": {
    "collapsed": false
   },
   "outputs": [],
   "source": [
    "%%time\n",
    "# Make a plot of error to SNR\n",
    "def sensitivity(sgraph, lfc, attr, nReps, rang, tol=6, **kwargs):\n",
    "    x = np.zeros(len(rang))\n",
    "    y = np.zeros((len(rang), nReps))\n",
    "    print('Running %d times for each value in %s' % (nReps, rang))\n",
    "    for i, val in enumerate(rang):\n",
    "        print('Run %d with %f %s' % (i, val, attr))\n",
    "        if hasattr(lfc, attr):\n",
    "            setattr(lfc, attr, val)\n",
    "        elif hasattr(sgraph, attr):\n",
    "            setattr(sgraph, attr, val)\n",
    "        else:\n",
    "            print('Error, bad attribute')\n",
    "            return\n",
    "        x[i] = val\n",
    "        for j in range(0, nReps):\n",
    "            err = tol\n",
    "            while err >= tol:\n",
    "                _, _, _, _, err = find_lfc_peaks(sgraph, lfc, True, **kwargs)\n",
    "            y[i][j] = err\n",
    "    return x,y"
   ]
  },
  {
   "cell_type": "markdown",
   "metadata": {},
   "source": [
    "# SNR sensitivity plot"
   ]
  },
  {
   "cell_type": "code",
   "execution_count": null,
   "metadata": {
    "collapsed": false
   },
   "outputs": [],
   "source": [
    "%%time\n",
    "rand = np.random.random(1)[0]\n",
    "sgraph = Spectrograph(4000, 80, 10.0, 399.0, 1000.0, 300.0, 0.0075, 1.0, True)\n",
    "lfc = LFC(1000000, 400 + rand, 430 + rand, 0.03)\n",
    "\n",
    "# rang = [10000, 40000, 90000, 160000, 250000, 360000]\n",
    "# rang = [490000, 640000, 810000, 1000000]\n",
    "rang = [200 ** 2, 400 ** 2, 600 ** 2, 800 ** 2, 1000 ** 2]\n",
    "print(rang)\n",
    "snr_plot_axis, snr_plot_data = sensitivity(sgraph, lfc, 'intensity', 20, rang, output=True, plot=False)\n",
    "plt.boxplot(np.transpose(snr_plot_data), labels=np.char.mod('%f', np.sqrt(snr_plot_axis)))\n",
    "plt.show()\n",
    "%store snr_plot_axis\n",
    "%store snr_plot_data"
   ]
  },
  {
   "cell_type": "code",
   "execution_count": null,
   "metadata": {
    "collapsed": false
   },
   "outputs": [],
   "source": [
    "plt.figure(1, figsize=(10,3))\n",
    "plt.boxplot(np.transpose(snr_plot_data), labels=np.char.mod('%.1f', np.sqrt(snr_plot_axis)))\n",
    "plt.ylabel('Error in m/s')\n",
    "plt.xlabel('SNR')\n",
    "ax = plt.subplot(111)\n",
    "ax.set_yscale('log')\n",
    "plt.ylim(1e-4, 1e1)\n",
    "plt.axhline(0.1, color='black', linestyle='dashed')\n",
    "plt.figtext(0.6, 0.35, 'Goal precision', size='xx-large')\n",
    "plt.savefig('../figs/snrverr.png')"
   ]
  },
  {
   "cell_type": "markdown",
   "metadata": {},
   "source": [
    "# PSF stability sensitivity plot"
   ]
  },
  {
   "cell_type": "code",
   "execution_count": null,
   "metadata": {
    "collapsed": false
   },
   "outputs": [],
   "source": [
    "%%time\n",
    "rand = np.random.random(1)[0]\n",
    "# def __init__(self, xres, nOrders, orderSize, minWl, bgrNoiseMu, bgrNoiseSD, fwhm, precision):\n",
    "sgraph = Spectrograph(4000, 80, 10.0, 399.0, 1000.0, 300.0, 0.0075, 1.0, True)\n",
    "# def __init__(self, intensity, minWl, maxWl, dWl):\n",
    "lfc = LFC(1000000, 400 + rand, 430 + rand, 0.03)\n",
    "\n",
    "\n",
    "rang = [(0.0075 + (0.0025 / 10)) / (2 * np.sqrt(2 * np.log(2))), \n",
    "        (0.0075 + (0.0025 / 25)) / (2 * np.sqrt(2 * np.log(2))),\n",
    "        (0.0075 + (0.0025 / 50)) / (2 * np.sqrt(2 * np.log(2))),\n",
    "        (0.0075 + (0.0025 / 100)) / (2 * np.sqrt(2 * np.log(2)))]\n",
    "print(rang)\n",
    "model_sigma = sgraph.psf_sigma * sgraph.fac\n",
    "def model(wl, minWl):\n",
    "    lfc_peaks = lfc.getPeaks()\n",
    "    maxWl = minWl + (len(lfc_peaks) * lfc.dWl * sgraph.fac)\n",
    "    result = per_gauss(wl, model_sigma, minWl, maxWl, lfc.dWl * sgraph.fac, lfc.intensity)\n",
    "    if sgraph.blaze:\n",
    "        sigma = sgraph.xres / (2.0 * np.sqrt(2.0 * np.log(2)))  # Assume FWHM of blaze is FSR of order\n",
    "        result = result * np.exp(-(wl - (sgraph.xres / 2)) ** 2 / (2.0 * sigma ** 2)) \n",
    "    return result\n",
    "\n",
    "psf_plot_axis, psf_plot_data = sensitivity(sgraph, lfc, 'psf_sigma', 20, rang, tol=10, plot=True, output=True, order_model=model)\n",
    "plt.boxplot(np.transpose(psf_plot_data), labels=np.char.mod('%e', np.arange(2.7, 3.31, 1/10.0)))\n",
    "plt.show()\n",
    "%store psf_plot_axis\n",
    "%store psf_plot_data"
   ]
  },
  {
   "cell_type": "code",
   "execution_count": null,
   "metadata": {
    "collapsed": false
   },
   "outputs": [],
   "source": [
    "plt.figure(1, figsize=(10,3))\n",
    "plt.boxplot(np.transpose(psf_plot_data), labels=np.char.mod('%.2f', np.asarray([3.1, 3.04, 3.02, 3.01])))\n",
    "plt.xlabel('Full width at half maximum of simulated PSF')\n",
    "plt.ylabel('Error in m/s')\n",
    "plt.savefig('../figs/stabverr.png')\n",
    "# Add some more points, in range 1/10th pixel. Maybe (0.5, 0.1, 0.01), something like that"
   ]
  },
  {
   "cell_type": "markdown",
   "metadata": {},
   "source": [
    "# Correlation of residuals with shift difference"
   ]
  },
  {
   "cell_type": "code",
   "execution_count": null,
   "metadata": {
    "collapsed": false
   },
   "outputs": [],
   "source": [
    "%%time\n",
    "rand = np.random.random(1)[0]\n",
    "SNR = 1000\n",
    "n = 100\n",
    "tol = 100.0\n",
    "lses = np.zeros(n)\n",
    "errors = np.zeros(n)\n",
    "for i in range(0, n):\n",
    "    print('Run %d:' % (i))\n",
    "    # def __init__(self, xres, nOrders, orderSize, minWl, bgrNoiseMu, bgrNoiseSD, fwhm, precision):\n",
    "    sgraph = Spectrograph(4000, 80, 10.0, 399.0, 1000.0, 300.0, 0.0075, 1.0, True)\n",
    "    # def __init__(self, intensity, minWl, maxWl, dWl):\n",
    "    lfc = LFC(SNR ** 2, 400 + rand, 430 + rand, 1/31.0)\n",
    "    interpolate = True\n",
    "    error = tol + 1\n",
    "    while error >= tol:\n",
    "        _, _, _, lse, error = find_lfc_peaks(sgraph, lfc, interpolate, output=True, plot=False)\n",
    "    lses[i] = lse\n",
    "    errors[i] = error\n",
    "%store lses\n",
    "%store errors\n",
    "plt.scatter(errors, lses)"
   ]
  },
  {
   "cell_type": "code",
   "execution_count": null,
   "metadata": {
    "collapsed": false
   },
   "outputs": [],
   "source": [
    "def fit(x, m, b):\n",
    "    return m*x+b\n",
    "gmod = lmfit.Model(fit)\n",
    "result = gmod.fit(lses, x=errors, m=1, b=0, method='leastsq', options={})\n",
    "print(result.fit_report())\n",
    "print(result.ci_report())\n",
    "preds = result.best_fit\n",
    "plt.scatter(errors, lses)\n",
    "plt.plot(errors, preds)\n",
    "m = result.params['m'].value\n",
    "b = result.params['b'].value\n",
    "print('m: %f, b: %f' % (m, b))\n"
   ]
  },
  {
   "cell_type": "code",
   "execution_count": null,
   "metadata": {
    "collapsed": false
   },
   "outputs": [],
   "source": [
    "plt.hist(lses)"
   ]
  },
  {
   "cell_type": "markdown",
   "metadata": {},
   "source": [
    "# Assigning wavelengths to pixels"
   ]
  },
  {
   "cell_type": "code",
   "execution_count": null,
   "metadata": {
    "collapsed": false
   },
   "outputs": [],
   "source": [
    "rand = np.random.random(1)[0]\n",
    "interpolate = True\n",
    "SNR = 1000\n",
    "# def __init__(self, xres, nOrders, orderSize, minWl, bgrNoiseMu, bgrNoiseSD, fwhm, precision):\n",
    "sgraph = Spectrograph(4000, 80, 10.0, 399.0, 1000.0, 300.0, 0.0075, 1.0, True)\n",
    "# def __init__(self, intensity, minWl, maxWl, dWl):\n",
    "lfc = LFC(SNR ** 2, 400 + rand, 430 + rand, 1/31.0)\n",
    "x, y, pred_shift, _, _ = find_lfc_peaks(sgraph, lfc, interpolate)\n",
    "pred_shift_wl = sgraph.pix_to_wl(pred_shift)\n",
    "peaks = get_peaks(pred_shift, sgraph, lfc, len(lfc.getPeaks()), mode='pix')\n",
    "bstrap_space = sgraph.bstrap_space(orders=[0])\n",
    "\n",
    "plt.scatter(x, y)\n",
    "for peak in peaks:\n",
    "    plt.axvline(peak)\n",
    "plt.show()"
   ]
  },
  {
   "cell_type": "markdown",
   "metadata": {},
   "source": [
    "# Notes\n",
    "**For future**:\n",
    "- Make a table of effect of increasing the lfc intensity\n",
    "- Create plot of jitter to error\n",
    "- Resolution = wl of order / (wl to pix ratio) -> 400 / 0.025\n",
    "- 80 orders [pix, intens, order]\n",
    "- Further away orders are distorted\n",
    "- Should use adjacent order\n",
    "- Generate plots of SNR to error in cm/s\n",
    "    - Moving Sigma from 2 to 4, R from 50,000 to 20,0000\n",
    "- Paper submission to PASP\n",
    "\n",
    "**Open questions**:\n",
    "- Spectrograph error distribution: what is a good mean and a mean sdev?\n",
    "- Doing least squares: should I weight according to error? For example, know error increases with intensity\n",
    "\n",
    "\n",
    "**Todays notes**:\n",
    "Stop plot at SNR 500 (intensity 250,000)\n",
    "\n",
    "\n",
    "**Ask tyler for specs of EXPRESS**\n",
    "IOP paper guidelines"
   ]
  },
  {
   "cell_type": "code",
   "execution_count": null,
   "metadata": {
    "collapsed": false
   },
   "outputs": [],
   "source": [
    "plt.boxplot(np.transpose(y), labels=x)\n",
    "plt.ylim(0,3)\n",
    "plt.show()"
   ]
  },
  {
   "cell_type": "code",
   "execution_count": null,
   "metadata": {
    "collapsed": false
   },
   "outputs": [],
   "source": [
    "print(y)"
   ]
  },
  {
   "cell_type": "markdown",
   "metadata": {},
   "source": [
    "# Using energy instead of SNR directly"
   ]
  },
  {
   "cell_type": "code",
   "execution_count": null,
   "metadata": {
    "collapsed": false
   },
   "outputs": [],
   "source": [
    "hc = 1.9864458e-25\n",
    "integ = integrate.quad(lambda wl: gauss(wl, 0, 4, 1), -np.inf, np.inf)\n",
    "# x = np.linspace(-20, 20, 1000)\n",
    "# y = gauss(x, 0, 4, 1)\n",
    "# plt.hist(y, 100)\n",
    "# plt.plot(x,y)\n",
    "print(integ[0])\n",
    "# k = laser_E / photon_energy\n",
    "laser_e = 12\n",
    "wl = 400e-9\n",
    "k = (laser_e / (hc / wl)) / integ[0]\n",
    "k"
   ]
  },
  {
   "cell_type": "markdown",
   "metadata": {},
   "source": [
    "# Failed code to use multiple orders in fitting: impossible!"
   ]
  },
  {
   "cell_type": "code",
   "execution_count": null,
   "metadata": {
    "collapsed": true
   },
   "outputs": [],
   "source": [
    "def find_lfc_peaks_mult_orders(sgraph, lfc, orderId):\n",
    "    lfc_peaks = lfc.getPeaks()\n",
    "    \n",
    "    print('Solution is: {}pix or {}nm'.format(sgraph.wl_to_pix(lfc.minWl), lfc.minWl))\n",
    "\n",
    "    space, obs = sgraph.observe([lfc.simulate()])\n",
    "    \n",
    "    bottom = False\n",
    "    top = False\n",
    "    mid = False\n",
    "    orders = []\n",
    "    spaces = []\n",
    "    # Select relevant orders\n",
    "    if orderId == 0: # If first order in spectrum\n",
    "        bottom = True\n",
    "        orders.append(obs[0])\n",
    "        spaces.append(space[0])\n",
    "        if len(obs) > 1:\n",
    "            orders.append(obs[1])\n",
    "            spaces.append(space[1])\n",
    "    elif orderId == len(obs) - 1: # else if last\n",
    "        top = True\n",
    "        orders.append(obs[-1])\n",
    "        spaces.append(space[-1])\n",
    "        if len(obs) > 1:\n",
    "            orders.append(obs[-2])\n",
    "            spaces.append(space[-2])\n",
    "    else: # else middle order\n",
    "        mid = True\n",
    "        orders.append(obs[orderId - 1])\n",
    "        spaces.append(space[orderId - 1])\n",
    "        orders.append(obs[orderId])\n",
    "        spaces.append(space[orderId])\n",
    "        orders.append(obs[orderId + 1])\n",
    "        spaces.append(space[orderId + 1])\n",
    "        \n",
    "    ss_xres = 5 * sgraph.xres\n",
    "    ss_xs = np.empty((len(orders), ss_xres))\n",
    "    ss_ys = np.empty((len(orders), ss_xres))\n",
    "    prev_range = None\n",
    "    # Interpolate selected orders\n",
    "    for i in range(0, len(orders)):\n",
    "        x = spaces[i]\n",
    "        y = orders[i]\n",
    "        \n",
    "        spl = interpolate.UnivariateSpline(x, y, k=3)\n",
    "        # This is the tricky part. I need the 'distance' between orders, so that I can\n",
    "        # align them in pixel space correctly. For now, I am assuming that they are adjacent\n",
    "#         ss_x = np.linspace(order_range[0], order_range[1], ss_xres, dtype=np.float64)\n",
    "        ss_x = np.linspace(x[0], x[-1], ss_xres)\n",
    "        ss_y = spl(ss_x)\n",
    "        ss_y[ss_y <= 0.0] = 1e-15\n",
    "        \n",
    "        ss_xs[i] = ss_x\n",
    "        ss_ys[i] = ss_y\n",
    "        \n",
    "    # Paste orders together\n",
    "    all_ss_x = np.concatenate(ss_xs)\n",
    "    all_ss_y = np.concatenate(ss_ys)\n",
    "    \n",
    "    # Fit on interpolated data\n",
    "    def per_gauss_fit(wl, shift):\n",
    "        # per_gauss(wl, sigma, minWl, maxWl, period, amplitude):\n",
    "        return per_gauss(wl, sgraph.sigma * sgraph.fac, all_ss_x[0] + shift, all_ss_x[-1] + shift, \n",
    "                         lfc.dWl * sgraph.fac, lfc.intensity)\n",
    "    \n",
    "    def err_func(shift):\n",
    "        err = 0.0\n",
    "        # Fit the same per_gauss on each order\n",
    "        for i in range(0, len(ss_xs)):\n",
    "            err += np.mean(np.abs(per_gauss_fit(ss_xs[i], shift) - ss_ys[i]))\n",
    "        return err\n",
    "        \n",
    "    guess_x, guess_y = guess_min(ss_xs[0], ss_ys[0])\n",
    "    print('Initial guess for shift is: {}pix or {}nm'.format(np.asarray([guess_x]), sgraph.pix_to_wl(guess_x)))\n",
    "    \n",
    "    gmod = lmfit.Model(per_gauss_fit)\n",
    "    # Should weight as well!!\n",
    "    result = gmod.fit(all_ss_y, wl=all_ss_x, shift=guess_x, method='lbfgsb', \n",
    "                      options={'ftol':1e-20, 'gtol':1e-20, 'maxiter':20000*(len(ss_x) + 1), 'factr':1.0, 'disp':True, \n",
    "                               'eps':np.finfo(np.float64).eps, 'maxls':100, 'maxfun':100000, 'maxcor':100})\n",
    "    pred_shift = result.params['shift'].value\n",
    "    all_y_pred = result.best_fit\n",
    "    nfev = result.nfev\n",
    "    \n",
    "    pred_shift_wl = sgraph.pix_to_wl(pred_shift)\n",
    "    \n",
    "    print('Predicted shift is: {}pix or {}nm'.format(np.asarray([pred_shift]), pred_shift_wl))\n",
    "    print('Number of calls: {}'.format(nfev))\n",
    "  \n",
    "    lse, error = pred_error(all_ss_y, all_y_pred, lfc.minWl, pred_shift_wl)\n",
    "    print('Least squares error is {}'.format(lse))\n",
    "    print('Error is: {}m/s'.format(error))\n",
    "    \n",
    "    plt.scatter(all_ss_x, all_ss_y, color='blue')\n",
    "    plt.plot(all_ss_x, all_y_pred, color='red')\n",
    "    plt.axvline(guess_x, color='turquoise')\n",
    "#     plt.xlim(sgraph.wl_to_pix(lfc.minWl - 3 * lfc.dWl), sgraph.wl_to_pix(lfc.minWl + 12 * lfc.dWl))\n",
    "    plt.xlim(7000, 7150)\n",
    "    fig = plt.show()\n",
    "    \n",
    "    return error"
   ]
  }
 ],
 "metadata": {
  "kernelspec": {
   "display_name": "Python 2",
   "language": "python",
   "name": "python2"
  },
  "language_info": {
   "codemirror_mode": {
    "name": "ipython",
    "version": 2
   },
   "file_extension": ".py",
   "mimetype": "text/x-python",
   "name": "python",
   "nbconvert_exporter": "python",
   "pygments_lexer": "ipython2",
   "version": "2.7.11"
  }
 },
 "nbformat": 4,
 "nbformat_minor": 0
}
