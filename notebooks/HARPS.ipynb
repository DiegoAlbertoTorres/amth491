{
 "cells": [
  {
   "cell_type": "code",
   "execution_count": 5,
   "metadata": {
    "collapsed": true
   },
   "outputs": [],
   "source": [
    "from astropy.io import fits\n",
    "import matplotlib\n",
    "import matplotlib.pyplot as plt\n",
    "# %matplotlib inline"
   ]
  },
  {
   "cell_type": "code",
   "execution_count": 6,
   "metadata": {
    "collapsed": false
   },
   "outputs": [
    {
     "name": "stdout",
     "output_type": "stream",
     "text": [
      "Filename: ../HARPS_LFC/reduced/HARPS.2015-04-15T21_46_34.145_e2ds_A.fits\n",
      "No.    Name         Type      Cards   Dimensions   Format\n",
      "0    PRIMARY     PrimaryHDU    2852   (4096, 72)   float32   \n",
      "None\n"
     ]
    }
   ],
   "source": [
    "data_57 = fits.open('../HARPS_LFC/reduced/HARPS.2015-04-15T21_46_34.145_e2ds_A.fits')\n",
    "print(data_57.info())\n",
    "image_data = data_57[0].data\n",
    "# print(image_data)\n",
    "fig, ax = plt.subplots(figsize=(10, 10))\n",
    "ax.imshow(image_data, cmap='gray')\n",
    "plt.show()\n",
    "# ax.colorbar()\n",
    "# print(image_data[1])\n",
    "# plt.plot(image_data[10])"
   ]
  }
 ],
 "metadata": {
  "kernelspec": {
   "display_name": "Python 2",
   "language": "python",
   "name": "python2"
  },
  "language_info": {
   "codemirror_mode": {
    "name": "ipython",
    "version": 2
   },
   "file_extension": ".py",
   "mimetype": "text/x-python",
   "name": "python",
   "nbconvert_exporter": "python",
   "pygments_lexer": "ipython2",
   "version": "2.7.11"
  }
 },
 "nbformat": 4,
 "nbformat_minor": 0
}
